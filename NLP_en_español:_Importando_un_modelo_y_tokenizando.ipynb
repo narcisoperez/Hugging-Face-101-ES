{
  "nbformat": 4,
  "nbformat_minor": 0,
  "metadata": {
    "colab": {
      "name": "BETO_01_Importación_y_tokenizing.ipynb",
      "provenance": [],
      "collapsed_sections": [],
      "authorship_tag": "ABX9TyOm+kn1zKOc0opxZ9vwFaRW",
      "include_colab_link": true
    },
    "kernelspec": {
      "name": "python3",
      "display_name": "Python 3"
    },
    "accelerator": "GPU",
    "widgets": {
      "application/vnd.jupyter.widget-state+json": {
        "e651dea9287a41aaa5840ffe80e928e4": {
          "model_module": "@jupyter-widgets/controls",
          "model_name": "HBoxModel",
          "model_module_version": "1.5.0",
          "state": {
            "_view_name": "HBoxView",
            "_dom_classes": [],
            "_model_name": "HBoxModel",
            "_view_module": "@jupyter-widgets/controls",
            "_model_module_version": "1.5.0",
            "_view_count": null,
            "_view_module_version": "1.5.0",
            "box_style": "",
            "layout": "IPY_MODEL_d38a405b1bc24b5a995a5491d1f4277f",
            "_model_module": "@jupyter-widgets/controls",
            "children": [
              "IPY_MODEL_628be958e244443097fa501566556035",
              "IPY_MODEL_69b3205bcf4f49dc990a3ff2085ae2e0",
              "IPY_MODEL_470e68c4922441fb98d1654884047c8a"
            ]
          }
        },
        "d38a405b1bc24b5a995a5491d1f4277f": {
          "model_module": "@jupyter-widgets/base",
          "model_name": "LayoutModel",
          "model_module_version": "1.2.0",
          "state": {
            "_view_name": "LayoutView",
            "grid_template_rows": null,
            "right": null,
            "justify_content": null,
            "_view_module": "@jupyter-widgets/base",
            "overflow": null,
            "_model_module_version": "1.2.0",
            "_view_count": null,
            "flex_flow": null,
            "width": null,
            "min_width": null,
            "border": null,
            "align_items": null,
            "bottom": null,
            "_model_module": "@jupyter-widgets/base",
            "top": null,
            "grid_column": null,
            "overflow_y": null,
            "overflow_x": null,
            "grid_auto_flow": null,
            "grid_area": null,
            "grid_template_columns": null,
            "flex": null,
            "_model_name": "LayoutModel",
            "justify_items": null,
            "grid_row": null,
            "max_height": null,
            "align_content": null,
            "visibility": null,
            "align_self": null,
            "height": null,
            "min_height": null,
            "padding": null,
            "grid_auto_rows": null,
            "grid_gap": null,
            "max_width": null,
            "order": null,
            "_view_module_version": "1.2.0",
            "grid_template_areas": null,
            "object_position": null,
            "object_fit": null,
            "grid_auto_columns": null,
            "margin": null,
            "display": null,
            "left": null
          }
        },
        "628be958e244443097fa501566556035": {
          "model_module": "@jupyter-widgets/controls",
          "model_name": "HTMLModel",
          "model_module_version": "1.5.0",
          "state": {
            "_view_name": "HTMLView",
            "style": "IPY_MODEL_f9d336722c2b4dcf89d11abedfecf7bf",
            "_dom_classes": [],
            "description": "",
            "_model_name": "HTMLModel",
            "placeholder": "​",
            "_view_module": "@jupyter-widgets/controls",
            "_model_module_version": "1.5.0",
            "value": "Downloading: 100%",
            "_view_count": null,
            "_view_module_version": "1.5.0",
            "description_tooltip": null,
            "_model_module": "@jupyter-widgets/controls",
            "layout": "IPY_MODEL_65cdde3c30254596895508ea4c905b01"
          }
        },
        "69b3205bcf4f49dc990a3ff2085ae2e0": {
          "model_module": "@jupyter-widgets/controls",
          "model_name": "FloatProgressModel",
          "model_module_version": "1.5.0",
          "state": {
            "_view_name": "ProgressView",
            "style": "IPY_MODEL_d35a267b7492416fa47db35ca6323138",
            "_dom_classes": [],
            "description": "",
            "_model_name": "FloatProgressModel",
            "bar_style": "success",
            "max": 241796,
            "_view_module": "@jupyter-widgets/controls",
            "_model_module_version": "1.5.0",
            "value": 241796,
            "_view_count": null,
            "_view_module_version": "1.5.0",
            "orientation": "horizontal",
            "min": 0,
            "description_tooltip": null,
            "_model_module": "@jupyter-widgets/controls",
            "layout": "IPY_MODEL_b1737a02dc38481e8aa9f3327f5061bc"
          }
        },
        "470e68c4922441fb98d1654884047c8a": {
          "model_module": "@jupyter-widgets/controls",
          "model_name": "HTMLModel",
          "model_module_version": "1.5.0",
          "state": {
            "_view_name": "HTMLView",
            "style": "IPY_MODEL_8ae4d0d49c44403d812e0862b37217ec",
            "_dom_classes": [],
            "description": "",
            "_model_name": "HTMLModel",
            "placeholder": "​",
            "_view_module": "@jupyter-widgets/controls",
            "_model_module_version": "1.5.0",
            "value": " 236k/236k [00:00&lt;00:00, 668kB/s]",
            "_view_count": null,
            "_view_module_version": "1.5.0",
            "description_tooltip": null,
            "_model_module": "@jupyter-widgets/controls",
            "layout": "IPY_MODEL_1d208d0106714986a0d052189c305efd"
          }
        },
        "f9d336722c2b4dcf89d11abedfecf7bf": {
          "model_module": "@jupyter-widgets/controls",
          "model_name": "DescriptionStyleModel",
          "model_module_version": "1.5.0",
          "state": {
            "_view_name": "StyleView",
            "_model_name": "DescriptionStyleModel",
            "description_width": "",
            "_view_module": "@jupyter-widgets/base",
            "_model_module_version": "1.5.0",
            "_view_count": null,
            "_view_module_version": "1.2.0",
            "_model_module": "@jupyter-widgets/controls"
          }
        },
        "65cdde3c30254596895508ea4c905b01": {
          "model_module": "@jupyter-widgets/base",
          "model_name": "LayoutModel",
          "model_module_version": "1.2.0",
          "state": {
            "_view_name": "LayoutView",
            "grid_template_rows": null,
            "right": null,
            "justify_content": null,
            "_view_module": "@jupyter-widgets/base",
            "overflow": null,
            "_model_module_version": "1.2.0",
            "_view_count": null,
            "flex_flow": null,
            "width": null,
            "min_width": null,
            "border": null,
            "align_items": null,
            "bottom": null,
            "_model_module": "@jupyter-widgets/base",
            "top": null,
            "grid_column": null,
            "overflow_y": null,
            "overflow_x": null,
            "grid_auto_flow": null,
            "grid_area": null,
            "grid_template_columns": null,
            "flex": null,
            "_model_name": "LayoutModel",
            "justify_items": null,
            "grid_row": null,
            "max_height": null,
            "align_content": null,
            "visibility": null,
            "align_self": null,
            "height": null,
            "min_height": null,
            "padding": null,
            "grid_auto_rows": null,
            "grid_gap": null,
            "max_width": null,
            "order": null,
            "_view_module_version": "1.2.0",
            "grid_template_areas": null,
            "object_position": null,
            "object_fit": null,
            "grid_auto_columns": null,
            "margin": null,
            "display": null,
            "left": null
          }
        },
        "d35a267b7492416fa47db35ca6323138": {
          "model_module": "@jupyter-widgets/controls",
          "model_name": "ProgressStyleModel",
          "model_module_version": "1.5.0",
          "state": {
            "_view_name": "StyleView",
            "_model_name": "ProgressStyleModel",
            "description_width": "",
            "_view_module": "@jupyter-widgets/base",
            "_model_module_version": "1.5.0",
            "_view_count": null,
            "_view_module_version": "1.2.0",
            "bar_color": null,
            "_model_module": "@jupyter-widgets/controls"
          }
        },
        "b1737a02dc38481e8aa9f3327f5061bc": {
          "model_module": "@jupyter-widgets/base",
          "model_name": "LayoutModel",
          "model_module_version": "1.2.0",
          "state": {
            "_view_name": "LayoutView",
            "grid_template_rows": null,
            "right": null,
            "justify_content": null,
            "_view_module": "@jupyter-widgets/base",
            "overflow": null,
            "_model_module_version": "1.2.0",
            "_view_count": null,
            "flex_flow": null,
            "width": null,
            "min_width": null,
            "border": null,
            "align_items": null,
            "bottom": null,
            "_model_module": "@jupyter-widgets/base",
            "top": null,
            "grid_column": null,
            "overflow_y": null,
            "overflow_x": null,
            "grid_auto_flow": null,
            "grid_area": null,
            "grid_template_columns": null,
            "flex": null,
            "_model_name": "LayoutModel",
            "justify_items": null,
            "grid_row": null,
            "max_height": null,
            "align_content": null,
            "visibility": null,
            "align_self": null,
            "height": null,
            "min_height": null,
            "padding": null,
            "grid_auto_rows": null,
            "grid_gap": null,
            "max_width": null,
            "order": null,
            "_view_module_version": "1.2.0",
            "grid_template_areas": null,
            "object_position": null,
            "object_fit": null,
            "grid_auto_columns": null,
            "margin": null,
            "display": null,
            "left": null
          }
        },
        "8ae4d0d49c44403d812e0862b37217ec": {
          "model_module": "@jupyter-widgets/controls",
          "model_name": "DescriptionStyleModel",
          "model_module_version": "1.5.0",
          "state": {
            "_view_name": "StyleView",
            "_model_name": "DescriptionStyleModel",
            "description_width": "",
            "_view_module": "@jupyter-widgets/base",
            "_model_module_version": "1.5.0",
            "_view_count": null,
            "_view_module_version": "1.2.0",
            "_model_module": "@jupyter-widgets/controls"
          }
        },
        "1d208d0106714986a0d052189c305efd": {
          "model_module": "@jupyter-widgets/base",
          "model_name": "LayoutModel",
          "model_module_version": "1.2.0",
          "state": {
            "_view_name": "LayoutView",
            "grid_template_rows": null,
            "right": null,
            "justify_content": null,
            "_view_module": "@jupyter-widgets/base",
            "overflow": null,
            "_model_module_version": "1.2.0",
            "_view_count": null,
            "flex_flow": null,
            "width": null,
            "min_width": null,
            "border": null,
            "align_items": null,
            "bottom": null,
            "_model_module": "@jupyter-widgets/base",
            "top": null,
            "grid_column": null,
            "overflow_y": null,
            "overflow_x": null,
            "grid_auto_flow": null,
            "grid_area": null,
            "grid_template_columns": null,
            "flex": null,
            "_model_name": "LayoutModel",
            "justify_items": null,
            "grid_row": null,
            "max_height": null,
            "align_content": null,
            "visibility": null,
            "align_self": null,
            "height": null,
            "min_height": null,
            "padding": null,
            "grid_auto_rows": null,
            "grid_gap": null,
            "max_width": null,
            "order": null,
            "_view_module_version": "1.2.0",
            "grid_template_areas": null,
            "object_position": null,
            "object_fit": null,
            "grid_auto_columns": null,
            "margin": null,
            "display": null,
            "left": null
          }
        },
        "12e22c14f8e84426a9091247286a3581": {
          "model_module": "@jupyter-widgets/controls",
          "model_name": "HBoxModel",
          "model_module_version": "1.5.0",
          "state": {
            "_view_name": "HBoxView",
            "_dom_classes": [],
            "_model_name": "HBoxModel",
            "_view_module": "@jupyter-widgets/controls",
            "_model_module_version": "1.5.0",
            "_view_count": null,
            "_view_module_version": "1.5.0",
            "box_style": "",
            "layout": "IPY_MODEL_cfa8571b02424141a8236a7300978623",
            "_model_module": "@jupyter-widgets/controls",
            "children": [
              "IPY_MODEL_9f0a30d1b7a345c19a20c70f32140277",
              "IPY_MODEL_14b5c008bd824f6c8af00b24d999e055",
              "IPY_MODEL_de69b38c16fe4a4c9962b01f80d736f2"
            ]
          }
        },
        "cfa8571b02424141a8236a7300978623": {
          "model_module": "@jupyter-widgets/base",
          "model_name": "LayoutModel",
          "model_module_version": "1.2.0",
          "state": {
            "_view_name": "LayoutView",
            "grid_template_rows": null,
            "right": null,
            "justify_content": null,
            "_view_module": "@jupyter-widgets/base",
            "overflow": null,
            "_model_module_version": "1.2.0",
            "_view_count": null,
            "flex_flow": null,
            "width": null,
            "min_width": null,
            "border": null,
            "align_items": null,
            "bottom": null,
            "_model_module": "@jupyter-widgets/base",
            "top": null,
            "grid_column": null,
            "overflow_y": null,
            "overflow_x": null,
            "grid_auto_flow": null,
            "grid_area": null,
            "grid_template_columns": null,
            "flex": null,
            "_model_name": "LayoutModel",
            "justify_items": null,
            "grid_row": null,
            "max_height": null,
            "align_content": null,
            "visibility": null,
            "align_self": null,
            "height": null,
            "min_height": null,
            "padding": null,
            "grid_auto_rows": null,
            "grid_gap": null,
            "max_width": null,
            "order": null,
            "_view_module_version": "1.2.0",
            "grid_template_areas": null,
            "object_position": null,
            "object_fit": null,
            "grid_auto_columns": null,
            "margin": null,
            "display": null,
            "left": null
          }
        },
        "9f0a30d1b7a345c19a20c70f32140277": {
          "model_module": "@jupyter-widgets/controls",
          "model_name": "HTMLModel",
          "model_module_version": "1.5.0",
          "state": {
            "_view_name": "HTMLView",
            "style": "IPY_MODEL_c327ae5b7cd84698a4019fc50ff6e685",
            "_dom_classes": [],
            "description": "",
            "_model_name": "HTMLModel",
            "placeholder": "​",
            "_view_module": "@jupyter-widgets/controls",
            "_model_module_version": "1.5.0",
            "value": "Downloading: 100%",
            "_view_count": null,
            "_view_module_version": "1.5.0",
            "description_tooltip": null,
            "_model_module": "@jupyter-widgets/controls",
            "layout": "IPY_MODEL_0e6720971b3849f29f635d4fb2ee232a"
          }
        },
        "14b5c008bd824f6c8af00b24d999e055": {
          "model_module": "@jupyter-widgets/controls",
          "model_name": "FloatProgressModel",
          "model_module_version": "1.5.0",
          "state": {
            "_view_name": "ProgressView",
            "style": "IPY_MODEL_8e0f58ca74ac46b38def59bc8ff3d3fd",
            "_dom_classes": [],
            "description": "",
            "_model_name": "FloatProgressModel",
            "bar_style": "success",
            "max": 134,
            "_view_module": "@jupyter-widgets/controls",
            "_model_module_version": "1.5.0",
            "value": 134,
            "_view_count": null,
            "_view_module_version": "1.5.0",
            "orientation": "horizontal",
            "min": 0,
            "description_tooltip": null,
            "_model_module": "@jupyter-widgets/controls",
            "layout": "IPY_MODEL_cba8d58fc38a459ca334eb23e7e4d451"
          }
        },
        "de69b38c16fe4a4c9962b01f80d736f2": {
          "model_module": "@jupyter-widgets/controls",
          "model_name": "HTMLModel",
          "model_module_version": "1.5.0",
          "state": {
            "_view_name": "HTMLView",
            "style": "IPY_MODEL_8911c747f76544b0bdb1f4f83daab851",
            "_dom_classes": [],
            "description": "",
            "_model_name": "HTMLModel",
            "placeholder": "​",
            "_view_module": "@jupyter-widgets/controls",
            "_model_module_version": "1.5.0",
            "value": " 134/134 [00:00&lt;00:00, 2.37kB/s]",
            "_view_count": null,
            "_view_module_version": "1.5.0",
            "description_tooltip": null,
            "_model_module": "@jupyter-widgets/controls",
            "layout": "IPY_MODEL_472bd9e6e4544408937e1a7037b8dd63"
          }
        },
        "c327ae5b7cd84698a4019fc50ff6e685": {
          "model_module": "@jupyter-widgets/controls",
          "model_name": "DescriptionStyleModel",
          "model_module_version": "1.5.0",
          "state": {
            "_view_name": "StyleView",
            "_model_name": "DescriptionStyleModel",
            "description_width": "",
            "_view_module": "@jupyter-widgets/base",
            "_model_module_version": "1.5.0",
            "_view_count": null,
            "_view_module_version": "1.2.0",
            "_model_module": "@jupyter-widgets/controls"
          }
        },
        "0e6720971b3849f29f635d4fb2ee232a": {
          "model_module": "@jupyter-widgets/base",
          "model_name": "LayoutModel",
          "model_module_version": "1.2.0",
          "state": {
            "_view_name": "LayoutView",
            "grid_template_rows": null,
            "right": null,
            "justify_content": null,
            "_view_module": "@jupyter-widgets/base",
            "overflow": null,
            "_model_module_version": "1.2.0",
            "_view_count": null,
            "flex_flow": null,
            "width": null,
            "min_width": null,
            "border": null,
            "align_items": null,
            "bottom": null,
            "_model_module": "@jupyter-widgets/base",
            "top": null,
            "grid_column": null,
            "overflow_y": null,
            "overflow_x": null,
            "grid_auto_flow": null,
            "grid_area": null,
            "grid_template_columns": null,
            "flex": null,
            "_model_name": "LayoutModel",
            "justify_items": null,
            "grid_row": null,
            "max_height": null,
            "align_content": null,
            "visibility": null,
            "align_self": null,
            "height": null,
            "min_height": null,
            "padding": null,
            "grid_auto_rows": null,
            "grid_gap": null,
            "max_width": null,
            "order": null,
            "_view_module_version": "1.2.0",
            "grid_template_areas": null,
            "object_position": null,
            "object_fit": null,
            "grid_auto_columns": null,
            "margin": null,
            "display": null,
            "left": null
          }
        },
        "8e0f58ca74ac46b38def59bc8ff3d3fd": {
          "model_module": "@jupyter-widgets/controls",
          "model_name": "ProgressStyleModel",
          "model_module_version": "1.5.0",
          "state": {
            "_view_name": "StyleView",
            "_model_name": "ProgressStyleModel",
            "description_width": "",
            "_view_module": "@jupyter-widgets/base",
            "_model_module_version": "1.5.0",
            "_view_count": null,
            "_view_module_version": "1.2.0",
            "bar_color": null,
            "_model_module": "@jupyter-widgets/controls"
          }
        },
        "cba8d58fc38a459ca334eb23e7e4d451": {
          "model_module": "@jupyter-widgets/base",
          "model_name": "LayoutModel",
          "model_module_version": "1.2.0",
          "state": {
            "_view_name": "LayoutView",
            "grid_template_rows": null,
            "right": null,
            "justify_content": null,
            "_view_module": "@jupyter-widgets/base",
            "overflow": null,
            "_model_module_version": "1.2.0",
            "_view_count": null,
            "flex_flow": null,
            "width": null,
            "min_width": null,
            "border": null,
            "align_items": null,
            "bottom": null,
            "_model_module": "@jupyter-widgets/base",
            "top": null,
            "grid_column": null,
            "overflow_y": null,
            "overflow_x": null,
            "grid_auto_flow": null,
            "grid_area": null,
            "grid_template_columns": null,
            "flex": null,
            "_model_name": "LayoutModel",
            "justify_items": null,
            "grid_row": null,
            "max_height": null,
            "align_content": null,
            "visibility": null,
            "align_self": null,
            "height": null,
            "min_height": null,
            "padding": null,
            "grid_auto_rows": null,
            "grid_gap": null,
            "max_width": null,
            "order": null,
            "_view_module_version": "1.2.0",
            "grid_template_areas": null,
            "object_position": null,
            "object_fit": null,
            "grid_auto_columns": null,
            "margin": null,
            "display": null,
            "left": null
          }
        },
        "8911c747f76544b0bdb1f4f83daab851": {
          "model_module": "@jupyter-widgets/controls",
          "model_name": "DescriptionStyleModel",
          "model_module_version": "1.5.0",
          "state": {
            "_view_name": "StyleView",
            "_model_name": "DescriptionStyleModel",
            "description_width": "",
            "_view_module": "@jupyter-widgets/base",
            "_model_module_version": "1.5.0",
            "_view_count": null,
            "_view_module_version": "1.2.0",
            "_model_module": "@jupyter-widgets/controls"
          }
        },
        "472bd9e6e4544408937e1a7037b8dd63": {
          "model_module": "@jupyter-widgets/base",
          "model_name": "LayoutModel",
          "model_module_version": "1.2.0",
          "state": {
            "_view_name": "LayoutView",
            "grid_template_rows": null,
            "right": null,
            "justify_content": null,
            "_view_module": "@jupyter-widgets/base",
            "overflow": null,
            "_model_module_version": "1.2.0",
            "_view_count": null,
            "flex_flow": null,
            "width": null,
            "min_width": null,
            "border": null,
            "align_items": null,
            "bottom": null,
            "_model_module": "@jupyter-widgets/base",
            "top": null,
            "grid_column": null,
            "overflow_y": null,
            "overflow_x": null,
            "grid_auto_flow": null,
            "grid_area": null,
            "grid_template_columns": null,
            "flex": null,
            "_model_name": "LayoutModel",
            "justify_items": null,
            "grid_row": null,
            "max_height": null,
            "align_content": null,
            "visibility": null,
            "align_self": null,
            "height": null,
            "min_height": null,
            "padding": null,
            "grid_auto_rows": null,
            "grid_gap": null,
            "max_width": null,
            "order": null,
            "_view_module_version": "1.2.0",
            "grid_template_areas": null,
            "object_position": null,
            "object_fit": null,
            "grid_auto_columns": null,
            "margin": null,
            "display": null,
            "left": null
          }
        },
        "666674164379453bb05a5f8e01fe2cef": {
          "model_module": "@jupyter-widgets/controls",
          "model_name": "HBoxModel",
          "model_module_version": "1.5.0",
          "state": {
            "_view_name": "HBoxView",
            "_dom_classes": [],
            "_model_name": "HBoxModel",
            "_view_module": "@jupyter-widgets/controls",
            "_model_module_version": "1.5.0",
            "_view_count": null,
            "_view_module_version": "1.5.0",
            "box_style": "",
            "layout": "IPY_MODEL_cc8e1669b05948098767a0267e45e036",
            "_model_module": "@jupyter-widgets/controls",
            "children": [
              "IPY_MODEL_5ff5f3a236334281b521f57248584e6b",
              "IPY_MODEL_b906ae9c9c6446c0801ffd6f12834da3",
              "IPY_MODEL_fc714629f55e4a4daa0e90d9597a174d"
            ]
          }
        },
        "cc8e1669b05948098767a0267e45e036": {
          "model_module": "@jupyter-widgets/base",
          "model_name": "LayoutModel",
          "model_module_version": "1.2.0",
          "state": {
            "_view_name": "LayoutView",
            "grid_template_rows": null,
            "right": null,
            "justify_content": null,
            "_view_module": "@jupyter-widgets/base",
            "overflow": null,
            "_model_module_version": "1.2.0",
            "_view_count": null,
            "flex_flow": null,
            "width": null,
            "min_width": null,
            "border": null,
            "align_items": null,
            "bottom": null,
            "_model_module": "@jupyter-widgets/base",
            "top": null,
            "grid_column": null,
            "overflow_y": null,
            "overflow_x": null,
            "grid_auto_flow": null,
            "grid_area": null,
            "grid_template_columns": null,
            "flex": null,
            "_model_name": "LayoutModel",
            "justify_items": null,
            "grid_row": null,
            "max_height": null,
            "align_content": null,
            "visibility": null,
            "align_self": null,
            "height": null,
            "min_height": null,
            "padding": null,
            "grid_auto_rows": null,
            "grid_gap": null,
            "max_width": null,
            "order": null,
            "_view_module_version": "1.2.0",
            "grid_template_areas": null,
            "object_position": null,
            "object_fit": null,
            "grid_auto_columns": null,
            "margin": null,
            "display": null,
            "left": null
          }
        },
        "5ff5f3a236334281b521f57248584e6b": {
          "model_module": "@jupyter-widgets/controls",
          "model_name": "HTMLModel",
          "model_module_version": "1.5.0",
          "state": {
            "_view_name": "HTMLView",
            "style": "IPY_MODEL_dc704a1f713f422f98562591ca2c051b",
            "_dom_classes": [],
            "description": "",
            "_model_name": "HTMLModel",
            "placeholder": "​",
            "_view_module": "@jupyter-widgets/controls",
            "_model_module_version": "1.5.0",
            "value": "Downloading: 100%",
            "_view_count": null,
            "_view_module_version": "1.5.0",
            "description_tooltip": null,
            "_model_module": "@jupyter-widgets/controls",
            "layout": "IPY_MODEL_632550995e674d6e9bde87c4041649bc"
          }
        },
        "b906ae9c9c6446c0801ffd6f12834da3": {
          "model_module": "@jupyter-widgets/controls",
          "model_name": "FloatProgressModel",
          "model_module_version": "1.5.0",
          "state": {
            "_view_name": "ProgressView",
            "style": "IPY_MODEL_705ff20b28394414a26ca571506de967",
            "_dom_classes": [],
            "description": "",
            "_model_name": "FloatProgressModel",
            "bar_style": "success",
            "max": 364,
            "_view_module": "@jupyter-widgets/controls",
            "_model_module_version": "1.5.0",
            "value": 364,
            "_view_count": null,
            "_view_module_version": "1.5.0",
            "orientation": "horizontal",
            "min": 0,
            "description_tooltip": null,
            "_model_module": "@jupyter-widgets/controls",
            "layout": "IPY_MODEL_cf3df9145baf40fab8d6dda39d187499"
          }
        },
        "fc714629f55e4a4daa0e90d9597a174d": {
          "model_module": "@jupyter-widgets/controls",
          "model_name": "HTMLModel",
          "model_module_version": "1.5.0",
          "state": {
            "_view_name": "HTMLView",
            "style": "IPY_MODEL_91bce7c6a5a446a19ec5a657faf02848",
            "_dom_classes": [],
            "description": "",
            "_model_name": "HTMLModel",
            "placeholder": "​",
            "_view_module": "@jupyter-widgets/controls",
            "_model_module_version": "1.5.0",
            "value": " 364/364 [00:00&lt;00:00, 7.71kB/s]",
            "_view_count": null,
            "_view_module_version": "1.5.0",
            "description_tooltip": null,
            "_model_module": "@jupyter-widgets/controls",
            "layout": "IPY_MODEL_d23e1fc47ba84e17ba73dd8021362b8b"
          }
        },
        "dc704a1f713f422f98562591ca2c051b": {
          "model_module": "@jupyter-widgets/controls",
          "model_name": "DescriptionStyleModel",
          "model_module_version": "1.5.0",
          "state": {
            "_view_name": "StyleView",
            "_model_name": "DescriptionStyleModel",
            "description_width": "",
            "_view_module": "@jupyter-widgets/base",
            "_model_module_version": "1.5.0",
            "_view_count": null,
            "_view_module_version": "1.2.0",
            "_model_module": "@jupyter-widgets/controls"
          }
        },
        "632550995e674d6e9bde87c4041649bc": {
          "model_module": "@jupyter-widgets/base",
          "model_name": "LayoutModel",
          "model_module_version": "1.2.0",
          "state": {
            "_view_name": "LayoutView",
            "grid_template_rows": null,
            "right": null,
            "justify_content": null,
            "_view_module": "@jupyter-widgets/base",
            "overflow": null,
            "_model_module_version": "1.2.0",
            "_view_count": null,
            "flex_flow": null,
            "width": null,
            "min_width": null,
            "border": null,
            "align_items": null,
            "bottom": null,
            "_model_module": "@jupyter-widgets/base",
            "top": null,
            "grid_column": null,
            "overflow_y": null,
            "overflow_x": null,
            "grid_auto_flow": null,
            "grid_area": null,
            "grid_template_columns": null,
            "flex": null,
            "_model_name": "LayoutModel",
            "justify_items": null,
            "grid_row": null,
            "max_height": null,
            "align_content": null,
            "visibility": null,
            "align_self": null,
            "height": null,
            "min_height": null,
            "padding": null,
            "grid_auto_rows": null,
            "grid_gap": null,
            "max_width": null,
            "order": null,
            "_view_module_version": "1.2.0",
            "grid_template_areas": null,
            "object_position": null,
            "object_fit": null,
            "grid_auto_columns": null,
            "margin": null,
            "display": null,
            "left": null
          }
        },
        "705ff20b28394414a26ca571506de967": {
          "model_module": "@jupyter-widgets/controls",
          "model_name": "ProgressStyleModel",
          "model_module_version": "1.5.0",
          "state": {
            "_view_name": "StyleView",
            "_model_name": "ProgressStyleModel",
            "description_width": "",
            "_view_module": "@jupyter-widgets/base",
            "_model_module_version": "1.5.0",
            "_view_count": null,
            "_view_module_version": "1.2.0",
            "bar_color": null,
            "_model_module": "@jupyter-widgets/controls"
          }
        },
        "cf3df9145baf40fab8d6dda39d187499": {
          "model_module": "@jupyter-widgets/base",
          "model_name": "LayoutModel",
          "model_module_version": "1.2.0",
          "state": {
            "_view_name": "LayoutView",
            "grid_template_rows": null,
            "right": null,
            "justify_content": null,
            "_view_module": "@jupyter-widgets/base",
            "overflow": null,
            "_model_module_version": "1.2.0",
            "_view_count": null,
            "flex_flow": null,
            "width": null,
            "min_width": null,
            "border": null,
            "align_items": null,
            "bottom": null,
            "_model_module": "@jupyter-widgets/base",
            "top": null,
            "grid_column": null,
            "overflow_y": null,
            "overflow_x": null,
            "grid_auto_flow": null,
            "grid_area": null,
            "grid_template_columns": null,
            "flex": null,
            "_model_name": "LayoutModel",
            "justify_items": null,
            "grid_row": null,
            "max_height": null,
            "align_content": null,
            "visibility": null,
            "align_self": null,
            "height": null,
            "min_height": null,
            "padding": null,
            "grid_auto_rows": null,
            "grid_gap": null,
            "max_width": null,
            "order": null,
            "_view_module_version": "1.2.0",
            "grid_template_areas": null,
            "object_position": null,
            "object_fit": null,
            "grid_auto_columns": null,
            "margin": null,
            "display": null,
            "left": null
          }
        },
        "91bce7c6a5a446a19ec5a657faf02848": {
          "model_module": "@jupyter-widgets/controls",
          "model_name": "DescriptionStyleModel",
          "model_module_version": "1.5.0",
          "state": {
            "_view_name": "StyleView",
            "_model_name": "DescriptionStyleModel",
            "description_width": "",
            "_view_module": "@jupyter-widgets/base",
            "_model_module_version": "1.5.0",
            "_view_count": null,
            "_view_module_version": "1.2.0",
            "_model_module": "@jupyter-widgets/controls"
          }
        },
        "d23e1fc47ba84e17ba73dd8021362b8b": {
          "model_module": "@jupyter-widgets/base",
          "model_name": "LayoutModel",
          "model_module_version": "1.2.0",
          "state": {
            "_view_name": "LayoutView",
            "grid_template_rows": null,
            "right": null,
            "justify_content": null,
            "_view_module": "@jupyter-widgets/base",
            "overflow": null,
            "_model_module_version": "1.2.0",
            "_view_count": null,
            "flex_flow": null,
            "width": null,
            "min_width": null,
            "border": null,
            "align_items": null,
            "bottom": null,
            "_model_module": "@jupyter-widgets/base",
            "top": null,
            "grid_column": null,
            "overflow_y": null,
            "overflow_x": null,
            "grid_auto_flow": null,
            "grid_area": null,
            "grid_template_columns": null,
            "flex": null,
            "_model_name": "LayoutModel",
            "justify_items": null,
            "grid_row": null,
            "max_height": null,
            "align_content": null,
            "visibility": null,
            "align_self": null,
            "height": null,
            "min_height": null,
            "padding": null,
            "grid_auto_rows": null,
            "grid_gap": null,
            "max_width": null,
            "order": null,
            "_view_module_version": "1.2.0",
            "grid_template_areas": null,
            "object_position": null,
            "object_fit": null,
            "grid_auto_columns": null,
            "margin": null,
            "display": null,
            "left": null
          }
        },
        "b2bb0d9b28124333b1d0a7dd4cdd12b5": {
          "model_module": "@jupyter-widgets/controls",
          "model_name": "HBoxModel",
          "model_module_version": "1.5.0",
          "state": {
            "_view_name": "HBoxView",
            "_dom_classes": [],
            "_model_name": "HBoxModel",
            "_view_module": "@jupyter-widgets/controls",
            "_model_module_version": "1.5.0",
            "_view_count": null,
            "_view_module_version": "1.5.0",
            "box_style": "",
            "layout": "IPY_MODEL_dfd5d378e13b48c0814b4ca75e0ecdc3",
            "_model_module": "@jupyter-widgets/controls",
            "children": [
              "IPY_MODEL_33f5a105658e4ab6b439c4dffc8a4f44",
              "IPY_MODEL_1818249c1def4fdba8f432ab15e09908",
              "IPY_MODEL_91d6e77bba3c4b44a40b4babbeaf22c1"
            ]
          }
        },
        "dfd5d378e13b48c0814b4ca75e0ecdc3": {
          "model_module": "@jupyter-widgets/base",
          "model_name": "LayoutModel",
          "model_module_version": "1.2.0",
          "state": {
            "_view_name": "LayoutView",
            "grid_template_rows": null,
            "right": null,
            "justify_content": null,
            "_view_module": "@jupyter-widgets/base",
            "overflow": null,
            "_model_module_version": "1.2.0",
            "_view_count": null,
            "flex_flow": null,
            "width": null,
            "min_width": null,
            "border": null,
            "align_items": null,
            "bottom": null,
            "_model_module": "@jupyter-widgets/base",
            "top": null,
            "grid_column": null,
            "overflow_y": null,
            "overflow_x": null,
            "grid_auto_flow": null,
            "grid_area": null,
            "grid_template_columns": null,
            "flex": null,
            "_model_name": "LayoutModel",
            "justify_items": null,
            "grid_row": null,
            "max_height": null,
            "align_content": null,
            "visibility": null,
            "align_self": null,
            "height": null,
            "min_height": null,
            "padding": null,
            "grid_auto_rows": null,
            "grid_gap": null,
            "max_width": null,
            "order": null,
            "_view_module_version": "1.2.0",
            "grid_template_areas": null,
            "object_position": null,
            "object_fit": null,
            "grid_auto_columns": null,
            "margin": null,
            "display": null,
            "left": null
          }
        },
        "33f5a105658e4ab6b439c4dffc8a4f44": {
          "model_module": "@jupyter-widgets/controls",
          "model_name": "HTMLModel",
          "model_module_version": "1.5.0",
          "state": {
            "_view_name": "HTMLView",
            "style": "IPY_MODEL_1e7be79ffa37451cbc26e037f0ae6b39",
            "_dom_classes": [],
            "description": "",
            "_model_name": "HTMLModel",
            "placeholder": "​",
            "_view_module": "@jupyter-widgets/controls",
            "_model_module_version": "1.5.0",
            "value": "Downloading: 100%",
            "_view_count": null,
            "_view_module_version": "1.5.0",
            "description_tooltip": null,
            "_model_module": "@jupyter-widgets/controls",
            "layout": "IPY_MODEL_9c918e6785bd4b9990424aecbaedd8dc"
          }
        },
        "1818249c1def4fdba8f432ab15e09908": {
          "model_module": "@jupyter-widgets/controls",
          "model_name": "FloatProgressModel",
          "model_module_version": "1.5.0",
          "state": {
            "_view_name": "ProgressView",
            "style": "IPY_MODEL_51da3fd325774c0d96cf4206a5934cfe",
            "_dom_classes": [],
            "description": "",
            "_model_name": "FloatProgressModel",
            "bar_style": "success",
            "max": 480199,
            "_view_module": "@jupyter-widgets/controls",
            "_model_module_version": "1.5.0",
            "value": 480199,
            "_view_count": null,
            "_view_module_version": "1.5.0",
            "orientation": "horizontal",
            "min": 0,
            "description_tooltip": null,
            "_model_module": "@jupyter-widgets/controls",
            "layout": "IPY_MODEL_a37883f975754498b1d10ed1c4a8d3db"
          }
        },
        "91d6e77bba3c4b44a40b4babbeaf22c1": {
          "model_module": "@jupyter-widgets/controls",
          "model_name": "HTMLModel",
          "model_module_version": "1.5.0",
          "state": {
            "_view_name": "HTMLView",
            "style": "IPY_MODEL_bf148c39d73d45d38990aae6221c0db3",
            "_dom_classes": [],
            "description": "",
            "_model_name": "HTMLModel",
            "placeholder": "​",
            "_view_module": "@jupyter-widgets/controls",
            "_model_module_version": "1.5.0",
            "value": " 469k/469k [00:00&lt;00:00, 962kB/s]",
            "_view_count": null,
            "_view_module_version": "1.5.0",
            "description_tooltip": null,
            "_model_module": "@jupyter-widgets/controls",
            "layout": "IPY_MODEL_221cc8f42c524d788e83d608ae9a5bef"
          }
        },
        "1e7be79ffa37451cbc26e037f0ae6b39": {
          "model_module": "@jupyter-widgets/controls",
          "model_name": "DescriptionStyleModel",
          "model_module_version": "1.5.0",
          "state": {
            "_view_name": "StyleView",
            "_model_name": "DescriptionStyleModel",
            "description_width": "",
            "_view_module": "@jupyter-widgets/base",
            "_model_module_version": "1.5.0",
            "_view_count": null,
            "_view_module_version": "1.2.0",
            "_model_module": "@jupyter-widgets/controls"
          }
        },
        "9c918e6785bd4b9990424aecbaedd8dc": {
          "model_module": "@jupyter-widgets/base",
          "model_name": "LayoutModel",
          "model_module_version": "1.2.0",
          "state": {
            "_view_name": "LayoutView",
            "grid_template_rows": null,
            "right": null,
            "justify_content": null,
            "_view_module": "@jupyter-widgets/base",
            "overflow": null,
            "_model_module_version": "1.2.0",
            "_view_count": null,
            "flex_flow": null,
            "width": null,
            "min_width": null,
            "border": null,
            "align_items": null,
            "bottom": null,
            "_model_module": "@jupyter-widgets/base",
            "top": null,
            "grid_column": null,
            "overflow_y": null,
            "overflow_x": null,
            "grid_auto_flow": null,
            "grid_area": null,
            "grid_template_columns": null,
            "flex": null,
            "_model_name": "LayoutModel",
            "justify_items": null,
            "grid_row": null,
            "max_height": null,
            "align_content": null,
            "visibility": null,
            "align_self": null,
            "height": null,
            "min_height": null,
            "padding": null,
            "grid_auto_rows": null,
            "grid_gap": null,
            "max_width": null,
            "order": null,
            "_view_module_version": "1.2.0",
            "grid_template_areas": null,
            "object_position": null,
            "object_fit": null,
            "grid_auto_columns": null,
            "margin": null,
            "display": null,
            "left": null
          }
        },
        "51da3fd325774c0d96cf4206a5934cfe": {
          "model_module": "@jupyter-widgets/controls",
          "model_name": "ProgressStyleModel",
          "model_module_version": "1.5.0",
          "state": {
            "_view_name": "StyleView",
            "_model_name": "ProgressStyleModel",
            "description_width": "",
            "_view_module": "@jupyter-widgets/base",
            "_model_module_version": "1.5.0",
            "_view_count": null,
            "_view_module_version": "1.2.0",
            "bar_color": null,
            "_model_module": "@jupyter-widgets/controls"
          }
        },
        "a37883f975754498b1d10ed1c4a8d3db": {
          "model_module": "@jupyter-widgets/base",
          "model_name": "LayoutModel",
          "model_module_version": "1.2.0",
          "state": {
            "_view_name": "LayoutView",
            "grid_template_rows": null,
            "right": null,
            "justify_content": null,
            "_view_module": "@jupyter-widgets/base",
            "overflow": null,
            "_model_module_version": "1.2.0",
            "_view_count": null,
            "flex_flow": null,
            "width": null,
            "min_width": null,
            "border": null,
            "align_items": null,
            "bottom": null,
            "_model_module": "@jupyter-widgets/base",
            "top": null,
            "grid_column": null,
            "overflow_y": null,
            "overflow_x": null,
            "grid_auto_flow": null,
            "grid_area": null,
            "grid_template_columns": null,
            "flex": null,
            "_model_name": "LayoutModel",
            "justify_items": null,
            "grid_row": null,
            "max_height": null,
            "align_content": null,
            "visibility": null,
            "align_self": null,
            "height": null,
            "min_height": null,
            "padding": null,
            "grid_auto_rows": null,
            "grid_gap": null,
            "max_width": null,
            "order": null,
            "_view_module_version": "1.2.0",
            "grid_template_areas": null,
            "object_position": null,
            "object_fit": null,
            "grid_auto_columns": null,
            "margin": null,
            "display": null,
            "left": null
          }
        },
        "bf148c39d73d45d38990aae6221c0db3": {
          "model_module": "@jupyter-widgets/controls",
          "model_name": "DescriptionStyleModel",
          "model_module_version": "1.5.0",
          "state": {
            "_view_name": "StyleView",
            "_model_name": "DescriptionStyleModel",
            "description_width": "",
            "_view_module": "@jupyter-widgets/base",
            "_model_module_version": "1.5.0",
            "_view_count": null,
            "_view_module_version": "1.2.0",
            "_model_module": "@jupyter-widgets/controls"
          }
        },
        "221cc8f42c524d788e83d608ae9a5bef": {
          "model_module": "@jupyter-widgets/base",
          "model_name": "LayoutModel",
          "model_module_version": "1.2.0",
          "state": {
            "_view_name": "LayoutView",
            "grid_template_rows": null,
            "right": null,
            "justify_content": null,
            "_view_module": "@jupyter-widgets/base",
            "overflow": null,
            "_model_module_version": "1.2.0",
            "_view_count": null,
            "flex_flow": null,
            "width": null,
            "min_width": null,
            "border": null,
            "align_items": null,
            "bottom": null,
            "_model_module": "@jupyter-widgets/base",
            "top": null,
            "grid_column": null,
            "overflow_y": null,
            "overflow_x": null,
            "grid_auto_flow": null,
            "grid_area": null,
            "grid_template_columns": null,
            "flex": null,
            "_model_name": "LayoutModel",
            "justify_items": null,
            "grid_row": null,
            "max_height": null,
            "align_content": null,
            "visibility": null,
            "align_self": null,
            "height": null,
            "min_height": null,
            "padding": null,
            "grid_auto_rows": null,
            "grid_gap": null,
            "max_width": null,
            "order": null,
            "_view_module_version": "1.2.0",
            "grid_template_areas": null,
            "object_position": null,
            "object_fit": null,
            "grid_auto_columns": null,
            "margin": null,
            "display": null,
            "left": null
          }
        },
        "eee795fcf0434729be775a5dec30624a": {
          "model_module": "@jupyter-widgets/controls",
          "model_name": "HBoxModel",
          "model_module_version": "1.5.0",
          "state": {
            "_view_name": "HBoxView",
            "_dom_classes": [],
            "_model_name": "HBoxModel",
            "_view_module": "@jupyter-widgets/controls",
            "_model_module_version": "1.5.0",
            "_view_count": null,
            "_view_module_version": "1.5.0",
            "box_style": "",
            "layout": "IPY_MODEL_d5bdecf3bc2a4a3c8a88c9405c6d04f9",
            "_model_module": "@jupyter-widgets/controls",
            "children": [
              "IPY_MODEL_986fc64d55ba4f8c9e9ac9e6c049e54b",
              "IPY_MODEL_8bdb0db27ccc4028a24af25ba976e799",
              "IPY_MODEL_050523e1394047f0aacc91621655463d"
            ]
          }
        },
        "d5bdecf3bc2a4a3c8a88c9405c6d04f9": {
          "model_module": "@jupyter-widgets/base",
          "model_name": "LayoutModel",
          "model_module_version": "1.2.0",
          "state": {
            "_view_name": "LayoutView",
            "grid_template_rows": null,
            "right": null,
            "justify_content": null,
            "_view_module": "@jupyter-widgets/base",
            "overflow": null,
            "_model_module_version": "1.2.0",
            "_view_count": null,
            "flex_flow": null,
            "width": null,
            "min_width": null,
            "border": null,
            "align_items": null,
            "bottom": null,
            "_model_module": "@jupyter-widgets/base",
            "top": null,
            "grid_column": null,
            "overflow_y": null,
            "overflow_x": null,
            "grid_auto_flow": null,
            "grid_area": null,
            "grid_template_columns": null,
            "flex": null,
            "_model_name": "LayoutModel",
            "justify_items": null,
            "grid_row": null,
            "max_height": null,
            "align_content": null,
            "visibility": null,
            "align_self": null,
            "height": null,
            "min_height": null,
            "padding": null,
            "grid_auto_rows": null,
            "grid_gap": null,
            "max_width": null,
            "order": null,
            "_view_module_version": "1.2.0",
            "grid_template_areas": null,
            "object_position": null,
            "object_fit": null,
            "grid_auto_columns": null,
            "margin": null,
            "display": null,
            "left": null
          }
        },
        "986fc64d55ba4f8c9e9ac9e6c049e54b": {
          "model_module": "@jupyter-widgets/controls",
          "model_name": "HTMLModel",
          "model_module_version": "1.5.0",
          "state": {
            "_view_name": "HTMLView",
            "style": "IPY_MODEL_6426d8dfc7054bf8ac1ab40bfcd5cd21",
            "_dom_classes": [],
            "description": "",
            "_model_name": "HTMLModel",
            "placeholder": "​",
            "_view_module": "@jupyter-widgets/controls",
            "_model_module_version": "1.5.0",
            "value": "Downloading: 100%",
            "_view_count": null,
            "_view_module_version": "1.5.0",
            "description_tooltip": null,
            "_model_module": "@jupyter-widgets/controls",
            "layout": "IPY_MODEL_4b40889edf6f43e19bc9c71c3129436d"
          }
        },
        "8bdb0db27ccc4028a24af25ba976e799": {
          "model_module": "@jupyter-widgets/controls",
          "model_name": "FloatProgressModel",
          "model_module_version": "1.5.0",
          "state": {
            "_view_name": "ProgressView",
            "style": "IPY_MODEL_273e46022b0848deb190418e570cef2e",
            "_dom_classes": [],
            "description": "",
            "_model_name": "FloatProgressModel",
            "bar_style": "success",
            "max": 648,
            "_view_module": "@jupyter-widgets/controls",
            "_model_module_version": "1.5.0",
            "value": 648,
            "_view_count": null,
            "_view_module_version": "1.5.0",
            "orientation": "horizontal",
            "min": 0,
            "description_tooltip": null,
            "_model_module": "@jupyter-widgets/controls",
            "layout": "IPY_MODEL_e21029724ec04b87b0fc74f25bfdfe27"
          }
        },
        "050523e1394047f0aacc91621655463d": {
          "model_module": "@jupyter-widgets/controls",
          "model_name": "HTMLModel",
          "model_module_version": "1.5.0",
          "state": {
            "_view_name": "HTMLView",
            "style": "IPY_MODEL_e476d4b63a214e21a27ea66c37d9759f",
            "_dom_classes": [],
            "description": "",
            "_model_name": "HTMLModel",
            "placeholder": "​",
            "_view_module": "@jupyter-widgets/controls",
            "_model_module_version": "1.5.0",
            "value": " 648/648 [00:00&lt;00:00, 15.5kB/s]",
            "_view_count": null,
            "_view_module_version": "1.5.0",
            "description_tooltip": null,
            "_model_module": "@jupyter-widgets/controls",
            "layout": "IPY_MODEL_a087b3b3be344feeb6b7d1e75b3f0708"
          }
        },
        "6426d8dfc7054bf8ac1ab40bfcd5cd21": {
          "model_module": "@jupyter-widgets/controls",
          "model_name": "DescriptionStyleModel",
          "model_module_version": "1.5.0",
          "state": {
            "_view_name": "StyleView",
            "_model_name": "DescriptionStyleModel",
            "description_width": "",
            "_view_module": "@jupyter-widgets/base",
            "_model_module_version": "1.5.0",
            "_view_count": null,
            "_view_module_version": "1.2.0",
            "_model_module": "@jupyter-widgets/controls"
          }
        },
        "4b40889edf6f43e19bc9c71c3129436d": {
          "model_module": "@jupyter-widgets/base",
          "model_name": "LayoutModel",
          "model_module_version": "1.2.0",
          "state": {
            "_view_name": "LayoutView",
            "grid_template_rows": null,
            "right": null,
            "justify_content": null,
            "_view_module": "@jupyter-widgets/base",
            "overflow": null,
            "_model_module_version": "1.2.0",
            "_view_count": null,
            "flex_flow": null,
            "width": null,
            "min_width": null,
            "border": null,
            "align_items": null,
            "bottom": null,
            "_model_module": "@jupyter-widgets/base",
            "top": null,
            "grid_column": null,
            "overflow_y": null,
            "overflow_x": null,
            "grid_auto_flow": null,
            "grid_area": null,
            "grid_template_columns": null,
            "flex": null,
            "_model_name": "LayoutModel",
            "justify_items": null,
            "grid_row": null,
            "max_height": null,
            "align_content": null,
            "visibility": null,
            "align_self": null,
            "height": null,
            "min_height": null,
            "padding": null,
            "grid_auto_rows": null,
            "grid_gap": null,
            "max_width": null,
            "order": null,
            "_view_module_version": "1.2.0",
            "grid_template_areas": null,
            "object_position": null,
            "object_fit": null,
            "grid_auto_columns": null,
            "margin": null,
            "display": null,
            "left": null
          }
        },
        "273e46022b0848deb190418e570cef2e": {
          "model_module": "@jupyter-widgets/controls",
          "model_name": "ProgressStyleModel",
          "model_module_version": "1.5.0",
          "state": {
            "_view_name": "StyleView",
            "_model_name": "ProgressStyleModel",
            "description_width": "",
            "_view_module": "@jupyter-widgets/base",
            "_model_module_version": "1.5.0",
            "_view_count": null,
            "_view_module_version": "1.2.0",
            "bar_color": null,
            "_model_module": "@jupyter-widgets/controls"
          }
        },
        "e21029724ec04b87b0fc74f25bfdfe27": {
          "model_module": "@jupyter-widgets/base",
          "model_name": "LayoutModel",
          "model_module_version": "1.2.0",
          "state": {
            "_view_name": "LayoutView",
            "grid_template_rows": null,
            "right": null,
            "justify_content": null,
            "_view_module": "@jupyter-widgets/base",
            "overflow": null,
            "_model_module_version": "1.2.0",
            "_view_count": null,
            "flex_flow": null,
            "width": null,
            "min_width": null,
            "border": null,
            "align_items": null,
            "bottom": null,
            "_model_module": "@jupyter-widgets/base",
            "top": null,
            "grid_column": null,
            "overflow_y": null,
            "overflow_x": null,
            "grid_auto_flow": null,
            "grid_area": null,
            "grid_template_columns": null,
            "flex": null,
            "_model_name": "LayoutModel",
            "justify_items": null,
            "grid_row": null,
            "max_height": null,
            "align_content": null,
            "visibility": null,
            "align_self": null,
            "height": null,
            "min_height": null,
            "padding": null,
            "grid_auto_rows": null,
            "grid_gap": null,
            "max_width": null,
            "order": null,
            "_view_module_version": "1.2.0",
            "grid_template_areas": null,
            "object_position": null,
            "object_fit": null,
            "grid_auto_columns": null,
            "margin": null,
            "display": null,
            "left": null
          }
        },
        "e476d4b63a214e21a27ea66c37d9759f": {
          "model_module": "@jupyter-widgets/controls",
          "model_name": "DescriptionStyleModel",
          "model_module_version": "1.5.0",
          "state": {
            "_view_name": "StyleView",
            "_model_name": "DescriptionStyleModel",
            "description_width": "",
            "_view_module": "@jupyter-widgets/base",
            "_model_module_version": "1.5.0",
            "_view_count": null,
            "_view_module_version": "1.2.0",
            "_model_module": "@jupyter-widgets/controls"
          }
        },
        "a087b3b3be344feeb6b7d1e75b3f0708": {
          "model_module": "@jupyter-widgets/base",
          "model_name": "LayoutModel",
          "model_module_version": "1.2.0",
          "state": {
            "_view_name": "LayoutView",
            "grid_template_rows": null,
            "right": null,
            "justify_content": null,
            "_view_module": "@jupyter-widgets/base",
            "overflow": null,
            "_model_module_version": "1.2.0",
            "_view_count": null,
            "flex_flow": null,
            "width": null,
            "min_width": null,
            "border": null,
            "align_items": null,
            "bottom": null,
            "_model_module": "@jupyter-widgets/base",
            "top": null,
            "grid_column": null,
            "overflow_y": null,
            "overflow_x": null,
            "grid_auto_flow": null,
            "grid_area": null,
            "grid_template_columns": null,
            "flex": null,
            "_model_name": "LayoutModel",
            "justify_items": null,
            "grid_row": null,
            "max_height": null,
            "align_content": null,
            "visibility": null,
            "align_self": null,
            "height": null,
            "min_height": null,
            "padding": null,
            "grid_auto_rows": null,
            "grid_gap": null,
            "max_width": null,
            "order": null,
            "_view_module_version": "1.2.0",
            "grid_template_areas": null,
            "object_position": null,
            "object_fit": null,
            "grid_auto_columns": null,
            "margin": null,
            "display": null,
            "left": null
          }
        }
      }
    }
  },
  "cells": [
    {
      "cell_type": "markdown",
      "metadata": {
        "id": "view-in-github",
        "colab_type": "text"
      },
      "source": [
        "<a href=\"https://colab.research.google.com/github/omarespejel/ELIA_clases/blob/main/BETO_01_Importaci%C3%B3n_y_tokenizing.ipynb\" target=\"_parent\"><img src=\"https://colab.research.google.com/assets/colab-badge.svg\" alt=\"Open In Colab\"/></a>"
      ]
    },
    {
      "cell_type": "markdown",
      "metadata": {
        "id": "uTzN6DAmobi6"
      },
      "source": [
        "# BETO (BERT) 01: Importación y tokenizing\n",
        "por Omar U. Espejel (Twitter: [@espejelomar](https://twitter.com/espejelomar))\n",
        "\n",
        "![Selección países (3).png](data:image/png;base64,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)"
      ]
    },
    {
      "cell_type": "markdown",
      "metadata": {
        "id": "eGc-979e6jzu"
      },
      "source": [
        "\n",
        "En mi newsletter encontrarás una guía que te ayude a iniciar el viaje por la programación del deep learning. Mi objetivo es guiarte desde tus primeros pasos, enseñándote las herramientas necesarias para hacer IA, hasta temas avanzados como los Transformers 🦾. Además, abordaremos casos prácticos para facilitar la comprensión de cada tema. \n",
        " \n",
        "Si estás interesado en un tema específico puedes escribirme vía Twitter (https://twitter.com/espejelomar?lang=en) 🐣. \n",
        " \n",
        "En este link (https://espejel.substack.com/p/coming-soon) te puedes suscribir completamente gratis 🙌. \n",
        " \n",
        "Para facilitar la comprensión de cada tema, especialmente al momento de programar, te invito a revisar nuestro diccionario inglés-español para programación (link (https://www.notion.so/Ingl-s-para-la-programaci-n-bab11d9db5014f16b840bf8d22c23ac2))."
      ]
    },
    {
      "cell_type": "markdown",
      "metadata": {
        "id": "mvf2lH6ZsOZB"
      },
      "source": [
        "El material aquí presente está inspirado por el modelo BETO originalmente en el [repositorio del Departamento de Ciencias de la Computación de la Universidad de Chile](https://github.com/dccuchile).\n"
      ]
    },
    {
      "cell_type": "markdown",
      "metadata": {
        "id": "___PFxSo1o55"
      },
      "source": [
        "## Instalación de BETO"
      ]
    },
    {
      "cell_type": "markdown",
      "metadata": {
        "id": "BRBRF6Ao0IRn"
      },
      "source": [
        "Primero instalamos BETO desde HuggingFace Hub. El repositorio con mayor cantidad de modelos open source."
      ]
    },
    {
      "cell_type": "code",
      "metadata": {
        "id": "xQX4zfzfdsDf"
      },
      "source": [
        "import torch\n",
        "from transformers import BertForMaskedLM, BertTokenizer"
      ],
      "execution_count": null,
      "outputs": []
    },
    {
      "cell_type": "markdown",
      "metadata": {
        "id": "G_ailqHm1wGf"
      },
      "source": [
        "Observamos que en efecto los datos correspondientes a BETO se encuentran en la carpeta pytorch."
      ]
    },
    {
      "cell_type": "code",
      "source": [
        "!ls pytorch/"
      ],
      "metadata": {
        "colab": {
          "base_uri": "https://localhost:8080/"
        },
        "id": "z5X3bh0g_nFR",
        "outputId": "308f8cae-f703-42d4-9adb-f2bd1c185c47"
      },
      "execution_count": null,
      "outputs": [
        {
          "output_type": "stream",
          "name": "stdout",
          "text": [
            "config.json  pytorch_model.bin\tvocab.txt\n"
          ]
        }
      ]
    },
    {
      "cell_type": "markdown",
      "metadata": {
        "id": "YWWTF23U24np"
      },
      "source": [
        "Si fueramos a utilizar el modelo BERT original, ya en la instalación de `transformers` que hicimos arriba, usaríamos el siguiente comando:"
      ]
    },
    {
      "cell_type": "code",
      "metadata": {
        "id": "vnZ3Qqbzf6rK"
      },
      "source": [
        "# tokenizer_ingles = BertTokenizer.from_pretrained('bert-base-cased')"
      ],
      "execution_count": null,
      "outputs": []
    },
    {
      "cell_type": "markdown",
      "metadata": {
        "id": "qPnW0QY-3Fvc"
      },
      "source": [
        "Para utilizar BETO tenemos que importar los datos que deliberadamente guardamos en la carpeta pyorch de nuestro ambiente. El tokenizador lo dejamos con `do_lower_case` para que sí podamos aceptar palabras con mayúsculas."
      ]
    },
    {
      "cell_type": "code",
      "metadata": {
        "id": "lmwI3UYCdugq",
        "colab": {
          "base_uri": "https://localhost:8080/",
          "height": 177,
          "referenced_widgets": [
            "e651dea9287a41aaa5840ffe80e928e4",
            "d38a405b1bc24b5a995a5491d1f4277f",
            "628be958e244443097fa501566556035",
            "69b3205bcf4f49dc990a3ff2085ae2e0",
            "470e68c4922441fb98d1654884047c8a",
            "f9d336722c2b4dcf89d11abedfecf7bf",
            "65cdde3c30254596895508ea4c905b01",
            "d35a267b7492416fa47db35ca6323138",
            "b1737a02dc38481e8aa9f3327f5061bc",
            "8ae4d0d49c44403d812e0862b37217ec",
            "1d208d0106714986a0d052189c305efd",
            "12e22c14f8e84426a9091247286a3581",
            "cfa8571b02424141a8236a7300978623",
            "9f0a30d1b7a345c19a20c70f32140277",
            "14b5c008bd824f6c8af00b24d999e055",
            "de69b38c16fe4a4c9962b01f80d736f2",
            "c327ae5b7cd84698a4019fc50ff6e685",
            "0e6720971b3849f29f635d4fb2ee232a",
            "8e0f58ca74ac46b38def59bc8ff3d3fd",
            "cba8d58fc38a459ca334eb23e7e4d451",
            "8911c747f76544b0bdb1f4f83daab851",
            "472bd9e6e4544408937e1a7037b8dd63",
            "666674164379453bb05a5f8e01fe2cef",
            "cc8e1669b05948098767a0267e45e036",
            "5ff5f3a236334281b521f57248584e6b",
            "b906ae9c9c6446c0801ffd6f12834da3",
            "fc714629f55e4a4daa0e90d9597a174d",
            "dc704a1f713f422f98562591ca2c051b",
            "632550995e674d6e9bde87c4041649bc",
            "705ff20b28394414a26ca571506de967",
            "cf3df9145baf40fab8d6dda39d187499",
            "91bce7c6a5a446a19ec5a657faf02848",
            "d23e1fc47ba84e17ba73dd8021362b8b",
            "b2bb0d9b28124333b1d0a7dd4cdd12b5",
            "dfd5d378e13b48c0814b4ca75e0ecdc3",
            "33f5a105658e4ab6b439c4dffc8a4f44",
            "1818249c1def4fdba8f432ab15e09908",
            "91d6e77bba3c4b44a40b4babbeaf22c1",
            "1e7be79ffa37451cbc26e037f0ae6b39",
            "9c918e6785bd4b9990424aecbaedd8dc",
            "51da3fd325774c0d96cf4206a5934cfe",
            "a37883f975754498b1d10ed1c4a8d3db",
            "bf148c39d73d45d38990aae6221c0db3",
            "221cc8f42c524d788e83d608ae9a5bef",
            "eee795fcf0434729be775a5dec30624a",
            "d5bdecf3bc2a4a3c8a88c9405c6d04f9",
            "986fc64d55ba4f8c9e9ac9e6c049e54b",
            "8bdb0db27ccc4028a24af25ba976e799",
            "050523e1394047f0aacc91621655463d",
            "6426d8dfc7054bf8ac1ab40bfcd5cd21",
            "4b40889edf6f43e19bc9c71c3129436d",
            "273e46022b0848deb190418e570cef2e",
            "e21029724ec04b87b0fc74f25bfdfe27",
            "e476d4b63a214e21a27ea66c37d9759f",
            "a087b3b3be344feeb6b7d1e75b3f0708"
          ]
        },
        "outputId": "b30d4107-4f81-4251-a167-77f4e160a460"
      },
      "source": [
        "tokenizer_español = BertTokenizer.from_pretrained(\"dccuchile/bert-base-spanish-wwm-cased\", do_lower_case=False)"
      ],
      "execution_count": null,
      "outputs": [
        {
          "output_type": "display_data",
          "data": {
            "application/vnd.jupyter.widget-view+json": {
              "model_id": "e651dea9287a41aaa5840ffe80e928e4",
              "version_minor": 0,
              "version_major": 2
            },
            "text/plain": [
              "Downloading:   0%|          | 0.00/236k [00:00<?, ?B/s]"
            ]
          },
          "metadata": {}
        },
        {
          "output_type": "display_data",
          "data": {
            "application/vnd.jupyter.widget-view+json": {
              "model_id": "12e22c14f8e84426a9091247286a3581",
              "version_minor": 0,
              "version_major": 2
            },
            "text/plain": [
              "Downloading:   0%|          | 0.00/134 [00:00<?, ?B/s]"
            ]
          },
          "metadata": {}
        },
        {
          "output_type": "display_data",
          "data": {
            "application/vnd.jupyter.widget-view+json": {
              "model_id": "666674164379453bb05a5f8e01fe2cef",
              "version_minor": 0,
              "version_major": 2
            },
            "text/plain": [
              "Downloading:   0%|          | 0.00/364 [00:00<?, ?B/s]"
            ]
          },
          "metadata": {}
        },
        {
          "output_type": "display_data",
          "data": {
            "application/vnd.jupyter.widget-view+json": {
              "model_id": "b2bb0d9b28124333b1d0a7dd4cdd12b5",
              "version_minor": 0,
              "version_major": 2
            },
            "text/plain": [
              "Downloading:   0%|          | 0.00/469k [00:00<?, ?B/s]"
            ]
          },
          "metadata": {}
        },
        {
          "output_type": "display_data",
          "data": {
            "application/vnd.jupyter.widget-view+json": {
              "model_id": "eee795fcf0434729be775a5dec30624a",
              "version_minor": 0,
              "version_major": 2
            },
            "text/plain": [
              "Downloading:   0%|          | 0.00/648 [00:00<?, ?B/s]"
            ]
          },
          "metadata": {}
        }
      ]
    },
    {
      "cell_type": "code",
      "metadata": {
        "colab": {
          "base_uri": "https://localhost:8080/"
        },
        "id": "TaJ-V4bDiP0n",
        "outputId": "edf07086-e061-4ef6-ac32-e227ff4457b6"
      },
      "source": [
        "tokenizer_español"
      ],
      "execution_count": null,
      "outputs": [
        {
          "output_type": "execute_result",
          "data": {
            "text/plain": [
              "PreTrainedTokenizer(name_or_path='dccuchile/bert-base-spanish-wwm-cased', vocab_size=31002, model_max_len=512, is_fast=False, padding_side='right', special_tokens={'unk_token': '[UNK]', 'sep_token': '[SEP]', 'pad_token': '[PAD]', 'cls_token': '[CLS]', 'mask_token': '[MASK]'})"
            ]
          },
          "metadata": {},
          "execution_count": 8
        }
      ]
    },
    {
      "cell_type": "code",
      "metadata": {
        "id": "VcAwwyWqhwuA"
      },
      "source": [
        "BertTokenizer??"
      ],
      "execution_count": null,
      "outputs": []
    },
    {
      "cell_type": "markdown",
      "metadata": {
        "id": "So8fpq5t4vJS"
      },
      "source": [
        "Si observamos el vocabulario con el que BETO está pre-entrenado observamos:"
      ]
    },
    {
      "cell_type": "markdown",
      "metadata": {
        "id": "JuOM5E-TiAEj"
      },
      "source": [
        "\n",
        "\n",
        "*  Primeras 977 palabras están reservadas en la forma [unusedK] y [MASK], [PAD], [EOS], [UNK], [CLS], [SEP]. Las celdas unused son para que agreguemos vocabulario que puede ser específico para nuestra aplicación.\n",
        "* A partir del 978 vemos tokens para caracteres individuales, como números y letras.\n",
        "*   Poco a poco comienzan surgir tokens que individualmente pueden ser palabras. Están ordenadas por frecuencia.\n",
        "*   Hay palabras que pensaríamos no tan comunes en este contexto como \"verga\" e \"hincha\". ¿Cómo expresas la palabra verga en inglés? Por eso necesitamos nuestro propio vocabulario en español.\n",
        "*   Todo el tiempo también vemos las subpalabras que comienzan con #\n",
        "\n",
        "\n",
        "\n",
        "\n",
        "\n",
        "\n"
      ]
    },
    {
      "cell_type": "markdown",
      "metadata": {
        "id": "cVZb0qH6aq9-"
      },
      "source": [
        "## *Tokenizing* con BETO"
      ]
    },
    {
      "cell_type": "markdown",
      "metadata": {
        "id": "cipHYBkCc0Wh"
      },
      "source": [
        "Tokenizer en acción"
      ]
    },
    {
      "cell_type": "code",
      "metadata": {
        "id": "1L_vz1H8bJ_O"
      },
      "source": [
        "enunciado = \"BETO es clave para el desarrollo del NLP en América Latina.\""
      ],
      "execution_count": null,
      "outputs": []
    },
    {
      "cell_type": "code",
      "metadata": {
        "id": "42VCsEFyb9BX",
        "colab": {
          "base_uri": "https://localhost:8080/"
        },
        "outputId": "f839c707-f3a3-45d6-ff00-c2c19574c48b"
      },
      "source": [
        "print('Original: ', enunciado)\n",
        "print(\"Tokenizado: \", tokenizer_español.tokenize(enunciado))\n",
        "print('IDs: ', tokenizer_español.convert_tokens_to_ids(tokenizer_español.tokenize(enunciado)))"
      ],
      "execution_count": null,
      "outputs": [
        {
          "output_type": "stream",
          "name": "stdout",
          "text": [
            "Original:  BETO es clave para el desarrollo del NLP en América Latina.\n",
            "Tokenizado:  ['BE', '##TO', 'es', 'clave', 'para', 'el', 'desarrollo', 'del', 'NL', '##P', 'en', 'América', 'Latina', '.']\n",
            "IDs:  [13065, 6524, 1058, 5714, 1110, 1040, 1927, 1072, 15938, 30966, 1036, 4109, 9062, 1009]\n"
          ]
        }
      ]
    },
    {
      "cell_type": "markdown",
      "metadata": {
        "id": "yoWc2Px8dBPK"
      },
      "source": [
        "Es más rápido si usamos `tokenizer_español.encode()` para convertir el texto primero en tokens y luego en IDs.\n",
        "\n",
        "También se puede puede incluir el texto directamente en `tokenizer_español()` y nos retornará un diccionario en donde la *key* `input_ids` incluye los IDs que `tokenizer_español.encode()` también nos retornaría.\n",
        "\n",
        "\n",
        "\n",
        "\n",
        "\n"
      ]
    },
    {
      "cell_type": "code",
      "metadata": {
        "colab": {
          "base_uri": "https://localhost:8080/"
        },
        "id": "3Ln4KLhhjBKW",
        "outputId": "51adbac1-875d-40af-944b-06a01a328601"
      },
      "source": [
        "tokenizer_español(enunciado)['input_ids']"
      ],
      "execution_count": null,
      "outputs": [
        {
          "output_type": "execute_result",
          "data": {
            "text/plain": [
              "[4,\n",
              " 13065,\n",
              " 6524,\n",
              " 1058,\n",
              " 5714,\n",
              " 1110,\n",
              " 1040,\n",
              " 1927,\n",
              " 1072,\n",
              " 15938,\n",
              " 30966,\n",
              " 1036,\n",
              " 4109,\n",
              " 9062,\n",
              " 1009,\n",
              " 5]"
            ]
          },
          "metadata": {},
          "execution_count": 32
        }
      ]
    },
    {
      "cell_type": "code",
      "metadata": {
        "colab": {
          "base_uri": "https://localhost:8080/"
        },
        "id": "JdNRj8XtGDTw",
        "outputId": "c25f8ac6-9ac4-4e6b-e88a-1f729594f316"
      },
      "source": [
        "print(tokenizer_español.encode(enunciado))\n",
        "print(tokenizer_español(enunciado))"
      ],
      "execution_count": null,
      "outputs": [
        {
          "output_type": "stream",
          "name": "stdout",
          "text": [
            "[4, 13065, 6524, 1058, 5714, 1110, 1040, 1927, 1072, 15938, 30966, 1036, 4109, 9062, 1009, 5]\n",
            "{'input_ids': [4, 13065, 6524, 1058, 5714, 1110, 1040, 1927, 1072, 15938, 30966, 1036, 4109, 9062, 1009, 5], 'token_type_ids': [0, 0, 0, 0, 0, 0, 0, 0, 0, 0, 0, 0, 0, 0, 0, 0], 'attention_mask': [1, 1, 1, 1, 1, 1, 1, 1, 1, 1, 1, 1, 1, 1, 1, 1]}\n"
          ]
        }
      ]
    },
    {
      "cell_type": "markdown",
      "metadata": {
        "id": "E8qVOu52NBx4"
      },
      "source": [
        "Si tenemos dos textos se tendrá que crear un padding para convertir al mismo tamaño los tensores,"
      ]
    },
    {
      "cell_type": "code",
      "metadata": {
        "id": "v6Cin-vvNTsA",
        "colab": {
          "base_uri": "https://localhost:8080/"
        },
        "outputId": "8fb8f539-94d1-41af-c09c-a3f8df6cf687"
      },
      "source": [
        "texto_corto = \"Este texto es corto\"\n",
        "texto_largo = \"Este texto es largo y un poco aburrido\"\n",
        "\n",
        "corto_encoded = tokenizer_español(texto_corto)[\"input_ids\"]\n",
        "largo_encoded = tokenizer_español(texto_largo)[\"input_ids\"]\n",
        "\n",
        "len(corto_encoded), len(largo_encoded)"
      ],
      "execution_count": null,
      "outputs": [
        {
          "output_type": "execute_result",
          "data": {
            "text/plain": [
              "(6, 10)"
            ]
          },
          "metadata": {},
          "execution_count": 9
        }
      ]
    },
    {
      "cell_type": "code",
      "metadata": {
        "id": "JmO-KiAJNx6v"
      },
      "source": [
        "secuencia_con_padding = tokenizer_español([texto_corto, texto_largo], padding = True)"
      ],
      "execution_count": null,
      "outputs": []
    },
    {
      "cell_type": "markdown",
      "metadata": {
        "id": "ymtxUf2A5rFS"
      },
      "source": [
        "El padding lo notamos en en la `key` de `secuencia_con_padding` llamada `attention_mask`. Profundizemos en esto."
      ]
    },
    {
      "cell_type": "code",
      "metadata": {
        "id": "-KHPGYB35jiX",
        "colab": {
          "base_uri": "https://localhost:8080/"
        },
        "outputId": "6887c3ec-bcd6-40e6-8304-48a757c8a9e8"
      },
      "source": [
        "secuencia_con_padding"
      ],
      "execution_count": null,
      "outputs": [
        {
          "output_type": "execute_result",
          "data": {
            "text/plain": [
              "{'input_ids': [[4, 2072, 3881, 1058, 6726, 5, 1, 1, 1, 1], [4, 2072, 3881, 1058, 2941, 1042, 1049, 1958, 15075, 5]], 'token_type_ids': [[0, 0, 0, 0, 0, 0, 0, 0, 0, 0], [0, 0, 0, 0, 0, 0, 0, 0, 0, 0]], 'attention_mask': [[1, 1, 1, 1, 1, 1, 0, 0, 0, 0], [1, 1, 1, 1, 1, 1, 1, 1, 1, 1]]}"
            ]
          },
          "metadata": {},
          "execution_count": 11
        }
      ]
    },
    {
      "cell_type": "markdown",
      "metadata": {
        "id": "qcPgmj-ZORYh"
      },
      "source": [
        "Como tal, tokenizer nos devuelve un diccionario con tres keys: `'input_ids', 'token_type_ids', 'attention_mask'`. En este momento solo queremos mostrar `input_ids`. Interesantemente, con BETO el padding se realiza con el token especial `[PAD]` (el 1) en vez de con un cero, pues esta posición está reservada para el token especial `[MASK]`."
      ]
    },
    {
      "cell_type": "code",
      "metadata": {
        "id": "GCwA04sION2K",
        "colab": {
          "base_uri": "https://localhost:8080/"
        },
        "outputId": "998bf5a7-cb98-463f-b9da-6c7751462509"
      },
      "source": [
        "secuencia_con_padding.keys()"
      ],
      "execution_count": null,
      "outputs": [
        {
          "output_type": "execute_result",
          "data": {
            "text/plain": [
              "dict_keys(['input_ids', 'token_type_ids', 'attention_mask'])"
            ]
          },
          "metadata": {},
          "execution_count": 12
        }
      ]
    },
    {
      "cell_type": "code",
      "metadata": {
        "id": "jhpRv_h6NAHS",
        "colab": {
          "base_uri": "https://localhost:8080/"
        },
        "outputId": "f10d1da6-2b93-4616-cefa-6f7ba0dbfd86"
      },
      "source": [
        "secuencia_con_padding['input_ids']"
      ],
      "execution_count": null,
      "outputs": [
        {
          "output_type": "execute_result",
          "data": {
            "text/plain": [
              "[[4, 2072, 3881, 1058, 6726, 5, 1, 1, 1, 1],\n",
              " [4, 2072, 3881, 1058, 2941, 1042, 1049, 1958, 15075, 5]]"
            ]
          },
          "metadata": {},
          "execution_count": 13
        }
      ]
    },
    {
      "cell_type": "markdown",
      "metadata": {
        "id": "-wB5NWtiUl6I"
      },
      "source": [
        "Podemos usar un el método `decode` de nuestro tokenizer para observar lo que cada id significa."
      ]
    },
    {
      "cell_type": "code",
      "metadata": {
        "id": "eHMVt6qBUzxQ",
        "colab": {
          "base_uri": "https://localhost:8080/"
        },
        "outputId": "0032378d-8720-46ba-8f3a-7bbe8471e75e"
      },
      "source": [
        "tokenizer_español.decode(secuencia_con_padding['input_ids'][0]), tokenizer_español.decode(secuencia_con_padding['input_ids'][1])"
      ],
      "execution_count": null,
      "outputs": [
        {
          "output_type": "execute_result",
          "data": {
            "text/plain": [
              "('[CLS] Este texto es corto [SEP] [PAD] [PAD] [PAD] [PAD]',\n",
              " '[CLS] Este texto es largo y un poco aburrido [SEP]')"
            ]
          },
          "metadata": {},
          "execution_count": 14
        }
      ]
    },
    {
      "cell_type": "markdown",
      "metadata": {
        "id": "C1HQ4qKAO-lm"
      },
      "source": [
        "Con `attention_mask` podemos ver la parte de los enunciados que tuvieron padding. A pesar de que el padding se realizó con el token 1 en vez del 0, notamos que la `attention_mask` detecta sin nigún problema donde se realizó el padding."
      ]
    },
    {
      "cell_type": "code",
      "metadata": {
        "id": "6O7Y7w-PPrIV",
        "colab": {
          "base_uri": "https://localhost:8080/"
        },
        "outputId": "d090af37-785d-4331-d170-6381935a15b1"
      },
      "source": [
        "secuencia_con_padding['attention_mask']"
      ],
      "execution_count": null,
      "outputs": [
        {
          "output_type": "execute_result",
          "data": {
            "text/plain": [
              "[[1, 1, 1, 1, 1, 1, 0, 0, 0, 0], [1, 1, 1, 1, 1, 1, 1, 1, 1, 1]]"
            ]
          },
          "metadata": {},
          "execution_count": 15
        }
      ]
    },
    {
      "cell_type": "markdown",
      "metadata": {
        "id": "AO1ADXhuQ6JK"
      },
      "source": [
        "La última key producto de aplicar tokenizer es `token_type_ids`. Esta nos ayudará para tareas como clasificación de secuencias o para responder preguntas. Lo que hacemos es unir nuestros textos en una sola secuencia con ayuda de los tokens especiales 5 `[CLS]` y 6 `[SEP]`. "
      ]
    },
    {
      "cell_type": "markdown",
      "metadata": {
        "id": "86Qx-nhE4u-R"
      },
      "source": [
        "El modelo junta ambas secuencias en un único tensor. Por ejemplo, en el caso de resolver una pregunta, la pregunta quedaría con 0s y la respuesta con 1s en nuestra `token_type_ids`."
      ]
    },
    {
      "cell_type": "code",
      "metadata": {
        "id": "AYPN9Pw0RtVH"
      },
      "source": [
        "secuencia = tokenizer_español(\"Esta clase es sobre cómo utilizar BETO\", \"¿Sobre qué es esta clase?\")"
      ],
      "execution_count": null,
      "outputs": []
    },
    {
      "cell_type": "code",
      "metadata": {
        "id": "BJ0UNYDT5BNM",
        "colab": {
          "base_uri": "https://localhost:8080/"
        },
        "outputId": "652e08eb-2364-49f0-81b8-eee799b0cef2"
      },
      "source": [
        "secuencia[\"token_type_ids\"], tokenizer_español.decode(secuencia['input_ids'])"
      ],
      "execution_count": null,
      "outputs": [
        {
          "output_type": "execute_result",
          "data": {
            "text/plain": [
              "([0, 0, 0, 0, 0, 0, 0, 0, 0, 0, 1, 1, 1, 1, 1, 1, 1, 1],\n",
              " '[CLS] Esta clase es sobre cómo utilizar BETO [SEP] ¿ Sobre qué es esta clase? [SEP]')"
            ]
          },
          "metadata": {},
          "execution_count": 17
        }
      ]
    },
    {
      "cell_type": "markdown",
      "metadata": {
        "id": "nzFCup_gWekE"
      },
      "source": [
        "Notamos que nos une ambos enunciados en uno solo, no hay necesidad de usar padding."
      ]
    },
    {
      "cell_type": "markdown",
      "metadata": {
        "id": "mFpfzBIP8CBz"
      },
      "source": [
        "## Lo que sigue..."
      ]
    },
    {
      "cell_type": "markdown",
      "metadata": {
        "id": "BdIm9GFw7vxY"
      },
      "source": [
        "En el siguiente *notebook* importaremos un dataset original y lo preparemos con BETO para clasificación."
      ]
    }
  ]
}
