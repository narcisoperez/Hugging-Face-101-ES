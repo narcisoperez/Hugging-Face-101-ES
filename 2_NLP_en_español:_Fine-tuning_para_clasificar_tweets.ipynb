{
  "nbformat": 4,
  "nbformat_minor": 0,
  "metadata": {
    "colab": {
      "name": "BETO_02_Fine_tuning_para_clasificar_tweets.ipynb",
      "provenance": [],
      "collapsed_sections": [],
      "toc_visible": true,
      "authorship_tag": "ABX9TyMtYmgZftwS44LHSTpPKRbr",
      "include_colab_link": true
    },
    "kernelspec": {
      "name": "python3",
      "display_name": "Python 3"
    },
    "accelerator": "GPU",
    "widgets": {
      "application/vnd.jupyter.widget-state+json": {
        "1051ac8b38b44707b2b7f40dc02cd86b": {
          "model_module": "@jupyter-widgets/controls",
          "model_name": "HBoxModel",
          "model_module_version": "1.5.0",
          "state": {
            "_view_name": "HBoxView",
            "_dom_classes": [],
            "_model_name": "HBoxModel",
            "_view_module": "@jupyter-widgets/controls",
            "_model_module_version": "1.5.0",
            "_view_count": null,
            "_view_module_version": "1.5.0",
            "box_style": "",
            "layout": "IPY_MODEL_db6ba3f325c742fdb5c63579f09083f6",
            "_model_module": "@jupyter-widgets/controls",
            "children": [
              "IPY_MODEL_a35ed0aec3e64041b372a9af8278b543",
              "IPY_MODEL_9b3b8c617b6b490ca4a721d355aaf1fb",
              "IPY_MODEL_e30051ccb44d44abace2202987fea763"
            ]
          }
        },
        "db6ba3f325c742fdb5c63579f09083f6": {
          "model_module": "@jupyter-widgets/base",
          "model_name": "LayoutModel",
          "model_module_version": "1.2.0",
          "state": {
            "_view_name": "LayoutView",
            "grid_template_rows": null,
            "right": null,
            "justify_content": null,
            "_view_module": "@jupyter-widgets/base",
            "overflow": null,
            "_model_module_version": "1.2.0",
            "_view_count": null,
            "flex_flow": null,
            "width": null,
            "min_width": null,
            "border": null,
            "align_items": null,
            "bottom": null,
            "_model_module": "@jupyter-widgets/base",
            "top": null,
            "grid_column": null,
            "overflow_y": null,
            "overflow_x": null,
            "grid_auto_flow": null,
            "grid_area": null,
            "grid_template_columns": null,
            "flex": null,
            "_model_name": "LayoutModel",
            "justify_items": null,
            "grid_row": null,
            "max_height": null,
            "align_content": null,
            "visibility": null,
            "align_self": null,
            "height": null,
            "min_height": null,
            "padding": null,
            "grid_auto_rows": null,
            "grid_gap": null,
            "max_width": null,
            "order": null,
            "_view_module_version": "1.2.0",
            "grid_template_areas": null,
            "object_position": null,
            "object_fit": null,
            "grid_auto_columns": null,
            "margin": null,
            "display": null,
            "left": null
          }
        },
        "a35ed0aec3e64041b372a9af8278b543": {
          "model_module": "@jupyter-widgets/controls",
          "model_name": "HTMLModel",
          "model_module_version": "1.5.0",
          "state": {
            "_view_name": "HTMLView",
            "style": "IPY_MODEL_51ddef083e7a4381a141ff65eb5bfc7b",
            "_dom_classes": [],
            "description": "",
            "_model_name": "HTMLModel",
            "placeholder": "​",
            "_view_module": "@jupyter-widgets/controls",
            "_model_module_version": "1.5.0",
            "value": "Downloading: 100%",
            "_view_count": null,
            "_view_module_version": "1.5.0",
            "description_tooltip": null,
            "_model_module": "@jupyter-widgets/controls",
            "layout": "IPY_MODEL_60306d5aba764cf0bf622fa76b7c2370"
          }
        },
        "9b3b8c617b6b490ca4a721d355aaf1fb": {
          "model_module": "@jupyter-widgets/controls",
          "model_name": "FloatProgressModel",
          "model_module_version": "1.5.0",
          "state": {
            "_view_name": "ProgressView",
            "style": "IPY_MODEL_7635616d881d487bb2a9de2033dff72f",
            "_dom_classes": [],
            "description": "",
            "_model_name": "FloatProgressModel",
            "bar_style": "success",
            "max": 310,
            "_view_module": "@jupyter-widgets/controls",
            "_model_module_version": "1.5.0",
            "value": 310,
            "_view_count": null,
            "_view_module_version": "1.5.0",
            "orientation": "horizontal",
            "min": 0,
            "description_tooltip": null,
            "_model_module": "@jupyter-widgets/controls",
            "layout": "IPY_MODEL_2df37e009a874bddb805d5c82b21f462"
          }
        },
        "e30051ccb44d44abace2202987fea763": {
          "model_module": "@jupyter-widgets/controls",
          "model_name": "HTMLModel",
          "model_module_version": "1.5.0",
          "state": {
            "_view_name": "HTMLView",
            "style": "IPY_MODEL_47ac175ce3af41939001f81c6dbe612d",
            "_dom_classes": [],
            "description": "",
            "_model_name": "HTMLModel",
            "placeholder": "​",
            "_view_module": "@jupyter-widgets/controls",
            "_model_module_version": "1.5.0",
            "value": " 310/310 [00:00&lt;00:00, 3.88kB/s]",
            "_view_count": null,
            "_view_module_version": "1.5.0",
            "description_tooltip": null,
            "_model_module": "@jupyter-widgets/controls",
            "layout": "IPY_MODEL_9b293fa225974e8a844eefc489f1a0ed"
          }
        },
        "51ddef083e7a4381a141ff65eb5bfc7b": {
          "model_module": "@jupyter-widgets/controls",
          "model_name": "DescriptionStyleModel",
          "model_module_version": "1.5.0",
          "state": {
            "_view_name": "StyleView",
            "_model_name": "DescriptionStyleModel",
            "description_width": "",
            "_view_module": "@jupyter-widgets/base",
            "_model_module_version": "1.5.0",
            "_view_count": null,
            "_view_module_version": "1.2.0",
            "_model_module": "@jupyter-widgets/controls"
          }
        },
        "60306d5aba764cf0bf622fa76b7c2370": {
          "model_module": "@jupyter-widgets/base",
          "model_name": "LayoutModel",
          "model_module_version": "1.2.0",
          "state": {
            "_view_name": "LayoutView",
            "grid_template_rows": null,
            "right": null,
            "justify_content": null,
            "_view_module": "@jupyter-widgets/base",
            "overflow": null,
            "_model_module_version": "1.2.0",
            "_view_count": null,
            "flex_flow": null,
            "width": null,
            "min_width": null,
            "border": null,
            "align_items": null,
            "bottom": null,
            "_model_module": "@jupyter-widgets/base",
            "top": null,
            "grid_column": null,
            "overflow_y": null,
            "overflow_x": null,
            "grid_auto_flow": null,
            "grid_area": null,
            "grid_template_columns": null,
            "flex": null,
            "_model_name": "LayoutModel",
            "justify_items": null,
            "grid_row": null,
            "max_height": null,
            "align_content": null,
            "visibility": null,
            "align_self": null,
            "height": null,
            "min_height": null,
            "padding": null,
            "grid_auto_rows": null,
            "grid_gap": null,
            "max_width": null,
            "order": null,
            "_view_module_version": "1.2.0",
            "grid_template_areas": null,
            "object_position": null,
            "object_fit": null,
            "grid_auto_columns": null,
            "margin": null,
            "display": null,
            "left": null
          }
        },
        "7635616d881d487bb2a9de2033dff72f": {
          "model_module": "@jupyter-widgets/controls",
          "model_name": "ProgressStyleModel",
          "model_module_version": "1.5.0",
          "state": {
            "_view_name": "StyleView",
            "_model_name": "ProgressStyleModel",
            "description_width": "",
            "_view_module": "@jupyter-widgets/base",
            "_model_module_version": "1.5.0",
            "_view_count": null,
            "_view_module_version": "1.2.0",
            "bar_color": null,
            "_model_module": "@jupyter-widgets/controls"
          }
        },
        "2df37e009a874bddb805d5c82b21f462": {
          "model_module": "@jupyter-widgets/base",
          "model_name": "LayoutModel",
          "model_module_version": "1.2.0",
          "state": {
            "_view_name": "LayoutView",
            "grid_template_rows": null,
            "right": null,
            "justify_content": null,
            "_view_module": "@jupyter-widgets/base",
            "overflow": null,
            "_model_module_version": "1.2.0",
            "_view_count": null,
            "flex_flow": null,
            "width": null,
            "min_width": null,
            "border": null,
            "align_items": null,
            "bottom": null,
            "_model_module": "@jupyter-widgets/base",
            "top": null,
            "grid_column": null,
            "overflow_y": null,
            "overflow_x": null,
            "grid_auto_flow": null,
            "grid_area": null,
            "grid_template_columns": null,
            "flex": null,
            "_model_name": "LayoutModel",
            "justify_items": null,
            "grid_row": null,
            "max_height": null,
            "align_content": null,
            "visibility": null,
            "align_self": null,
            "height": null,
            "min_height": null,
            "padding": null,
            "grid_auto_rows": null,
            "grid_gap": null,
            "max_width": null,
            "order": null,
            "_view_module_version": "1.2.0",
            "grid_template_areas": null,
            "object_position": null,
            "object_fit": null,
            "grid_auto_columns": null,
            "margin": null,
            "display": null,
            "left": null
          }
        },
        "47ac175ce3af41939001f81c6dbe612d": {
          "model_module": "@jupyter-widgets/controls",
          "model_name": "DescriptionStyleModel",
          "model_module_version": "1.5.0",
          "state": {
            "_view_name": "StyleView",
            "_model_name": "DescriptionStyleModel",
            "description_width": "",
            "_view_module": "@jupyter-widgets/base",
            "_model_module_version": "1.5.0",
            "_view_count": null,
            "_view_module_version": "1.2.0",
            "_model_module": "@jupyter-widgets/controls"
          }
        },
        "9b293fa225974e8a844eefc489f1a0ed": {
          "model_module": "@jupyter-widgets/base",
          "model_name": "LayoutModel",
          "model_module_version": "1.2.0",
          "state": {
            "_view_name": "LayoutView",
            "grid_template_rows": null,
            "right": null,
            "justify_content": null,
            "_view_module": "@jupyter-widgets/base",
            "overflow": null,
            "_model_module_version": "1.2.0",
            "_view_count": null,
            "flex_flow": null,
            "width": null,
            "min_width": null,
            "border": null,
            "align_items": null,
            "bottom": null,
            "_model_module": "@jupyter-widgets/base",
            "top": null,
            "grid_column": null,
            "overflow_y": null,
            "overflow_x": null,
            "grid_auto_flow": null,
            "grid_area": null,
            "grid_template_columns": null,
            "flex": null,
            "_model_name": "LayoutModel",
            "justify_items": null,
            "grid_row": null,
            "max_height": null,
            "align_content": null,
            "visibility": null,
            "align_self": null,
            "height": null,
            "min_height": null,
            "padding": null,
            "grid_auto_rows": null,
            "grid_gap": null,
            "max_width": null,
            "order": null,
            "_view_module_version": "1.2.0",
            "grid_template_areas": null,
            "object_position": null,
            "object_fit": null,
            "grid_auto_columns": null,
            "margin": null,
            "display": null,
            "left": null
          }
        },
        "ef8681e9f4b94785a68d2f72099a9608": {
          "model_module": "@jupyter-widgets/controls",
          "model_name": "HBoxModel",
          "model_module_version": "1.5.0",
          "state": {
            "_view_name": "HBoxView",
            "_dom_classes": [],
            "_model_name": "HBoxModel",
            "_view_module": "@jupyter-widgets/controls",
            "_model_module_version": "1.5.0",
            "_view_count": null,
            "_view_module_version": "1.5.0",
            "box_style": "",
            "layout": "IPY_MODEL_d77aff7800394087bdbf8abb0e03d207",
            "_model_module": "@jupyter-widgets/controls",
            "children": [
              "IPY_MODEL_9bb1d5bf9c234012bf6ef4c906173fe6",
              "IPY_MODEL_b5921025c60a4d529b7385ee0157471c",
              "IPY_MODEL_99498c5cc7f34486a46ea831436ad251"
            ]
          }
        },
        "d77aff7800394087bdbf8abb0e03d207": {
          "model_module": "@jupyter-widgets/base",
          "model_name": "LayoutModel",
          "model_module_version": "1.2.0",
          "state": {
            "_view_name": "LayoutView",
            "grid_template_rows": null,
            "right": null,
            "justify_content": null,
            "_view_module": "@jupyter-widgets/base",
            "overflow": null,
            "_model_module_version": "1.2.0",
            "_view_count": null,
            "flex_flow": null,
            "width": null,
            "min_width": null,
            "border": null,
            "align_items": null,
            "bottom": null,
            "_model_module": "@jupyter-widgets/base",
            "top": null,
            "grid_column": null,
            "overflow_y": null,
            "overflow_x": null,
            "grid_auto_flow": null,
            "grid_area": null,
            "grid_template_columns": null,
            "flex": null,
            "_model_name": "LayoutModel",
            "justify_items": null,
            "grid_row": null,
            "max_height": null,
            "align_content": null,
            "visibility": null,
            "align_self": null,
            "height": null,
            "min_height": null,
            "padding": null,
            "grid_auto_rows": null,
            "grid_gap": null,
            "max_width": null,
            "order": null,
            "_view_module_version": "1.2.0",
            "grid_template_areas": null,
            "object_position": null,
            "object_fit": null,
            "grid_auto_columns": null,
            "margin": null,
            "display": null,
            "left": null
          }
        },
        "9bb1d5bf9c234012bf6ef4c906173fe6": {
          "model_module": "@jupyter-widgets/controls",
          "model_name": "HTMLModel",
          "model_module_version": "1.5.0",
          "state": {
            "_view_name": "HTMLView",
            "style": "IPY_MODEL_eef6b62f1fa94467892cea3c2124fdb2",
            "_dom_classes": [],
            "description": "",
            "_model_name": "HTMLModel",
            "placeholder": "​",
            "_view_module": "@jupyter-widgets/controls",
            "_model_module_version": "1.5.0",
            "value": "Downloading: 100%",
            "_view_count": null,
            "_view_module_version": "1.5.0",
            "description_tooltip": null,
            "_model_module": "@jupyter-widgets/controls",
            "layout": "IPY_MODEL_f4fae0e0cc1947ed855d349ea382c78e"
          }
        },
        "b5921025c60a4d529b7385ee0157471c": {
          "model_module": "@jupyter-widgets/controls",
          "model_name": "FloatProgressModel",
          "model_module_version": "1.5.0",
          "state": {
            "_view_name": "ProgressView",
            "style": "IPY_MODEL_87863aebb1a6451c8e8398bd65fd1dc5",
            "_dom_classes": [],
            "description": "",
            "_model_name": "FloatProgressModel",
            "bar_style": "success",
            "max": 247723,
            "_view_module": "@jupyter-widgets/controls",
            "_model_module_version": "1.5.0",
            "value": 247723,
            "_view_count": null,
            "_view_module_version": "1.5.0",
            "orientation": "horizontal",
            "min": 0,
            "description_tooltip": null,
            "_model_module": "@jupyter-widgets/controls",
            "layout": "IPY_MODEL_c72602b6f9cf4c2492eaa07078ed2996"
          }
        },
        "99498c5cc7f34486a46ea831436ad251": {
          "model_module": "@jupyter-widgets/controls",
          "model_name": "HTMLModel",
          "model_module_version": "1.5.0",
          "state": {
            "_view_name": "HTMLView",
            "style": "IPY_MODEL_740798a113a54444b0e33af1cdd1026f",
            "_dom_classes": [],
            "description": "",
            "_model_name": "HTMLModel",
            "placeholder": "​",
            "_view_module": "@jupyter-widgets/controls",
            "_model_module_version": "1.5.0",
            "value": " 242k/242k [00:00&lt;00:00, 331kB/s]",
            "_view_count": null,
            "_view_module_version": "1.5.0",
            "description_tooltip": null,
            "_model_module": "@jupyter-widgets/controls",
            "layout": "IPY_MODEL_e8713fa560434752b77ccecf4e985fe8"
          }
        },
        "eef6b62f1fa94467892cea3c2124fdb2": {
          "model_module": "@jupyter-widgets/controls",
          "model_name": "DescriptionStyleModel",
          "model_module_version": "1.5.0",
          "state": {
            "_view_name": "StyleView",
            "_model_name": "DescriptionStyleModel",
            "description_width": "",
            "_view_module": "@jupyter-widgets/base",
            "_model_module_version": "1.5.0",
            "_view_count": null,
            "_view_module_version": "1.2.0",
            "_model_module": "@jupyter-widgets/controls"
          }
        },
        "f4fae0e0cc1947ed855d349ea382c78e": {
          "model_module": "@jupyter-widgets/base",
          "model_name": "LayoutModel",
          "model_module_version": "1.2.0",
          "state": {
            "_view_name": "LayoutView",
            "grid_template_rows": null,
            "right": null,
            "justify_content": null,
            "_view_module": "@jupyter-widgets/base",
            "overflow": null,
            "_model_module_version": "1.2.0",
            "_view_count": null,
            "flex_flow": null,
            "width": null,
            "min_width": null,
            "border": null,
            "align_items": null,
            "bottom": null,
            "_model_module": "@jupyter-widgets/base",
            "top": null,
            "grid_column": null,
            "overflow_y": null,
            "overflow_x": null,
            "grid_auto_flow": null,
            "grid_area": null,
            "grid_template_columns": null,
            "flex": null,
            "_model_name": "LayoutModel",
            "justify_items": null,
            "grid_row": null,
            "max_height": null,
            "align_content": null,
            "visibility": null,
            "align_self": null,
            "height": null,
            "min_height": null,
            "padding": null,
            "grid_auto_rows": null,
            "grid_gap": null,
            "max_width": null,
            "order": null,
            "_view_module_version": "1.2.0",
            "grid_template_areas": null,
            "object_position": null,
            "object_fit": null,
            "grid_auto_columns": null,
            "margin": null,
            "display": null,
            "left": null
          }
        },
        "87863aebb1a6451c8e8398bd65fd1dc5": {
          "model_module": "@jupyter-widgets/controls",
          "model_name": "ProgressStyleModel",
          "model_module_version": "1.5.0",
          "state": {
            "_view_name": "StyleView",
            "_model_name": "ProgressStyleModel",
            "description_width": "",
            "_view_module": "@jupyter-widgets/base",
            "_model_module_version": "1.5.0",
            "_view_count": null,
            "_view_module_version": "1.2.0",
            "bar_color": null,
            "_model_module": "@jupyter-widgets/controls"
          }
        },
        "c72602b6f9cf4c2492eaa07078ed2996": {
          "model_module": "@jupyter-widgets/base",
          "model_name": "LayoutModel",
          "model_module_version": "1.2.0",
          "state": {
            "_view_name": "LayoutView",
            "grid_template_rows": null,
            "right": null,
            "justify_content": null,
            "_view_module": "@jupyter-widgets/base",
            "overflow": null,
            "_model_module_version": "1.2.0",
            "_view_count": null,
            "flex_flow": null,
            "width": null,
            "min_width": null,
            "border": null,
            "align_items": null,
            "bottom": null,
            "_model_module": "@jupyter-widgets/base",
            "top": null,
            "grid_column": null,
            "overflow_y": null,
            "overflow_x": null,
            "grid_auto_flow": null,
            "grid_area": null,
            "grid_template_columns": null,
            "flex": null,
            "_model_name": "LayoutModel",
            "justify_items": null,
            "grid_row": null,
            "max_height": null,
            "align_content": null,
            "visibility": null,
            "align_self": null,
            "height": null,
            "min_height": null,
            "padding": null,
            "grid_auto_rows": null,
            "grid_gap": null,
            "max_width": null,
            "order": null,
            "_view_module_version": "1.2.0",
            "grid_template_areas": null,
            "object_position": null,
            "object_fit": null,
            "grid_auto_columns": null,
            "margin": null,
            "display": null,
            "left": null
          }
        },
        "740798a113a54444b0e33af1cdd1026f": {
          "model_module": "@jupyter-widgets/controls",
          "model_name": "DescriptionStyleModel",
          "model_module_version": "1.5.0",
          "state": {
            "_view_name": "StyleView",
            "_model_name": "DescriptionStyleModel",
            "description_width": "",
            "_view_module": "@jupyter-widgets/base",
            "_model_module_version": "1.5.0",
            "_view_count": null,
            "_view_module_version": "1.2.0",
            "_model_module": "@jupyter-widgets/controls"
          }
        },
        "e8713fa560434752b77ccecf4e985fe8": {
          "model_module": "@jupyter-widgets/base",
          "model_name": "LayoutModel",
          "model_module_version": "1.2.0",
          "state": {
            "_view_name": "LayoutView",
            "grid_template_rows": null,
            "right": null,
            "justify_content": null,
            "_view_module": "@jupyter-widgets/base",
            "overflow": null,
            "_model_module_version": "1.2.0",
            "_view_count": null,
            "flex_flow": null,
            "width": null,
            "min_width": null,
            "border": null,
            "align_items": null,
            "bottom": null,
            "_model_module": "@jupyter-widgets/base",
            "top": null,
            "grid_column": null,
            "overflow_y": null,
            "overflow_x": null,
            "grid_auto_flow": null,
            "grid_area": null,
            "grid_template_columns": null,
            "flex": null,
            "_model_name": "LayoutModel",
            "justify_items": null,
            "grid_row": null,
            "max_height": null,
            "align_content": null,
            "visibility": null,
            "align_self": null,
            "height": null,
            "min_height": null,
            "padding": null,
            "grid_auto_rows": null,
            "grid_gap": null,
            "max_width": null,
            "order": null,
            "_view_module_version": "1.2.0",
            "grid_template_areas": null,
            "object_position": null,
            "object_fit": null,
            "grid_auto_columns": null,
            "margin": null,
            "display": null,
            "left": null
          }
        },
        "2efcccc79e3e4912a356192121312636": {
          "model_module": "@jupyter-widgets/controls",
          "model_name": "HBoxModel",
          "model_module_version": "1.5.0",
          "state": {
            "_view_name": "HBoxView",
            "_dom_classes": [],
            "_model_name": "HBoxModel",
            "_view_module": "@jupyter-widgets/controls",
            "_model_module_version": "1.5.0",
            "_view_count": null,
            "_view_module_version": "1.5.0",
            "box_style": "",
            "layout": "IPY_MODEL_2c05c337fd174bdf8a958620f774a50f",
            "_model_module": "@jupyter-widgets/controls",
            "children": [
              "IPY_MODEL_ce040215f90345a088f61ad181beb3cc",
              "IPY_MODEL_328fa644b08942b48cd12fe326c590a9",
              "IPY_MODEL_2dee186bb7dd4b83bf9b5d7d683e1f38"
            ]
          }
        },
        "2c05c337fd174bdf8a958620f774a50f": {
          "model_module": "@jupyter-widgets/base",
          "model_name": "LayoutModel",
          "model_module_version": "1.2.0",
          "state": {
            "_view_name": "LayoutView",
            "grid_template_rows": null,
            "right": null,
            "justify_content": null,
            "_view_module": "@jupyter-widgets/base",
            "overflow": null,
            "_model_module_version": "1.2.0",
            "_view_count": null,
            "flex_flow": null,
            "width": null,
            "min_width": null,
            "border": null,
            "align_items": null,
            "bottom": null,
            "_model_module": "@jupyter-widgets/base",
            "top": null,
            "grid_column": null,
            "overflow_y": null,
            "overflow_x": null,
            "grid_auto_flow": null,
            "grid_area": null,
            "grid_template_columns": null,
            "flex": null,
            "_model_name": "LayoutModel",
            "justify_items": null,
            "grid_row": null,
            "max_height": null,
            "align_content": null,
            "visibility": null,
            "align_self": null,
            "height": null,
            "min_height": null,
            "padding": null,
            "grid_auto_rows": null,
            "grid_gap": null,
            "max_width": null,
            "order": null,
            "_view_module_version": "1.2.0",
            "grid_template_areas": null,
            "object_position": null,
            "object_fit": null,
            "grid_auto_columns": null,
            "margin": null,
            "display": null,
            "left": null
          }
        },
        "ce040215f90345a088f61ad181beb3cc": {
          "model_module": "@jupyter-widgets/controls",
          "model_name": "HTMLModel",
          "model_module_version": "1.5.0",
          "state": {
            "_view_name": "HTMLView",
            "style": "IPY_MODEL_cb747bb0f48743e7bb2d8585c0bf7a44",
            "_dom_classes": [],
            "description": "",
            "_model_name": "HTMLModel",
            "placeholder": "​",
            "_view_module": "@jupyter-widgets/controls",
            "_model_module_version": "1.5.0",
            "value": "Downloading: 100%",
            "_view_count": null,
            "_view_module_version": "1.5.0",
            "description_tooltip": null,
            "_model_module": "@jupyter-widgets/controls",
            "layout": "IPY_MODEL_014ec7f3c9a84a1eb665183d9f8e43c3"
          }
        },
        "328fa644b08942b48cd12fe326c590a9": {
          "model_module": "@jupyter-widgets/controls",
          "model_name": "FloatProgressModel",
          "model_module_version": "1.5.0",
          "state": {
            "_view_name": "ProgressView",
            "style": "IPY_MODEL_38b422dad80340009f583cfc52acafb3",
            "_dom_classes": [],
            "description": "",
            "_model_name": "FloatProgressModel",
            "bar_style": "success",
            "max": 134,
            "_view_module": "@jupyter-widgets/controls",
            "_model_module_version": "1.5.0",
            "value": 134,
            "_view_count": null,
            "_view_module_version": "1.5.0",
            "orientation": "horizontal",
            "min": 0,
            "description_tooltip": null,
            "_model_module": "@jupyter-widgets/controls",
            "layout": "IPY_MODEL_c8a672eeb0a84a23b9a28d460dc5d46d"
          }
        },
        "2dee186bb7dd4b83bf9b5d7d683e1f38": {
          "model_module": "@jupyter-widgets/controls",
          "model_name": "HTMLModel",
          "model_module_version": "1.5.0",
          "state": {
            "_view_name": "HTMLView",
            "style": "IPY_MODEL_ba8ab8df30c0466c9793cba7f0e8007d",
            "_dom_classes": [],
            "description": "",
            "_model_name": "HTMLModel",
            "placeholder": "​",
            "_view_module": "@jupyter-widgets/controls",
            "_model_module_version": "1.5.0",
            "value": " 134/134 [00:00&lt;00:00, 1.72kB/s]",
            "_view_count": null,
            "_view_module_version": "1.5.0",
            "description_tooltip": null,
            "_model_module": "@jupyter-widgets/controls",
            "layout": "IPY_MODEL_bace89b712bb4cd3833cd6ff07c5afbf"
          }
        },
        "cb747bb0f48743e7bb2d8585c0bf7a44": {
          "model_module": "@jupyter-widgets/controls",
          "model_name": "DescriptionStyleModel",
          "model_module_version": "1.5.0",
          "state": {
            "_view_name": "StyleView",
            "_model_name": "DescriptionStyleModel",
            "description_width": "",
            "_view_module": "@jupyter-widgets/base",
            "_model_module_version": "1.5.0",
            "_view_count": null,
            "_view_module_version": "1.2.0",
            "_model_module": "@jupyter-widgets/controls"
          }
        },
        "014ec7f3c9a84a1eb665183d9f8e43c3": {
          "model_module": "@jupyter-widgets/base",
          "model_name": "LayoutModel",
          "model_module_version": "1.2.0",
          "state": {
            "_view_name": "LayoutView",
            "grid_template_rows": null,
            "right": null,
            "justify_content": null,
            "_view_module": "@jupyter-widgets/base",
            "overflow": null,
            "_model_module_version": "1.2.0",
            "_view_count": null,
            "flex_flow": null,
            "width": null,
            "min_width": null,
            "border": null,
            "align_items": null,
            "bottom": null,
            "_model_module": "@jupyter-widgets/base",
            "top": null,
            "grid_column": null,
            "overflow_y": null,
            "overflow_x": null,
            "grid_auto_flow": null,
            "grid_area": null,
            "grid_template_columns": null,
            "flex": null,
            "_model_name": "LayoutModel",
            "justify_items": null,
            "grid_row": null,
            "max_height": null,
            "align_content": null,
            "visibility": null,
            "align_self": null,
            "height": null,
            "min_height": null,
            "padding": null,
            "grid_auto_rows": null,
            "grid_gap": null,
            "max_width": null,
            "order": null,
            "_view_module_version": "1.2.0",
            "grid_template_areas": null,
            "object_position": null,
            "object_fit": null,
            "grid_auto_columns": null,
            "margin": null,
            "display": null,
            "left": null
          }
        },
        "38b422dad80340009f583cfc52acafb3": {
          "model_module": "@jupyter-widgets/controls",
          "model_name": "ProgressStyleModel",
          "model_module_version": "1.5.0",
          "state": {
            "_view_name": "StyleView",
            "_model_name": "ProgressStyleModel",
            "description_width": "",
            "_view_module": "@jupyter-widgets/base",
            "_model_module_version": "1.5.0",
            "_view_count": null,
            "_view_module_version": "1.2.0",
            "bar_color": null,
            "_model_module": "@jupyter-widgets/controls"
          }
        },
        "c8a672eeb0a84a23b9a28d460dc5d46d": {
          "model_module": "@jupyter-widgets/base",
          "model_name": "LayoutModel",
          "model_module_version": "1.2.0",
          "state": {
            "_view_name": "LayoutView",
            "grid_template_rows": null,
            "right": null,
            "justify_content": null,
            "_view_module": "@jupyter-widgets/base",
            "overflow": null,
            "_model_module_version": "1.2.0",
            "_view_count": null,
            "flex_flow": null,
            "width": null,
            "min_width": null,
            "border": null,
            "align_items": null,
            "bottom": null,
            "_model_module": "@jupyter-widgets/base",
            "top": null,
            "grid_column": null,
            "overflow_y": null,
            "overflow_x": null,
            "grid_auto_flow": null,
            "grid_area": null,
            "grid_template_columns": null,
            "flex": null,
            "_model_name": "LayoutModel",
            "justify_items": null,
            "grid_row": null,
            "max_height": null,
            "align_content": null,
            "visibility": null,
            "align_self": null,
            "height": null,
            "min_height": null,
            "padding": null,
            "grid_auto_rows": null,
            "grid_gap": null,
            "max_width": null,
            "order": null,
            "_view_module_version": "1.2.0",
            "grid_template_areas": null,
            "object_position": null,
            "object_fit": null,
            "grid_auto_columns": null,
            "margin": null,
            "display": null,
            "left": null
          }
        },
        "ba8ab8df30c0466c9793cba7f0e8007d": {
          "model_module": "@jupyter-widgets/controls",
          "model_name": "DescriptionStyleModel",
          "model_module_version": "1.5.0",
          "state": {
            "_view_name": "StyleView",
            "_model_name": "DescriptionStyleModel",
            "description_width": "",
            "_view_module": "@jupyter-widgets/base",
            "_model_module_version": "1.5.0",
            "_view_count": null,
            "_view_module_version": "1.2.0",
            "_model_module": "@jupyter-widgets/controls"
          }
        },
        "bace89b712bb4cd3833cd6ff07c5afbf": {
          "model_module": "@jupyter-widgets/base",
          "model_name": "LayoutModel",
          "model_module_version": "1.2.0",
          "state": {
            "_view_name": "LayoutView",
            "grid_template_rows": null,
            "right": null,
            "justify_content": null,
            "_view_module": "@jupyter-widgets/base",
            "overflow": null,
            "_model_module_version": "1.2.0",
            "_view_count": null,
            "flex_flow": null,
            "width": null,
            "min_width": null,
            "border": null,
            "align_items": null,
            "bottom": null,
            "_model_module": "@jupyter-widgets/base",
            "top": null,
            "grid_column": null,
            "overflow_y": null,
            "overflow_x": null,
            "grid_auto_flow": null,
            "grid_area": null,
            "grid_template_columns": null,
            "flex": null,
            "_model_name": "LayoutModel",
            "justify_items": null,
            "grid_row": null,
            "max_height": null,
            "align_content": null,
            "visibility": null,
            "align_self": null,
            "height": null,
            "min_height": null,
            "padding": null,
            "grid_auto_rows": null,
            "grid_gap": null,
            "max_width": null,
            "order": null,
            "_view_module_version": "1.2.0",
            "grid_template_areas": null,
            "object_position": null,
            "object_fit": null,
            "grid_auto_columns": null,
            "margin": null,
            "display": null,
            "left": null
          }
        },
        "9ad12408daf04e4a8516b3ac22a777ea": {
          "model_module": "@jupyter-widgets/controls",
          "model_name": "HBoxModel",
          "model_module_version": "1.5.0",
          "state": {
            "_view_name": "HBoxView",
            "_dom_classes": [],
            "_model_name": "HBoxModel",
            "_view_module": "@jupyter-widgets/controls",
            "_model_module_version": "1.5.0",
            "_view_count": null,
            "_view_module_version": "1.5.0",
            "box_style": "",
            "layout": "IPY_MODEL_bb4341693d3a4c2a934dbe1a8f23c41d",
            "_model_module": "@jupyter-widgets/controls",
            "children": [
              "IPY_MODEL_458af91b58364cfa832e3a96c0032dcf",
              "IPY_MODEL_b40184ace45348bf847feb4859c7ba77",
              "IPY_MODEL_eb1fdf21234f45ccaefb9581bfac7ea8"
            ]
          }
        },
        "bb4341693d3a4c2a934dbe1a8f23c41d": {
          "model_module": "@jupyter-widgets/base",
          "model_name": "LayoutModel",
          "model_module_version": "1.2.0",
          "state": {
            "_view_name": "LayoutView",
            "grid_template_rows": null,
            "right": null,
            "justify_content": null,
            "_view_module": "@jupyter-widgets/base",
            "overflow": null,
            "_model_module_version": "1.2.0",
            "_view_count": null,
            "flex_flow": null,
            "width": null,
            "min_width": null,
            "border": null,
            "align_items": null,
            "bottom": null,
            "_model_module": "@jupyter-widgets/base",
            "top": null,
            "grid_column": null,
            "overflow_y": null,
            "overflow_x": null,
            "grid_auto_flow": null,
            "grid_area": null,
            "grid_template_columns": null,
            "flex": null,
            "_model_name": "LayoutModel",
            "justify_items": null,
            "grid_row": null,
            "max_height": null,
            "align_content": null,
            "visibility": null,
            "align_self": null,
            "height": null,
            "min_height": null,
            "padding": null,
            "grid_auto_rows": null,
            "grid_gap": null,
            "max_width": null,
            "order": null,
            "_view_module_version": "1.2.0",
            "grid_template_areas": null,
            "object_position": null,
            "object_fit": null,
            "grid_auto_columns": null,
            "margin": null,
            "display": null,
            "left": null
          }
        },
        "458af91b58364cfa832e3a96c0032dcf": {
          "model_module": "@jupyter-widgets/controls",
          "model_name": "HTMLModel",
          "model_module_version": "1.5.0",
          "state": {
            "_view_name": "HTMLView",
            "style": "IPY_MODEL_f411d41219bd4cf1b18c6582100808f6",
            "_dom_classes": [],
            "description": "",
            "_model_name": "HTMLModel",
            "placeholder": "​",
            "_view_module": "@jupyter-widgets/controls",
            "_model_module_version": "1.5.0",
            "value": "Downloading: 100%",
            "_view_count": null,
            "_view_module_version": "1.5.0",
            "description_tooltip": null,
            "_model_module": "@jupyter-widgets/controls",
            "layout": "IPY_MODEL_1eee66cb81444821b4ae96a7ada34ae2"
          }
        },
        "b40184ace45348bf847feb4859c7ba77": {
          "model_module": "@jupyter-widgets/controls",
          "model_name": "FloatProgressModel",
          "model_module_version": "1.5.0",
          "state": {
            "_view_name": "ProgressView",
            "style": "IPY_MODEL_316a86ff532c48dc9a2ea799a017ff01",
            "_dom_classes": [],
            "description": "",
            "_model_name": "FloatProgressModel",
            "bar_style": "success",
            "max": 486125,
            "_view_module": "@jupyter-widgets/controls",
            "_model_module_version": "1.5.0",
            "value": 486125,
            "_view_count": null,
            "_view_module_version": "1.5.0",
            "orientation": "horizontal",
            "min": 0,
            "description_tooltip": null,
            "_model_module": "@jupyter-widgets/controls",
            "layout": "IPY_MODEL_3afb472d2d8f4000bb8a62db6a9c6d0c"
          }
        },
        "eb1fdf21234f45ccaefb9581bfac7ea8": {
          "model_module": "@jupyter-widgets/controls",
          "model_name": "HTMLModel",
          "model_module_version": "1.5.0",
          "state": {
            "_view_name": "HTMLView",
            "style": "IPY_MODEL_a791a9bd55eb49c0ba62c18b53ef3bac",
            "_dom_classes": [],
            "description": "",
            "_model_name": "HTMLModel",
            "placeholder": "​",
            "_view_module": "@jupyter-widgets/controls",
            "_model_module_version": "1.5.0",
            "value": " 475k/475k [00:00&lt;00:00, 489kB/s]",
            "_view_count": null,
            "_view_module_version": "1.5.0",
            "description_tooltip": null,
            "_model_module": "@jupyter-widgets/controls",
            "layout": "IPY_MODEL_640ea34d3ba249a485516849bfa67e8b"
          }
        },
        "f411d41219bd4cf1b18c6582100808f6": {
          "model_module": "@jupyter-widgets/controls",
          "model_name": "DescriptionStyleModel",
          "model_module_version": "1.5.0",
          "state": {
            "_view_name": "StyleView",
            "_model_name": "DescriptionStyleModel",
            "description_width": "",
            "_view_module": "@jupyter-widgets/base",
            "_model_module_version": "1.5.0",
            "_view_count": null,
            "_view_module_version": "1.2.0",
            "_model_module": "@jupyter-widgets/controls"
          }
        },
        "1eee66cb81444821b4ae96a7ada34ae2": {
          "model_module": "@jupyter-widgets/base",
          "model_name": "LayoutModel",
          "model_module_version": "1.2.0",
          "state": {
            "_view_name": "LayoutView",
            "grid_template_rows": null,
            "right": null,
            "justify_content": null,
            "_view_module": "@jupyter-widgets/base",
            "overflow": null,
            "_model_module_version": "1.2.0",
            "_view_count": null,
            "flex_flow": null,
            "width": null,
            "min_width": null,
            "border": null,
            "align_items": null,
            "bottom": null,
            "_model_module": "@jupyter-widgets/base",
            "top": null,
            "grid_column": null,
            "overflow_y": null,
            "overflow_x": null,
            "grid_auto_flow": null,
            "grid_area": null,
            "grid_template_columns": null,
            "flex": null,
            "_model_name": "LayoutModel",
            "justify_items": null,
            "grid_row": null,
            "max_height": null,
            "align_content": null,
            "visibility": null,
            "align_self": null,
            "height": null,
            "min_height": null,
            "padding": null,
            "grid_auto_rows": null,
            "grid_gap": null,
            "max_width": null,
            "order": null,
            "_view_module_version": "1.2.0",
            "grid_template_areas": null,
            "object_position": null,
            "object_fit": null,
            "grid_auto_columns": null,
            "margin": null,
            "display": null,
            "left": null
          }
        },
        "316a86ff532c48dc9a2ea799a017ff01": {
          "model_module": "@jupyter-widgets/controls",
          "model_name": "ProgressStyleModel",
          "model_module_version": "1.5.0",
          "state": {
            "_view_name": "StyleView",
            "_model_name": "ProgressStyleModel",
            "description_width": "",
            "_view_module": "@jupyter-widgets/base",
            "_model_module_version": "1.5.0",
            "_view_count": null,
            "_view_module_version": "1.2.0",
            "bar_color": null,
            "_model_module": "@jupyter-widgets/controls"
          }
        },
        "3afb472d2d8f4000bb8a62db6a9c6d0c": {
          "model_module": "@jupyter-widgets/base",
          "model_name": "LayoutModel",
          "model_module_version": "1.2.0",
          "state": {
            "_view_name": "LayoutView",
            "grid_template_rows": null,
            "right": null,
            "justify_content": null,
            "_view_module": "@jupyter-widgets/base",
            "overflow": null,
            "_model_module_version": "1.2.0",
            "_view_count": null,
            "flex_flow": null,
            "width": null,
            "min_width": null,
            "border": null,
            "align_items": null,
            "bottom": null,
            "_model_module": "@jupyter-widgets/base",
            "top": null,
            "grid_column": null,
            "overflow_y": null,
            "overflow_x": null,
            "grid_auto_flow": null,
            "grid_area": null,
            "grid_template_columns": null,
            "flex": null,
            "_model_name": "LayoutModel",
            "justify_items": null,
            "grid_row": null,
            "max_height": null,
            "align_content": null,
            "visibility": null,
            "align_self": null,
            "height": null,
            "min_height": null,
            "padding": null,
            "grid_auto_rows": null,
            "grid_gap": null,
            "max_width": null,
            "order": null,
            "_view_module_version": "1.2.0",
            "grid_template_areas": null,
            "object_position": null,
            "object_fit": null,
            "grid_auto_columns": null,
            "margin": null,
            "display": null,
            "left": null
          }
        },
        "a791a9bd55eb49c0ba62c18b53ef3bac": {
          "model_module": "@jupyter-widgets/controls",
          "model_name": "DescriptionStyleModel",
          "model_module_version": "1.5.0",
          "state": {
            "_view_name": "StyleView",
            "_model_name": "DescriptionStyleModel",
            "description_width": "",
            "_view_module": "@jupyter-widgets/base",
            "_model_module_version": "1.5.0",
            "_view_count": null,
            "_view_module_version": "1.2.0",
            "_model_module": "@jupyter-widgets/controls"
          }
        },
        "640ea34d3ba249a485516849bfa67e8b": {
          "model_module": "@jupyter-widgets/base",
          "model_name": "LayoutModel",
          "model_module_version": "1.2.0",
          "state": {
            "_view_name": "LayoutView",
            "grid_template_rows": null,
            "right": null,
            "justify_content": null,
            "_view_module": "@jupyter-widgets/base",
            "overflow": null,
            "_model_module_version": "1.2.0",
            "_view_count": null,
            "flex_flow": null,
            "width": null,
            "min_width": null,
            "border": null,
            "align_items": null,
            "bottom": null,
            "_model_module": "@jupyter-widgets/base",
            "top": null,
            "grid_column": null,
            "overflow_y": null,
            "overflow_x": null,
            "grid_auto_flow": null,
            "grid_area": null,
            "grid_template_columns": null,
            "flex": null,
            "_model_name": "LayoutModel",
            "justify_items": null,
            "grid_row": null,
            "max_height": null,
            "align_content": null,
            "visibility": null,
            "align_self": null,
            "height": null,
            "min_height": null,
            "padding": null,
            "grid_auto_rows": null,
            "grid_gap": null,
            "max_width": null,
            "order": null,
            "_view_module_version": "1.2.0",
            "grid_template_areas": null,
            "object_position": null,
            "object_fit": null,
            "grid_auto_columns": null,
            "margin": null,
            "display": null,
            "left": null
          }
        },
        "b96d93678cef4b62a987757e5a666360": {
          "model_module": "@jupyter-widgets/controls",
          "model_name": "HBoxModel",
          "model_module_version": "1.5.0",
          "state": {
            "_view_name": "HBoxView",
            "_dom_classes": [],
            "_model_name": "HBoxModel",
            "_view_module": "@jupyter-widgets/controls",
            "_model_module_version": "1.5.0",
            "_view_count": null,
            "_view_module_version": "1.5.0",
            "box_style": "",
            "layout": "IPY_MODEL_f963fad5bc9247e2b350fa645f988283",
            "_model_module": "@jupyter-widgets/controls",
            "children": [
              "IPY_MODEL_9b664b03f8bd4c5ab88bc8178fef5e56",
              "IPY_MODEL_e54ae85e32cf48319280d15e7ff4301c",
              "IPY_MODEL_9ea9e2d3d3a441db94aa33bd8744765f"
            ]
          }
        },
        "f963fad5bc9247e2b350fa645f988283": {
          "model_module": "@jupyter-widgets/base",
          "model_name": "LayoutModel",
          "model_module_version": "1.2.0",
          "state": {
            "_view_name": "LayoutView",
            "grid_template_rows": null,
            "right": null,
            "justify_content": null,
            "_view_module": "@jupyter-widgets/base",
            "overflow": null,
            "_model_module_version": "1.2.0",
            "_view_count": null,
            "flex_flow": null,
            "width": null,
            "min_width": null,
            "border": null,
            "align_items": null,
            "bottom": null,
            "_model_module": "@jupyter-widgets/base",
            "top": null,
            "grid_column": null,
            "overflow_y": null,
            "overflow_x": null,
            "grid_auto_flow": null,
            "grid_area": null,
            "grid_template_columns": null,
            "flex": null,
            "_model_name": "LayoutModel",
            "justify_items": null,
            "grid_row": null,
            "max_height": null,
            "align_content": null,
            "visibility": null,
            "align_self": null,
            "height": null,
            "min_height": null,
            "padding": null,
            "grid_auto_rows": null,
            "grid_gap": null,
            "max_width": null,
            "order": null,
            "_view_module_version": "1.2.0",
            "grid_template_areas": null,
            "object_position": null,
            "object_fit": null,
            "grid_auto_columns": null,
            "margin": null,
            "display": null,
            "left": null
          }
        },
        "9b664b03f8bd4c5ab88bc8178fef5e56": {
          "model_module": "@jupyter-widgets/controls",
          "model_name": "HTMLModel",
          "model_module_version": "1.5.0",
          "state": {
            "_view_name": "HTMLView",
            "style": "IPY_MODEL_a901f6eb89344e62bce7868788ecd572",
            "_dom_classes": [],
            "description": "",
            "_model_name": "HTMLModel",
            "placeholder": "​",
            "_view_module": "@jupyter-widgets/controls",
            "_model_module_version": "1.5.0",
            "value": "Downloading: 100%",
            "_view_count": null,
            "_view_module_version": "1.5.0",
            "description_tooltip": null,
            "_model_module": "@jupyter-widgets/controls",
            "layout": "IPY_MODEL_e26fabc26b7744c2978f6d7981330247"
          }
        },
        "e54ae85e32cf48319280d15e7ff4301c": {
          "model_module": "@jupyter-widgets/controls",
          "model_name": "FloatProgressModel",
          "model_module_version": "1.5.0",
          "state": {
            "_view_name": "ProgressView",
            "style": "IPY_MODEL_35d7a376782b49f582816ab3ee460c81",
            "_dom_classes": [],
            "description": "",
            "_model_name": "FloatProgressModel",
            "bar_style": "success",
            "max": 650,
            "_view_module": "@jupyter-widgets/controls",
            "_model_module_version": "1.5.0",
            "value": 650,
            "_view_count": null,
            "_view_module_version": "1.5.0",
            "orientation": "horizontal",
            "min": 0,
            "description_tooltip": null,
            "_model_module": "@jupyter-widgets/controls",
            "layout": "IPY_MODEL_c628dafa93b34d94820437523bde28ab"
          }
        },
        "9ea9e2d3d3a441db94aa33bd8744765f": {
          "model_module": "@jupyter-widgets/controls",
          "model_name": "HTMLModel",
          "model_module_version": "1.5.0",
          "state": {
            "_view_name": "HTMLView",
            "style": "IPY_MODEL_cd8509f6e5ad40fd9bdb6d995f342f8f",
            "_dom_classes": [],
            "description": "",
            "_model_name": "HTMLModel",
            "placeholder": "​",
            "_view_module": "@jupyter-widgets/controls",
            "_model_module_version": "1.5.0",
            "value": " 650/650 [00:00&lt;00:00, 3.91kB/s]",
            "_view_count": null,
            "_view_module_version": "1.5.0",
            "description_tooltip": null,
            "_model_module": "@jupyter-widgets/controls",
            "layout": "IPY_MODEL_1bb9dde7759d441286d9917e96fef42f"
          }
        },
        "a901f6eb89344e62bce7868788ecd572": {
          "model_module": "@jupyter-widgets/controls",
          "model_name": "DescriptionStyleModel",
          "model_module_version": "1.5.0",
          "state": {
            "_view_name": "StyleView",
            "_model_name": "DescriptionStyleModel",
            "description_width": "",
            "_view_module": "@jupyter-widgets/base",
            "_model_module_version": "1.5.0",
            "_view_count": null,
            "_view_module_version": "1.2.0",
            "_model_module": "@jupyter-widgets/controls"
          }
        },
        "e26fabc26b7744c2978f6d7981330247": {
          "model_module": "@jupyter-widgets/base",
          "model_name": "LayoutModel",
          "model_module_version": "1.2.0",
          "state": {
            "_view_name": "LayoutView",
            "grid_template_rows": null,
            "right": null,
            "justify_content": null,
            "_view_module": "@jupyter-widgets/base",
            "overflow": null,
            "_model_module_version": "1.2.0",
            "_view_count": null,
            "flex_flow": null,
            "width": null,
            "min_width": null,
            "border": null,
            "align_items": null,
            "bottom": null,
            "_model_module": "@jupyter-widgets/base",
            "top": null,
            "grid_column": null,
            "overflow_y": null,
            "overflow_x": null,
            "grid_auto_flow": null,
            "grid_area": null,
            "grid_template_columns": null,
            "flex": null,
            "_model_name": "LayoutModel",
            "justify_items": null,
            "grid_row": null,
            "max_height": null,
            "align_content": null,
            "visibility": null,
            "align_self": null,
            "height": null,
            "min_height": null,
            "padding": null,
            "grid_auto_rows": null,
            "grid_gap": null,
            "max_width": null,
            "order": null,
            "_view_module_version": "1.2.0",
            "grid_template_areas": null,
            "object_position": null,
            "object_fit": null,
            "grid_auto_columns": null,
            "margin": null,
            "display": null,
            "left": null
          }
        },
        "35d7a376782b49f582816ab3ee460c81": {
          "model_module": "@jupyter-widgets/controls",
          "model_name": "ProgressStyleModel",
          "model_module_version": "1.5.0",
          "state": {
            "_view_name": "StyleView",
            "_model_name": "ProgressStyleModel",
            "description_width": "",
            "_view_module": "@jupyter-widgets/base",
            "_model_module_version": "1.5.0",
            "_view_count": null,
            "_view_module_version": "1.2.0",
            "bar_color": null,
            "_model_module": "@jupyter-widgets/controls"
          }
        },
        "c628dafa93b34d94820437523bde28ab": {
          "model_module": "@jupyter-widgets/base",
          "model_name": "LayoutModel",
          "model_module_version": "1.2.0",
          "state": {
            "_view_name": "LayoutView",
            "grid_template_rows": null,
            "right": null,
            "justify_content": null,
            "_view_module": "@jupyter-widgets/base",
            "overflow": null,
            "_model_module_version": "1.2.0",
            "_view_count": null,
            "flex_flow": null,
            "width": null,
            "min_width": null,
            "border": null,
            "align_items": null,
            "bottom": null,
            "_model_module": "@jupyter-widgets/base",
            "top": null,
            "grid_column": null,
            "overflow_y": null,
            "overflow_x": null,
            "grid_auto_flow": null,
            "grid_area": null,
            "grid_template_columns": null,
            "flex": null,
            "_model_name": "LayoutModel",
            "justify_items": null,
            "grid_row": null,
            "max_height": null,
            "align_content": null,
            "visibility": null,
            "align_self": null,
            "height": null,
            "min_height": null,
            "padding": null,
            "grid_auto_rows": null,
            "grid_gap": null,
            "max_width": null,
            "order": null,
            "_view_module_version": "1.2.0",
            "grid_template_areas": null,
            "object_position": null,
            "object_fit": null,
            "grid_auto_columns": null,
            "margin": null,
            "display": null,
            "left": null
          }
        },
        "cd8509f6e5ad40fd9bdb6d995f342f8f": {
          "model_module": "@jupyter-widgets/controls",
          "model_name": "DescriptionStyleModel",
          "model_module_version": "1.5.0",
          "state": {
            "_view_name": "StyleView",
            "_model_name": "DescriptionStyleModel",
            "description_width": "",
            "_view_module": "@jupyter-widgets/base",
            "_model_module_version": "1.5.0",
            "_view_count": null,
            "_view_module_version": "1.2.0",
            "_model_module": "@jupyter-widgets/controls"
          }
        },
        "1bb9dde7759d441286d9917e96fef42f": {
          "model_module": "@jupyter-widgets/base",
          "model_name": "LayoutModel",
          "model_module_version": "1.2.0",
          "state": {
            "_view_name": "LayoutView",
            "grid_template_rows": null,
            "right": null,
            "justify_content": null,
            "_view_module": "@jupyter-widgets/base",
            "overflow": null,
            "_model_module_version": "1.2.0",
            "_view_count": null,
            "flex_flow": null,
            "width": null,
            "min_width": null,
            "border": null,
            "align_items": null,
            "bottom": null,
            "_model_module": "@jupyter-widgets/base",
            "top": null,
            "grid_column": null,
            "overflow_y": null,
            "overflow_x": null,
            "grid_auto_flow": null,
            "grid_area": null,
            "grid_template_columns": null,
            "flex": null,
            "_model_name": "LayoutModel",
            "justify_items": null,
            "grid_row": null,
            "max_height": null,
            "align_content": null,
            "visibility": null,
            "align_self": null,
            "height": null,
            "min_height": null,
            "padding": null,
            "grid_auto_rows": null,
            "grid_gap": null,
            "max_width": null,
            "order": null,
            "_view_module_version": "1.2.0",
            "grid_template_areas": null,
            "object_position": null,
            "object_fit": null,
            "grid_auto_columns": null,
            "margin": null,
            "display": null,
            "left": null
          }
        },
        "466684d2f69f41b687789ee663801b33": {
          "model_module": "@jupyter-widgets/controls",
          "model_name": "HBoxModel",
          "model_module_version": "1.5.0",
          "state": {
            "_view_name": "HBoxView",
            "_dom_classes": [],
            "_model_name": "HBoxModel",
            "_view_module": "@jupyter-widgets/controls",
            "_model_module_version": "1.5.0",
            "_view_count": null,
            "_view_module_version": "1.5.0",
            "box_style": "",
            "layout": "IPY_MODEL_d3c05fc8168e4f9e9eeed393fee9746e",
            "_model_module": "@jupyter-widgets/controls",
            "children": [
              "IPY_MODEL_f12e1f73b8874e239d52d0bf7f409e78",
              "IPY_MODEL_f2358428fa064774af53715a60840721",
              "IPY_MODEL_a99b8519105c4cb988af5c35b0d14cbd"
            ]
          }
        },
        "d3c05fc8168e4f9e9eeed393fee9746e": {
          "model_module": "@jupyter-widgets/base",
          "model_name": "LayoutModel",
          "model_module_version": "1.2.0",
          "state": {
            "_view_name": "LayoutView",
            "grid_template_rows": null,
            "right": null,
            "justify_content": null,
            "_view_module": "@jupyter-widgets/base",
            "overflow": null,
            "_model_module_version": "1.2.0",
            "_view_count": null,
            "flex_flow": null,
            "width": null,
            "min_width": null,
            "border": null,
            "align_items": null,
            "bottom": null,
            "_model_module": "@jupyter-widgets/base",
            "top": null,
            "grid_column": null,
            "overflow_y": null,
            "overflow_x": null,
            "grid_auto_flow": null,
            "grid_area": null,
            "grid_template_columns": null,
            "flex": null,
            "_model_name": "LayoutModel",
            "justify_items": null,
            "grid_row": null,
            "max_height": null,
            "align_content": null,
            "visibility": null,
            "align_self": null,
            "height": null,
            "min_height": null,
            "padding": null,
            "grid_auto_rows": null,
            "grid_gap": null,
            "max_width": null,
            "order": null,
            "_view_module_version": "1.2.0",
            "grid_template_areas": null,
            "object_position": null,
            "object_fit": null,
            "grid_auto_columns": null,
            "margin": null,
            "display": null,
            "left": null
          }
        },
        "f12e1f73b8874e239d52d0bf7f409e78": {
          "model_module": "@jupyter-widgets/controls",
          "model_name": "HTMLModel",
          "model_module_version": "1.5.0",
          "state": {
            "_view_name": "HTMLView",
            "style": "IPY_MODEL_d04e82cd5fa14be28a4d457fe50ffc8b",
            "_dom_classes": [],
            "description": "",
            "_model_name": "HTMLModel",
            "placeholder": "​",
            "_view_module": "@jupyter-widgets/controls",
            "_model_module_version": "1.5.0",
            "value": "Downloading: 100%",
            "_view_count": null,
            "_view_module_version": "1.5.0",
            "description_tooltip": null,
            "_model_module": "@jupyter-widgets/controls",
            "layout": "IPY_MODEL_82b4be7e91a94a04b64342d3b67caf75"
          }
        },
        "f2358428fa064774af53715a60840721": {
          "model_module": "@jupyter-widgets/controls",
          "model_name": "FloatProgressModel",
          "model_module_version": "1.5.0",
          "state": {
            "_view_name": "ProgressView",
            "style": "IPY_MODEL_5d7b904526c440dda599f6551d8eac55",
            "_dom_classes": [],
            "description": "",
            "_model_name": "FloatProgressModel",
            "bar_style": "success",
            "max": 439621341,
            "_view_module": "@jupyter-widgets/controls",
            "_model_module_version": "1.5.0",
            "value": 439621341,
            "_view_count": null,
            "_view_module_version": "1.5.0",
            "orientation": "horizontal",
            "min": 0,
            "description_tooltip": null,
            "_model_module": "@jupyter-widgets/controls",
            "layout": "IPY_MODEL_400fa096491942b18a7f7b75557cadd9"
          }
        },
        "a99b8519105c4cb988af5c35b0d14cbd": {
          "model_module": "@jupyter-widgets/controls",
          "model_name": "HTMLModel",
          "model_module_version": "1.5.0",
          "state": {
            "_view_name": "HTMLView",
            "style": "IPY_MODEL_061a0f1680e04f0eb245fdcd73e7ef63",
            "_dom_classes": [],
            "description": "",
            "_model_name": "HTMLModel",
            "placeholder": "​",
            "_view_module": "@jupyter-widgets/controls",
            "_model_module_version": "1.5.0",
            "value": " 419M/419M [00:12&lt;00:00, 35.1MB/s]",
            "_view_count": null,
            "_view_module_version": "1.5.0",
            "description_tooltip": null,
            "_model_module": "@jupyter-widgets/controls",
            "layout": "IPY_MODEL_57471cb0245a4a5d8f06b77fc1b80a45"
          }
        },
        "d04e82cd5fa14be28a4d457fe50ffc8b": {
          "model_module": "@jupyter-widgets/controls",
          "model_name": "DescriptionStyleModel",
          "model_module_version": "1.5.0",
          "state": {
            "_view_name": "StyleView",
            "_model_name": "DescriptionStyleModel",
            "description_width": "",
            "_view_module": "@jupyter-widgets/base",
            "_model_module_version": "1.5.0",
            "_view_count": null,
            "_view_module_version": "1.2.0",
            "_model_module": "@jupyter-widgets/controls"
          }
        },
        "82b4be7e91a94a04b64342d3b67caf75": {
          "model_module": "@jupyter-widgets/base",
          "model_name": "LayoutModel",
          "model_module_version": "1.2.0",
          "state": {
            "_view_name": "LayoutView",
            "grid_template_rows": null,
            "right": null,
            "justify_content": null,
            "_view_module": "@jupyter-widgets/base",
            "overflow": null,
            "_model_module_version": "1.2.0",
            "_view_count": null,
            "flex_flow": null,
            "width": null,
            "min_width": null,
            "border": null,
            "align_items": null,
            "bottom": null,
            "_model_module": "@jupyter-widgets/base",
            "top": null,
            "grid_column": null,
            "overflow_y": null,
            "overflow_x": null,
            "grid_auto_flow": null,
            "grid_area": null,
            "grid_template_columns": null,
            "flex": null,
            "_model_name": "LayoutModel",
            "justify_items": null,
            "grid_row": null,
            "max_height": null,
            "align_content": null,
            "visibility": null,
            "align_self": null,
            "height": null,
            "min_height": null,
            "padding": null,
            "grid_auto_rows": null,
            "grid_gap": null,
            "max_width": null,
            "order": null,
            "_view_module_version": "1.2.0",
            "grid_template_areas": null,
            "object_position": null,
            "object_fit": null,
            "grid_auto_columns": null,
            "margin": null,
            "display": null,
            "left": null
          }
        },
        "5d7b904526c440dda599f6551d8eac55": {
          "model_module": "@jupyter-widgets/controls",
          "model_name": "ProgressStyleModel",
          "model_module_version": "1.5.0",
          "state": {
            "_view_name": "StyleView",
            "_model_name": "ProgressStyleModel",
            "description_width": "",
            "_view_module": "@jupyter-widgets/base",
            "_model_module_version": "1.5.0",
            "_view_count": null,
            "_view_module_version": "1.2.0",
            "bar_color": null,
            "_model_module": "@jupyter-widgets/controls"
          }
        },
        "400fa096491942b18a7f7b75557cadd9": {
          "model_module": "@jupyter-widgets/base",
          "model_name": "LayoutModel",
          "model_module_version": "1.2.0",
          "state": {
            "_view_name": "LayoutView",
            "grid_template_rows": null,
            "right": null,
            "justify_content": null,
            "_view_module": "@jupyter-widgets/base",
            "overflow": null,
            "_model_module_version": "1.2.0",
            "_view_count": null,
            "flex_flow": null,
            "width": null,
            "min_width": null,
            "border": null,
            "align_items": null,
            "bottom": null,
            "_model_module": "@jupyter-widgets/base",
            "top": null,
            "grid_column": null,
            "overflow_y": null,
            "overflow_x": null,
            "grid_auto_flow": null,
            "grid_area": null,
            "grid_template_columns": null,
            "flex": null,
            "_model_name": "LayoutModel",
            "justify_items": null,
            "grid_row": null,
            "max_height": null,
            "align_content": null,
            "visibility": null,
            "align_self": null,
            "height": null,
            "min_height": null,
            "padding": null,
            "grid_auto_rows": null,
            "grid_gap": null,
            "max_width": null,
            "order": null,
            "_view_module_version": "1.2.0",
            "grid_template_areas": null,
            "object_position": null,
            "object_fit": null,
            "grid_auto_columns": null,
            "margin": null,
            "display": null,
            "left": null
          }
        },
        "061a0f1680e04f0eb245fdcd73e7ef63": {
          "model_module": "@jupyter-widgets/controls",
          "model_name": "DescriptionStyleModel",
          "model_module_version": "1.5.0",
          "state": {
            "_view_name": "StyleView",
            "_model_name": "DescriptionStyleModel",
            "description_width": "",
            "_view_module": "@jupyter-widgets/base",
            "_model_module_version": "1.5.0",
            "_view_count": null,
            "_view_module_version": "1.2.0",
            "_model_module": "@jupyter-widgets/controls"
          }
        },
        "57471cb0245a4a5d8f06b77fc1b80a45": {
          "model_module": "@jupyter-widgets/base",
          "model_name": "LayoutModel",
          "model_module_version": "1.2.0",
          "state": {
            "_view_name": "LayoutView",
            "grid_template_rows": null,
            "right": null,
            "justify_content": null,
            "_view_module": "@jupyter-widgets/base",
            "overflow": null,
            "_model_module_version": "1.2.0",
            "_view_count": null,
            "flex_flow": null,
            "width": null,
            "min_width": null,
            "border": null,
            "align_items": null,
            "bottom": null,
            "_model_module": "@jupyter-widgets/base",
            "top": null,
            "grid_column": null,
            "overflow_y": null,
            "overflow_x": null,
            "grid_auto_flow": null,
            "grid_area": null,
            "grid_template_columns": null,
            "flex": null,
            "_model_name": "LayoutModel",
            "justify_items": null,
            "grid_row": null,
            "max_height": null,
            "align_content": null,
            "visibility": null,
            "align_self": null,
            "height": null,
            "min_height": null,
            "padding": null,
            "grid_auto_rows": null,
            "grid_gap": null,
            "max_width": null,
            "order": null,
            "_view_module_version": "1.2.0",
            "grid_template_areas": null,
            "object_position": null,
            "object_fit": null,
            "grid_auto_columns": null,
            "margin": null,
            "display": null,
            "left": null
          }
        },
        "a6eaec77f25b4bfb8212521de1dfa059": {
          "model_module": "@jupyter-widgets/controls",
          "model_name": "VBoxModel",
          "model_module_version": "1.5.0",
          "state": {
            "_view_name": "VBoxView",
            "_dom_classes": [],
            "_model_name": "VBoxModel",
            "_view_module": "@jupyter-widgets/controls",
            "_model_module_version": "1.5.0",
            "_view_count": null,
            "_view_module_version": "1.5.0",
            "box_style": "",
            "layout": "IPY_MODEL_afdcb5ba779f483cb561c7672430c23a",
            "_model_module": "@jupyter-widgets/controls",
            "children": [
              "IPY_MODEL_33d504fe0b4f4225924b0de53ab60167",
              "IPY_MODEL_e80f3efe954e4c09a3b9c76acbdb9b65",
              "IPY_MODEL_c86f1d7120694a48acd6675dca99818e",
              "IPY_MODEL_3f3a92dd40904984b09640cb374259d7",
              "IPY_MODEL_d15234b5c54543869913f6d11488eb4e"
            ]
          }
        },
        "afdcb5ba779f483cb561c7672430c23a": {
          "model_module": "@jupyter-widgets/base",
          "model_name": "LayoutModel",
          "model_module_version": "1.2.0",
          "state": {
            "_view_name": "LayoutView",
            "grid_template_rows": null,
            "right": null,
            "justify_content": null,
            "_view_module": "@jupyter-widgets/base",
            "overflow": null,
            "_model_module_version": "1.2.0",
            "_view_count": null,
            "flex_flow": "column",
            "width": "50%",
            "min_width": null,
            "border": null,
            "align_items": "center",
            "bottom": null,
            "_model_module": "@jupyter-widgets/base",
            "top": null,
            "grid_column": null,
            "overflow_y": null,
            "overflow_x": null,
            "grid_auto_flow": null,
            "grid_area": null,
            "grid_template_columns": null,
            "flex": null,
            "_model_name": "LayoutModel",
            "justify_items": null,
            "grid_row": null,
            "max_height": null,
            "align_content": null,
            "visibility": null,
            "align_self": null,
            "height": null,
            "min_height": null,
            "padding": null,
            "grid_auto_rows": null,
            "grid_gap": null,
            "max_width": null,
            "order": null,
            "_view_module_version": "1.2.0",
            "grid_template_areas": null,
            "object_position": null,
            "object_fit": null,
            "grid_auto_columns": null,
            "margin": null,
            "display": "flex",
            "left": null
          }
        },
        "33d504fe0b4f4225924b0de53ab60167": {
          "model_module": "@jupyter-widgets/controls",
          "model_name": "HTMLModel",
          "model_module_version": "1.5.0",
          "state": {
            "_view_name": "HTMLView",
            "style": "IPY_MODEL_f4671bbe5e1546d5ba4e5b032da61aa1",
            "_dom_classes": [],
            "description": "",
            "_model_name": "HTMLModel",
            "placeholder": "​",
            "_view_module": "@jupyter-widgets/controls",
            "_model_module_version": "1.5.0",
            "value": "<center>\n<img src=https://huggingface.co/front/assets/huggingface_logo-noborder.svg alt='Hugging Face'>\n<br>\nCopy a token from <a href=\"https://huggingface.co/settings/token\" target=\"_blank\">your Hugging Face tokens page</a> and paste it below.\n<br>\nImmediately click login after copying your token or it might be stored in plain text in this notebook file.\n</center>",
            "_view_count": null,
            "_view_module_version": "1.5.0",
            "description_tooltip": null,
            "_model_module": "@jupyter-widgets/controls",
            "layout": "IPY_MODEL_af7a86ed71754d2f80edc72cce86721a"
          }
        },
        "e80f3efe954e4c09a3b9c76acbdb9b65": {
          "model_module": "@jupyter-widgets/controls",
          "model_name": "PasswordModel",
          "model_module_version": "1.5.0",
          "state": {
            "_view_name": "PasswordView",
            "style": "IPY_MODEL_172b032f606c4f619394378fbf152937",
            "_dom_classes": [],
            "description": "Token:",
            "_model_name": "PasswordModel",
            "placeholder": "​",
            "_view_module": "@jupyter-widgets/controls",
            "_model_module_version": "1.5.0",
            "value": "",
            "_view_count": null,
            "disabled": false,
            "_view_module_version": "1.5.0",
            "continuous_update": true,
            "description_tooltip": null,
            "_model_module": "@jupyter-widgets/controls",
            "layout": "IPY_MODEL_027ad624cdab46d1aa75bc42c41045fe"
          }
        },
        "c86f1d7120694a48acd6675dca99818e": {
          "model_module": "@jupyter-widgets/controls",
          "model_name": "ButtonModel",
          "model_module_version": "1.5.0",
          "state": {
            "_view_name": "ButtonView",
            "style": "IPY_MODEL_314d1534111a4cbd850180988020cf46",
            "_dom_classes": [],
            "description": "Login",
            "_model_name": "ButtonModel",
            "button_style": "",
            "_view_module": "@jupyter-widgets/controls",
            "_model_module_version": "1.5.0",
            "tooltip": "",
            "_view_count": null,
            "disabled": false,
            "_view_module_version": "1.5.0",
            "layout": "IPY_MODEL_d416dcb3aa4e4f3786613b15584780d9",
            "_model_module": "@jupyter-widgets/controls",
            "icon": ""
          }
        },
        "3f3a92dd40904984b09640cb374259d7": {
          "model_module": "@jupyter-widgets/controls",
          "model_name": "HTMLModel",
          "model_module_version": "1.5.0",
          "state": {
            "_view_name": "HTMLView",
            "style": "IPY_MODEL_9b9b02dbcb204cfa925043952c6d6fe2",
            "_dom_classes": [],
            "description": "",
            "_model_name": "HTMLModel",
            "placeholder": "​",
            "_view_module": "@jupyter-widgets/controls",
            "_model_module_version": "1.5.0",
            "value": "\n<b>Pro Tip:</b> If you don't already have one, you can create a dedicated 'notebooks' token with 'write' access, that you can then easily reuse for all notebooks.\n<br>\n<i>Logging in with your username and password is deprecated and won't be possible anymore in the near future. You can still use them for now by clicking below.</i>\n</center>",
            "_view_count": null,
            "_view_module_version": "1.5.0",
            "description_tooltip": null,
            "_model_module": "@jupyter-widgets/controls",
            "layout": "IPY_MODEL_e79dcf030e944d119749b04af8a103b8"
          }
        },
        "d15234b5c54543869913f6d11488eb4e": {
          "model_module": "@jupyter-widgets/controls",
          "model_name": "ButtonModel",
          "model_module_version": "1.5.0",
          "state": {
            "_view_name": "ButtonView",
            "style": "IPY_MODEL_ae94762058494c02b5f500deb248b466",
            "_dom_classes": [],
            "description": "Use password",
            "_model_name": "ButtonModel",
            "button_style": "",
            "_view_module": "@jupyter-widgets/controls",
            "_model_module_version": "1.5.0",
            "tooltip": "",
            "_view_count": null,
            "disabled": false,
            "_view_module_version": "1.5.0",
            "layout": "IPY_MODEL_615362794192423cb38302be72ec0230",
            "_model_module": "@jupyter-widgets/controls",
            "icon": ""
          }
        },
        "f4671bbe5e1546d5ba4e5b032da61aa1": {
          "model_module": "@jupyter-widgets/controls",
          "model_name": "DescriptionStyleModel",
          "model_module_version": "1.5.0",
          "state": {
            "_view_name": "StyleView",
            "_model_name": "DescriptionStyleModel",
            "description_width": "",
            "_view_module": "@jupyter-widgets/base",
            "_model_module_version": "1.5.0",
            "_view_count": null,
            "_view_module_version": "1.2.0",
            "_model_module": "@jupyter-widgets/controls"
          }
        },
        "af7a86ed71754d2f80edc72cce86721a": {
          "model_module": "@jupyter-widgets/base",
          "model_name": "LayoutModel",
          "model_module_version": "1.2.0",
          "state": {
            "_view_name": "LayoutView",
            "grid_template_rows": null,
            "right": null,
            "justify_content": null,
            "_view_module": "@jupyter-widgets/base",
            "overflow": null,
            "_model_module_version": "1.2.0",
            "_view_count": null,
            "flex_flow": null,
            "width": null,
            "min_width": null,
            "border": null,
            "align_items": null,
            "bottom": null,
            "_model_module": "@jupyter-widgets/base",
            "top": null,
            "grid_column": null,
            "overflow_y": null,
            "overflow_x": null,
            "grid_auto_flow": null,
            "grid_area": null,
            "grid_template_columns": null,
            "flex": null,
            "_model_name": "LayoutModel",
            "justify_items": null,
            "grid_row": null,
            "max_height": null,
            "align_content": null,
            "visibility": null,
            "align_self": null,
            "height": null,
            "min_height": null,
            "padding": null,
            "grid_auto_rows": null,
            "grid_gap": null,
            "max_width": null,
            "order": null,
            "_view_module_version": "1.2.0",
            "grid_template_areas": null,
            "object_position": null,
            "object_fit": null,
            "grid_auto_columns": null,
            "margin": null,
            "display": null,
            "left": null
          }
        },
        "172b032f606c4f619394378fbf152937": {
          "model_module": "@jupyter-widgets/controls",
          "model_name": "DescriptionStyleModel",
          "model_module_version": "1.5.0",
          "state": {
            "_view_name": "StyleView",
            "_model_name": "DescriptionStyleModel",
            "description_width": "",
            "_view_module": "@jupyter-widgets/base",
            "_model_module_version": "1.5.0",
            "_view_count": null,
            "_view_module_version": "1.2.0",
            "_model_module": "@jupyter-widgets/controls"
          }
        },
        "027ad624cdab46d1aa75bc42c41045fe": {
          "model_module": "@jupyter-widgets/base",
          "model_name": "LayoutModel",
          "model_module_version": "1.2.0",
          "state": {
            "_view_name": "LayoutView",
            "grid_template_rows": null,
            "right": null,
            "justify_content": null,
            "_view_module": "@jupyter-widgets/base",
            "overflow": null,
            "_model_module_version": "1.2.0",
            "_view_count": null,
            "flex_flow": null,
            "width": null,
            "min_width": null,
            "border": null,
            "align_items": null,
            "bottom": null,
            "_model_module": "@jupyter-widgets/base",
            "top": null,
            "grid_column": null,
            "overflow_y": null,
            "overflow_x": null,
            "grid_auto_flow": null,
            "grid_area": null,
            "grid_template_columns": null,
            "flex": null,
            "_model_name": "LayoutModel",
            "justify_items": null,
            "grid_row": null,
            "max_height": null,
            "align_content": null,
            "visibility": null,
            "align_self": null,
            "height": null,
            "min_height": null,
            "padding": null,
            "grid_auto_rows": null,
            "grid_gap": null,
            "max_width": null,
            "order": null,
            "_view_module_version": "1.2.0",
            "grid_template_areas": null,
            "object_position": null,
            "object_fit": null,
            "grid_auto_columns": null,
            "margin": null,
            "display": null,
            "left": null
          }
        },
        "314d1534111a4cbd850180988020cf46": {
          "model_module": "@jupyter-widgets/controls",
          "model_name": "ButtonStyleModel",
          "model_module_version": "1.5.0",
          "state": {
            "_view_name": "StyleView",
            "_model_name": "ButtonStyleModel",
            "_view_module": "@jupyter-widgets/base",
            "_model_module_version": "1.5.0",
            "_view_count": null,
            "button_color": null,
            "font_weight": "",
            "_view_module_version": "1.2.0",
            "_model_module": "@jupyter-widgets/controls"
          }
        },
        "d416dcb3aa4e4f3786613b15584780d9": {
          "model_module": "@jupyter-widgets/base",
          "model_name": "LayoutModel",
          "model_module_version": "1.2.0",
          "state": {
            "_view_name": "LayoutView",
            "grid_template_rows": null,
            "right": null,
            "justify_content": null,
            "_view_module": "@jupyter-widgets/base",
            "overflow": null,
            "_model_module_version": "1.2.0",
            "_view_count": null,
            "flex_flow": null,
            "width": null,
            "min_width": null,
            "border": null,
            "align_items": null,
            "bottom": null,
            "_model_module": "@jupyter-widgets/base",
            "top": null,
            "grid_column": null,
            "overflow_y": null,
            "overflow_x": null,
            "grid_auto_flow": null,
            "grid_area": null,
            "grid_template_columns": null,
            "flex": null,
            "_model_name": "LayoutModel",
            "justify_items": null,
            "grid_row": null,
            "max_height": null,
            "align_content": null,
            "visibility": null,
            "align_self": null,
            "height": null,
            "min_height": null,
            "padding": null,
            "grid_auto_rows": null,
            "grid_gap": null,
            "max_width": null,
            "order": null,
            "_view_module_version": "1.2.0",
            "grid_template_areas": null,
            "object_position": null,
            "object_fit": null,
            "grid_auto_columns": null,
            "margin": null,
            "display": null,
            "left": null
          }
        },
        "9b9b02dbcb204cfa925043952c6d6fe2": {
          "model_module": "@jupyter-widgets/controls",
          "model_name": "DescriptionStyleModel",
          "model_module_version": "1.5.0",
          "state": {
            "_view_name": "StyleView",
            "_model_name": "DescriptionStyleModel",
            "description_width": "",
            "_view_module": "@jupyter-widgets/base",
            "_model_module_version": "1.5.0",
            "_view_count": null,
            "_view_module_version": "1.2.0",
            "_model_module": "@jupyter-widgets/controls"
          }
        },
        "e79dcf030e944d119749b04af8a103b8": {
          "model_module": "@jupyter-widgets/base",
          "model_name": "LayoutModel",
          "model_module_version": "1.2.0",
          "state": {
            "_view_name": "LayoutView",
            "grid_template_rows": null,
            "right": null,
            "justify_content": null,
            "_view_module": "@jupyter-widgets/base",
            "overflow": null,
            "_model_module_version": "1.2.0",
            "_view_count": null,
            "flex_flow": null,
            "width": null,
            "min_width": null,
            "border": null,
            "align_items": null,
            "bottom": null,
            "_model_module": "@jupyter-widgets/base",
            "top": null,
            "grid_column": null,
            "overflow_y": null,
            "overflow_x": null,
            "grid_auto_flow": null,
            "grid_area": null,
            "grid_template_columns": null,
            "flex": null,
            "_model_name": "LayoutModel",
            "justify_items": null,
            "grid_row": null,
            "max_height": null,
            "align_content": null,
            "visibility": null,
            "align_self": null,
            "height": null,
            "min_height": null,
            "padding": null,
            "grid_auto_rows": null,
            "grid_gap": null,
            "max_width": null,
            "order": null,
            "_view_module_version": "1.2.0",
            "grid_template_areas": null,
            "object_position": null,
            "object_fit": null,
            "grid_auto_columns": null,
            "margin": null,
            "display": null,
            "left": null
          }
        },
        "ae94762058494c02b5f500deb248b466": {
          "model_module": "@jupyter-widgets/controls",
          "model_name": "ButtonStyleModel",
          "model_module_version": "1.5.0",
          "state": {
            "_view_name": "StyleView",
            "_model_name": "ButtonStyleModel",
            "_view_module": "@jupyter-widgets/base",
            "_model_module_version": "1.5.0",
            "_view_count": null,
            "button_color": null,
            "font_weight": "",
            "_view_module_version": "1.2.0",
            "_model_module": "@jupyter-widgets/controls"
          }
        },
        "615362794192423cb38302be72ec0230": {
          "model_module": "@jupyter-widgets/base",
          "model_name": "LayoutModel",
          "model_module_version": "1.2.0",
          "state": {
            "_view_name": "LayoutView",
            "grid_template_rows": null,
            "right": null,
            "justify_content": null,
            "_view_module": "@jupyter-widgets/base",
            "overflow": null,
            "_model_module_version": "1.2.0",
            "_view_count": null,
            "flex_flow": null,
            "width": null,
            "min_width": null,
            "border": null,
            "align_items": null,
            "bottom": null,
            "_model_module": "@jupyter-widgets/base",
            "top": null,
            "grid_column": null,
            "overflow_y": null,
            "overflow_x": null,
            "grid_auto_flow": null,
            "grid_area": null,
            "grid_template_columns": null,
            "flex": null,
            "_model_name": "LayoutModel",
            "justify_items": null,
            "grid_row": null,
            "max_height": null,
            "align_content": null,
            "visibility": null,
            "align_self": null,
            "height": null,
            "min_height": null,
            "padding": null,
            "grid_auto_rows": null,
            "grid_gap": null,
            "max_width": null,
            "order": null,
            "_view_module_version": "1.2.0",
            "grid_template_areas": null,
            "object_position": null,
            "object_fit": null,
            "grid_auto_columns": null,
            "margin": null,
            "display": null,
            "left": null
          }
        },
        "bddfac9657804a3797464ed4a9fad24d": {
          "model_module": "@jupyter-widgets/controls",
          "model_name": "HBoxModel",
          "model_module_version": "1.5.0",
          "state": {
            "_view_name": "HBoxView",
            "_dom_classes": [],
            "_model_name": "HBoxModel",
            "_view_module": "@jupyter-widgets/controls",
            "_model_module_version": "1.5.0",
            "_view_count": null,
            "_view_module_version": "1.5.0",
            "box_style": "",
            "layout": "IPY_MODEL_567e1ff8a0ed459a9f9989d3136b3781",
            "_model_module": "@jupyter-widgets/controls",
            "children": [
              "IPY_MODEL_370896f5756b4ab5bbda49dd8d51039d",
              "IPY_MODEL_06c0688987614993985e7d1fb7fc1fd5",
              "IPY_MODEL_c414fd693a4c460a814416b979835e44"
            ]
          }
        },
        "567e1ff8a0ed459a9f9989d3136b3781": {
          "model_module": "@jupyter-widgets/base",
          "model_name": "LayoutModel",
          "model_module_version": "1.2.0",
          "state": {
            "_view_name": "LayoutView",
            "grid_template_rows": null,
            "right": null,
            "justify_content": null,
            "_view_module": "@jupyter-widgets/base",
            "overflow": null,
            "_model_module_version": "1.2.0",
            "_view_count": null,
            "flex_flow": null,
            "width": null,
            "min_width": null,
            "border": null,
            "align_items": null,
            "bottom": null,
            "_model_module": "@jupyter-widgets/base",
            "top": null,
            "grid_column": null,
            "overflow_y": null,
            "overflow_x": null,
            "grid_auto_flow": null,
            "grid_area": null,
            "grid_template_columns": null,
            "flex": null,
            "_model_name": "LayoutModel",
            "justify_items": null,
            "grid_row": null,
            "max_height": null,
            "align_content": null,
            "visibility": null,
            "align_self": null,
            "height": null,
            "min_height": null,
            "padding": null,
            "grid_auto_rows": null,
            "grid_gap": null,
            "max_width": null,
            "order": null,
            "_view_module_version": "1.2.0",
            "grid_template_areas": null,
            "object_position": null,
            "object_fit": null,
            "grid_auto_columns": null,
            "margin": null,
            "display": null,
            "left": null
          }
        },
        "370896f5756b4ab5bbda49dd8d51039d": {
          "model_module": "@jupyter-widgets/controls",
          "model_name": "HTMLModel",
          "model_module_version": "1.5.0",
          "state": {
            "_view_name": "HTMLView",
            "style": "IPY_MODEL_b01ddbbf25114bba96e5a6350e1c7392",
            "_dom_classes": [],
            "description": "",
            "_model_name": "HTMLModel",
            "placeholder": "​",
            "_view_module": "@jupyter-widgets/controls",
            "_model_module_version": "1.5.0",
            "value": "Upload file pytorch_model.bin: 100%",
            "_view_count": null,
            "_view_module_version": "1.5.0",
            "description_tooltip": null,
            "_model_module": "@jupyter-widgets/controls",
            "layout": "IPY_MODEL_5911d099faed41828605ed2b366933ed"
          }
        },
        "06c0688987614993985e7d1fb7fc1fd5": {
          "model_module": "@jupyter-widgets/controls",
          "model_name": "FloatProgressModel",
          "model_module_version": "1.5.0",
          "state": {
            "_view_name": "ProgressView",
            "style": "IPY_MODEL_b83f2bc0f0924c0ca239e75c3d88c1bd",
            "_dom_classes": [],
            "description": "",
            "_model_name": "FloatProgressModel",
            "bar_style": "success",
            "max": 439496877,
            "_view_module": "@jupyter-widgets/controls",
            "_model_module_version": "1.5.0",
            "value": 439496877,
            "_view_count": null,
            "_view_module_version": "1.5.0",
            "orientation": "horizontal",
            "min": 0,
            "description_tooltip": null,
            "_model_module": "@jupyter-widgets/controls",
            "layout": "IPY_MODEL_527ffdbcc1bd479dafb3e2f8c774617a"
          }
        },
        "c414fd693a4c460a814416b979835e44": {
          "model_module": "@jupyter-widgets/controls",
          "model_name": "HTMLModel",
          "model_module_version": "1.5.0",
          "state": {
            "_view_name": "HTMLView",
            "style": "IPY_MODEL_e93df4b3c29848299e365f78b7003e06",
            "_dom_classes": [],
            "description": "",
            "_model_name": "HTMLModel",
            "placeholder": "​",
            "_view_module": "@jupyter-widgets/controls",
            "_model_module_version": "1.5.0",
            "value": " 419M/419M [06:05&lt;00:00, 730kB/s]",
            "_view_count": null,
            "_view_module_version": "1.5.0",
            "description_tooltip": null,
            "_model_module": "@jupyter-widgets/controls",
            "layout": "IPY_MODEL_804aed27c6894f44aa47a5efcd78f90a"
          }
        },
        "b01ddbbf25114bba96e5a6350e1c7392": {
          "model_module": "@jupyter-widgets/controls",
          "model_name": "DescriptionStyleModel",
          "model_module_version": "1.5.0",
          "state": {
            "_view_name": "StyleView",
            "_model_name": "DescriptionStyleModel",
            "description_width": "",
            "_view_module": "@jupyter-widgets/base",
            "_model_module_version": "1.5.0",
            "_view_count": null,
            "_view_module_version": "1.2.0",
            "_model_module": "@jupyter-widgets/controls"
          }
        },
        "5911d099faed41828605ed2b366933ed": {
          "model_module": "@jupyter-widgets/base",
          "model_name": "LayoutModel",
          "model_module_version": "1.2.0",
          "state": {
            "_view_name": "LayoutView",
            "grid_template_rows": null,
            "right": null,
            "justify_content": null,
            "_view_module": "@jupyter-widgets/base",
            "overflow": null,
            "_model_module_version": "1.2.0",
            "_view_count": null,
            "flex_flow": null,
            "width": null,
            "min_width": null,
            "border": null,
            "align_items": null,
            "bottom": null,
            "_model_module": "@jupyter-widgets/base",
            "top": null,
            "grid_column": null,
            "overflow_y": null,
            "overflow_x": null,
            "grid_auto_flow": null,
            "grid_area": null,
            "grid_template_columns": null,
            "flex": null,
            "_model_name": "LayoutModel",
            "justify_items": null,
            "grid_row": null,
            "max_height": null,
            "align_content": null,
            "visibility": null,
            "align_self": null,
            "height": null,
            "min_height": null,
            "padding": null,
            "grid_auto_rows": null,
            "grid_gap": null,
            "max_width": null,
            "order": null,
            "_view_module_version": "1.2.0",
            "grid_template_areas": null,
            "object_position": null,
            "object_fit": null,
            "grid_auto_columns": null,
            "margin": null,
            "display": null,
            "left": null
          }
        },
        "b83f2bc0f0924c0ca239e75c3d88c1bd": {
          "model_module": "@jupyter-widgets/controls",
          "model_name": "ProgressStyleModel",
          "model_module_version": "1.5.0",
          "state": {
            "_view_name": "StyleView",
            "_model_name": "ProgressStyleModel",
            "description_width": "",
            "_view_module": "@jupyter-widgets/base",
            "_model_module_version": "1.5.0",
            "_view_count": null,
            "_view_module_version": "1.2.0",
            "bar_color": null,
            "_model_module": "@jupyter-widgets/controls"
          }
        },
        "527ffdbcc1bd479dafb3e2f8c774617a": {
          "model_module": "@jupyter-widgets/base",
          "model_name": "LayoutModel",
          "model_module_version": "1.2.0",
          "state": {
            "_view_name": "LayoutView",
            "grid_template_rows": null,
            "right": null,
            "justify_content": null,
            "_view_module": "@jupyter-widgets/base",
            "overflow": null,
            "_model_module_version": "1.2.0",
            "_view_count": null,
            "flex_flow": null,
            "width": null,
            "min_width": null,
            "border": null,
            "align_items": null,
            "bottom": null,
            "_model_module": "@jupyter-widgets/base",
            "top": null,
            "grid_column": null,
            "overflow_y": null,
            "overflow_x": null,
            "grid_auto_flow": null,
            "grid_area": null,
            "grid_template_columns": null,
            "flex": null,
            "_model_name": "LayoutModel",
            "justify_items": null,
            "grid_row": null,
            "max_height": null,
            "align_content": null,
            "visibility": null,
            "align_self": null,
            "height": null,
            "min_height": null,
            "padding": null,
            "grid_auto_rows": null,
            "grid_gap": null,
            "max_width": null,
            "order": null,
            "_view_module_version": "1.2.0",
            "grid_template_areas": null,
            "object_position": null,
            "object_fit": null,
            "grid_auto_columns": null,
            "margin": null,
            "display": null,
            "left": null
          }
        },
        "e93df4b3c29848299e365f78b7003e06": {
          "model_module": "@jupyter-widgets/controls",
          "model_name": "DescriptionStyleModel",
          "model_module_version": "1.5.0",
          "state": {
            "_view_name": "StyleView",
            "_model_name": "DescriptionStyleModel",
            "description_width": "",
            "_view_module": "@jupyter-widgets/base",
            "_model_module_version": "1.5.0",
            "_view_count": null,
            "_view_module_version": "1.2.0",
            "_model_module": "@jupyter-widgets/controls"
          }
        },
        "804aed27c6894f44aa47a5efcd78f90a": {
          "model_module": "@jupyter-widgets/base",
          "model_name": "LayoutModel",
          "model_module_version": "1.2.0",
          "state": {
            "_view_name": "LayoutView",
            "grid_template_rows": null,
            "right": null,
            "justify_content": null,
            "_view_module": "@jupyter-widgets/base",
            "overflow": null,
            "_model_module_version": "1.2.0",
            "_view_count": null,
            "flex_flow": null,
            "width": null,
            "min_width": null,
            "border": null,
            "align_items": null,
            "bottom": null,
            "_model_module": "@jupyter-widgets/base",
            "top": null,
            "grid_column": null,
            "overflow_y": null,
            "overflow_x": null,
            "grid_auto_flow": null,
            "grid_area": null,
            "grid_template_columns": null,
            "flex": null,
            "_model_name": "LayoutModel",
            "justify_items": null,
            "grid_row": null,
            "max_height": null,
            "align_content": null,
            "visibility": null,
            "align_self": null,
            "height": null,
            "min_height": null,
            "padding": null,
            "grid_auto_rows": null,
            "grid_gap": null,
            "max_width": null,
            "order": null,
            "_view_module_version": "1.2.0",
            "grid_template_areas": null,
            "object_position": null,
            "object_fit": null,
            "grid_auto_columns": null,
            "margin": null,
            "display": null,
            "left": null
          }
        }
      }
    }
  },
  "cells": [
    {
      "cell_type": "markdown",
      "metadata": {
        "id": "view-in-github",
        "colab_type": "text"
      },
      "source": [
        "<a href=\"https://colab.research.google.com/github/omarespejel/Hugging-Face-101-ES/blob/main/2_NLP_en_espa%C3%B1ol%3A_Fine-tuning_para_clasificar_tweets.ipynb\" target=\"_parent\"><img src=\"https://colab.research.google.com/assets/colab-badge.svg\" alt=\"Open In Colab\"/></a>"
      ]
    },
    {
      "cell_type": "markdown",
      "metadata": {
        "id": "h-izLuzd43Ob"
      },
      "source": [
        "# 2. NLP en español: Fine-tuning para clasificar tweets\n",
        "por Omar U. Espejel (Twitter: [@espejelomar](https://twitter.com/espejelomar))\n",
        "\n",
        "\n",
        "- Puedes escribirme vía Twitter en [@espejelomar](https://twitter.com/espejelomar?lang=en) 🐣. \n",
        "\n",
        "- Únete al [Discord de Hugging Face](https://t.co/1n75wi976V?amp=1).\n",
        "  \n",
        "- Checa el [diccionario inglés-español](https://www.notion.so/Ingl-s-para-la-programaci-n-bab11d9db5014f16b840bf8d22c23ac2) para programación."
      ]
    },
    {
      "cell_type": "markdown",
      "metadata": {
        "id": "0sIFhK4p5ImU"
      },
      "source": [
        "## Instalación del modelo en español"
      ]
    },
    {
      "cell_type": "markdown",
      "metadata": {
        "id": "DXtBCWlKIqN3"
      },
      "source": [
        "Instalamos y descargamos BETO."
      ]
    },
    {
      "cell_type": "code",
      "metadata": {
        "id": "5LDsdvUFddvT"
      },
      "source": [
        "%%capture\n",
        "!pip install transformers"
      ],
      "execution_count": 1,
      "outputs": []
    },
    {
      "cell_type": "markdown",
      "metadata": {
        "id": "Wpoq2WDGIxt8"
      },
      "source": [
        "Importamos lo necesario."
      ]
    },
    {
      "cell_type": "code",
      "metadata": {
        "id": "xQX4zfzfdsDf"
      },
      "source": [
        "import torch\n",
        "from transformers import BertForMaskedLM, BertTokenizer"
      ],
      "execution_count": 2,
      "outputs": []
    },
    {
      "cell_type": "markdown",
      "source": [
        "Descargamos [`BETO` desde el Hub de Hugging Face](https://huggingface.co/dccuchile/bert-base-spanish-wwm-cased). El tokenizador lo dejamos con `do_lower_case` para que sí podamos aceptar palabras con mayúsculas. \n",
        "\n",
        "Descargamos [BETO desde el Hub de Hugging Face](https://huggingface.co/dccuchile/bert-base-spanish-wwm-cased). El tokenizador lo dejamos con `do_lower_case` para que sí podamos aceptar palabras con mayúsculas.\n",
        "\n",
        "Hay dos modelos `BETO`, el [cased](dccuchile/bert-base-spanish-wwm-cased) y el [uncased](dccuchile/bert-base-spanish-wwm-uncased). \n",
        "- `Uncased`: todo el texto del diccionario está en minúsculas. Así fue entrenado. Por ejemplo, la palabra `Revolución` la convervierte en `revolución`.\n",
        "- `Cased`: las palabras se mantienen. `Revolución` sigue siendo `Revolución`.\n",
        "\n",
        "La versión `uncased` suele dar mejores resultados para la versión en inglés. Pero en aplicaciones donde las mayúsculas sean muy relevantes (ej. Name Entity Recognition(NER) o Part of Speech (POS)) servirá mejor la versión `cased`."
      ],
      "metadata": {
        "id": "-6Tk68tUGmw6"
      }
    },
    {
      "cell_type": "markdown",
      "source": [
        "Para nuestro modelo que clasificará tweets pienso que los acentos y las mayúsculas no serán tan necesarias por lo que usaremos la versión `uncased`. Pero prueba ambos modelos!"
      ],
      "metadata": {
        "id": "t_-8XuCoKeo8"
      }
    },
    {
      "cell_type": "code",
      "metadata": {
        "id": "lmwI3UYCdugq",
        "colab": {
          "base_uri": "https://localhost:8080/",
          "height": 177,
          "referenced_widgets": [
            "1051ac8b38b44707b2b7f40dc02cd86b",
            "db6ba3f325c742fdb5c63579f09083f6",
            "a35ed0aec3e64041b372a9af8278b543",
            "9b3b8c617b6b490ca4a721d355aaf1fb",
            "e30051ccb44d44abace2202987fea763",
            "51ddef083e7a4381a141ff65eb5bfc7b",
            "60306d5aba764cf0bf622fa76b7c2370",
            "7635616d881d487bb2a9de2033dff72f",
            "2df37e009a874bddb805d5c82b21f462",
            "47ac175ce3af41939001f81c6dbe612d",
            "9b293fa225974e8a844eefc489f1a0ed",
            "ef8681e9f4b94785a68d2f72099a9608",
            "d77aff7800394087bdbf8abb0e03d207",
            "9bb1d5bf9c234012bf6ef4c906173fe6",
            "b5921025c60a4d529b7385ee0157471c",
            "99498c5cc7f34486a46ea831436ad251",
            "eef6b62f1fa94467892cea3c2124fdb2",
            "f4fae0e0cc1947ed855d349ea382c78e",
            "87863aebb1a6451c8e8398bd65fd1dc5",
            "c72602b6f9cf4c2492eaa07078ed2996",
            "740798a113a54444b0e33af1cdd1026f",
            "e8713fa560434752b77ccecf4e985fe8",
            "2efcccc79e3e4912a356192121312636",
            "2c05c337fd174bdf8a958620f774a50f",
            "ce040215f90345a088f61ad181beb3cc",
            "328fa644b08942b48cd12fe326c590a9",
            "2dee186bb7dd4b83bf9b5d7d683e1f38",
            "cb747bb0f48743e7bb2d8585c0bf7a44",
            "014ec7f3c9a84a1eb665183d9f8e43c3",
            "38b422dad80340009f583cfc52acafb3",
            "c8a672eeb0a84a23b9a28d460dc5d46d",
            "ba8ab8df30c0466c9793cba7f0e8007d",
            "bace89b712bb4cd3833cd6ff07c5afbf",
            "9ad12408daf04e4a8516b3ac22a777ea",
            "bb4341693d3a4c2a934dbe1a8f23c41d",
            "458af91b58364cfa832e3a96c0032dcf",
            "b40184ace45348bf847feb4859c7ba77",
            "eb1fdf21234f45ccaefb9581bfac7ea8",
            "f411d41219bd4cf1b18c6582100808f6",
            "1eee66cb81444821b4ae96a7ada34ae2",
            "316a86ff532c48dc9a2ea799a017ff01",
            "3afb472d2d8f4000bb8a62db6a9c6d0c",
            "a791a9bd55eb49c0ba62c18b53ef3bac",
            "640ea34d3ba249a485516849bfa67e8b",
            "b96d93678cef4b62a987757e5a666360",
            "f963fad5bc9247e2b350fa645f988283",
            "9b664b03f8bd4c5ab88bc8178fef5e56",
            "e54ae85e32cf48319280d15e7ff4301c",
            "9ea9e2d3d3a441db94aa33bd8744765f",
            "a901f6eb89344e62bce7868788ecd572",
            "e26fabc26b7744c2978f6d7981330247",
            "35d7a376782b49f582816ab3ee460c81",
            "c628dafa93b34d94820437523bde28ab",
            "cd8509f6e5ad40fd9bdb6d995f342f8f",
            "1bb9dde7759d441286d9917e96fef42f"
          ]
        },
        "outputId": "2dd8d52b-35e8-4bc6-a1b7-0a2a3243181d"
      },
      "source": [
        "tokenizer_español = BertTokenizer.from_pretrained(\"dccuchile/bert-base-spanish-wwm-uncased\")"
      ],
      "execution_count": 3,
      "outputs": [
        {
          "output_type": "display_data",
          "data": {
            "application/vnd.jupyter.widget-view+json": {
              "model_id": "1051ac8b38b44707b2b7f40dc02cd86b",
              "version_minor": 0,
              "version_major": 2
            },
            "text/plain": [
              "Downloading:   0%|          | 0.00/310 [00:00<?, ?B/s]"
            ]
          },
          "metadata": {}
        },
        {
          "output_type": "display_data",
          "data": {
            "application/vnd.jupyter.widget-view+json": {
              "model_id": "ef8681e9f4b94785a68d2f72099a9608",
              "version_minor": 0,
              "version_major": 2
            },
            "text/plain": [
              "Downloading:   0%|          | 0.00/242k [00:00<?, ?B/s]"
            ]
          },
          "metadata": {}
        },
        {
          "output_type": "display_data",
          "data": {
            "application/vnd.jupyter.widget-view+json": {
              "model_id": "2efcccc79e3e4912a356192121312636",
              "version_minor": 0,
              "version_major": 2
            },
            "text/plain": [
              "Downloading:   0%|          | 0.00/134 [00:00<?, ?B/s]"
            ]
          },
          "metadata": {}
        },
        {
          "output_type": "display_data",
          "data": {
            "application/vnd.jupyter.widget-view+json": {
              "model_id": "9ad12408daf04e4a8516b3ac22a777ea",
              "version_minor": 0,
              "version_major": 2
            },
            "text/plain": [
              "Downloading:   0%|          | 0.00/475k [00:00<?, ?B/s]"
            ]
          },
          "metadata": {}
        },
        {
          "output_type": "display_data",
          "data": {
            "application/vnd.jupyter.widget-view+json": {
              "model_id": "b96d93678cef4b62a987757e5a666360",
              "version_minor": 0,
              "version_major": 2
            },
            "text/plain": [
              "Downloading:   0%|          | 0.00/650 [00:00<?, ?B/s]"
            ]
          },
          "metadata": {}
        }
      ]
    },
    {
      "cell_type": "markdown",
      "metadata": {
        "id": "cVZb0qH6aq9-"
      },
      "source": [
        "## Preparando la diversión"
      ]
    },
    {
      "cell_type": "markdown",
      "metadata": {
        "id": "ejc-5pvtJMc0"
      },
      "source": [
        "Si tenemos un GPU entonces, lo usamos."
      ]
    },
    {
      "cell_type": "code",
      "metadata": {
        "id": "_ptZGp6Za4yo",
        "colab": {
          "base_uri": "https://localhost:8080/"
        },
        "outputId": "727f12ae-b361-4930-fdd0-86c030cddc4a"
      },
      "source": [
        "if torch.cuda.is_available():    \n",
        "    device = torch.device(\"cuda:0\")\n",
        "    print('GPU:', torch.cuda.get_device_name(0))\n",
        "\n",
        "else:\n",
        "    print('No GPU available, using the CPU instead.')\n",
        "    device = torch.device(\"cpu\")"
      ],
      "execution_count": 4,
      "outputs": [
        {
          "output_type": "stream",
          "name": "stdout",
          "text": [
            "GPU: Tesla K80\n"
          ]
        }
      ]
    },
    {
      "cell_type": "markdown",
      "metadata": {
        "id": "_szMIBv8WcvP"
      },
      "source": [
        "### Obteniendo los datos"
      ]
    },
    {
      "cell_type": "markdown",
      "metadata": {
        "id": "NytOXA_GQDgd"
      },
      "source": [
        "Notar que aún nuestros ids no son tensores, estos los podemos convertir facilmente ya sea a Pytorch o a Tensorflow."
      ]
    },
    {
      "cell_type": "code",
      "metadata": {
        "id": "J2n2SUcidg0o"
      },
      "source": [
        "import pandas as pd\n",
        "import requests\n",
        "import os"
      ],
      "execution_count": 5,
      "outputs": []
    },
    {
      "cell_type": "markdown",
      "metadata": {
        "id": "qoQkCX2pNuvd"
      },
      "source": [
        "Usamos el módulo `os` para crear una nueva carpeta `dataset` donde guardaremos nuestra base de datos en formato xml que descargamos usando `requests`.\n",
        "\n",
        " "
      ]
    },
    {
      "cell_type": "code",
      "metadata": {
        "id": "wNTwh07GMvrl"
      },
      "source": [
        "home = os.getcwd()\n",
        "\n",
        "if not os.path.exists(home + '/dataset'):\n",
        "    os.mkdir(home + '/dataset')"
      ],
      "execution_count": 6,
      "outputs": []
    },
    {
      "cell_type": "markdown",
      "metadata": {
        "id": "ye4PX_KaOFH_"
      },
      "source": [
        "Vemos que se creo la carpeta `dataset`."
      ]
    },
    {
      "cell_type": "code",
      "metadata": {
        "colab": {
          "base_uri": "https://localhost:8080/"
        },
        "id": "3PN56etMNews",
        "outputId": "e1ea9bab-84a7-48c7-fdb7-ceed843c4bd0"
      },
      "source": [
        "os.listdir()"
      ],
      "execution_count": 7,
      "outputs": [
        {
          "output_type": "execute_result",
          "data": {
            "text/plain": [
              "['.config', 'dataset', 'sample_data']"
            ]
          },
          "metadata": {},
          "execution_count": 7
        }
      ]
    },
    {
      "cell_type": "markdown",
      "metadata": {
        "id": "vBxHvT5vOLKJ"
      },
      "source": [
        "Usamos el módulo `request` para descar la base de datos TASS 2019 para México."
      ]
    },
    {
      "cell_type": "code",
      "metadata": {
        "id": "N1f9omtaLmf8"
      },
      "source": [
        "URL = \"http://tass.sepln.org/tass_data/dataset/TASS2019_country_MX_train.xml\"\n",
        "\n",
        "response = requests.get(URL)\n",
        "with open('dataset/base_datos.xml', 'wb') as file:\n",
        "    file.write(response.content)"
      ],
      "execution_count": 8,
      "outputs": []
    },
    {
      "cell_type": "code",
      "metadata": {
        "id": "a_kHn5Z3MLYc"
      },
      "source": [
        "import xml.etree.ElementTree as et \n",
        "\n",
        "xtree = et.parse(\"dataset/base_datos.xml\")\n",
        "xroot = xtree.getroot()"
      ],
      "execution_count": 9,
      "outputs": []
    },
    {
      "cell_type": "code",
      "metadata": {
        "id": "FOF52LPHPR7R"
      },
      "source": [
        "filas = []\n",
        "\n",
        "for node in xroot: \n",
        "    tweet = node[2].text\n",
        "    sentimiento = node[5][0][0].text\n",
        "\n",
        "    filas.append({\"contenido\": tweet, \"sentimiento\": sentimiento})"
      ],
      "execution_count": 10,
      "outputs": []
    },
    {
      "cell_type": "code",
      "metadata": {
        "id": "aa1gyIxbTbJM"
      },
      "source": [
        "df = pd.DataFrame(filas, columns = [\"contenido\", \"sentimiento\"])"
      ],
      "execution_count": 11,
      "outputs": []
    },
    {
      "cell_type": "markdown",
      "metadata": {
        "id": "H3lOSdQVqnd_"
      },
      "source": [
        "Haremos nuestra base de datos más grande al importar también los datos de TASS nombrados como \"dev\"."
      ]
    },
    {
      "cell_type": "code",
      "metadata": {
        "id": "DP7GVLhAqKUc"
      },
      "source": [
        "URL = \"http://tass.sepln.org/tass_data/dataset/TASS2019_country_MX_dev.xml\"\n",
        "\n",
        "response = requests.get(URL)\n",
        "with open('dataset/base_datos_2.xml', 'wb') as file:\n",
        "    file.write(response.content)\n",
        "\n",
        "xtree = et.parse(\"dataset/base_datos_2.xml\")\n",
        "xroot = xtree.getroot()\n",
        "\n",
        "filas = []\n",
        "\n",
        "for node in xroot: \n",
        "    tweet = node[2].text\n",
        "    sentimiento = node[5][0][0].text\n",
        "\n",
        "    filas.append({\"contenido\": tweet, \"sentimiento\": sentimiento})\n",
        "\n",
        "df_2 = pd.DataFrame(filas, columns = [\"contenido\", \"sentimiento\"])"
      ],
      "execution_count": 12,
      "outputs": []
    },
    {
      "cell_type": "code",
      "metadata": {
        "colab": {
          "base_uri": "https://localhost:8080/"
        },
        "id": "Wu6b1zEKqxsB",
        "outputId": "bf429dcb-b603-41b9-8fde-87ad51ed0d28"
      },
      "source": [
        "os.listdir(\"dataset\")"
      ],
      "execution_count": 13,
      "outputs": [
        {
          "output_type": "execute_result",
          "data": {
            "text/plain": [
              "['base_datos_2.xml', 'base_datos.xml']"
            ]
          },
          "metadata": {},
          "execution_count": 13
        }
      ]
    },
    {
      "cell_type": "markdown",
      "metadata": {
        "id": "BC-XxseIYfhL"
      },
      "source": [
        "Hacemos que nuestro columna de sentimiento se vuelva númerica y eliminamos los ejemplos donde tengamos NONE en sentimiento."
      ]
    },
    {
      "cell_type": "code",
      "metadata": {
        "id": "GtZIuBI4VptN"
      },
      "source": [
        "%%capture\n",
        "df = df[df.sentimiento != \"NONE\"]\n",
        "df.loc[(df.sentimiento == 'N'),'sentimiento']=0\n",
        "df.loc[(df.sentimiento == 'P'),'sentimiento']=1\n",
        "df.loc[(df.sentimiento == 'NEU'),'sentimiento']=2"
      ],
      "execution_count": 14,
      "outputs": []
    },
    {
      "cell_type": "code",
      "metadata": {
        "id": "pFL65ztvX5xT"
      },
      "source": [
        "%%capture\n",
        "df_2 = df_2[df_2.sentimiento != \"NONE\"]\n",
        "df_2.loc[(df_2.sentimiento == 'N'),'sentimiento']=0\n",
        "df_2.loc[(df_2.sentimiento == 'P'),'sentimiento']=1\n",
        "df_2.loc[(df_2.sentimiento == 'NEU'),'sentimiento']=2"
      ],
      "execution_count": 15,
      "outputs": []
    },
    {
      "cell_type": "markdown",
      "metadata": {
        "id": "-GeB6vBnr1ng"
      },
      "source": [
        "Unimos nuestros DataFrames..."
      ]
    },
    {
      "cell_type": "code",
      "metadata": {
        "id": "gKLioPcPrW32"
      },
      "source": [
        "df = df.append(df_2, ignore_index=True)"
      ],
      "execution_count": 16,
      "outputs": []
    },
    {
      "cell_type": "code",
      "metadata": {
        "id": "ib9i1seP30rb",
        "colab": {
          "base_uri": "https://localhost:8080/",
          "height": 391
        },
        "outputId": "abe1e193-68b5-44fb-eaa9-80956d4005f0"
      },
      "source": [
        "print('Número de ejemplos: {:,}\\n'.format(df.shape[0]))\n",
        "\n",
        "df.sample(10)"
      ],
      "execution_count": 17,
      "outputs": [
        {
          "output_type": "stream",
          "name": "stdout",
          "text": [
            "Número de ejemplos: 1,358\n",
            "\n"
          ]
        },
        {
          "output_type": "execute_result",
          "data": {
            "text/html": [
              "\n",
              "  <div id=\"df-8234295d-eedc-432a-8ff2-65adffee20a4\">\n",
              "    <div class=\"colab-df-container\">\n",
              "      <div>\n",
              "<style scoped>\n",
              "    .dataframe tbody tr th:only-of-type {\n",
              "        vertical-align: middle;\n",
              "    }\n",
              "\n",
              "    .dataframe tbody tr th {\n",
              "        vertical-align: top;\n",
              "    }\n",
              "\n",
              "    .dataframe thead th {\n",
              "        text-align: right;\n",
              "    }\n",
              "</style>\n",
              "<table border=\"1\" class=\"dataframe\">\n",
              "  <thead>\n",
              "    <tr style=\"text-align: right;\">\n",
              "      <th></th>\n",
              "      <th>contenido</th>\n",
              "      <th>sentimiento</th>\n",
              "    </tr>\n",
              "  </thead>\n",
              "  <tbody>\n",
              "    <tr>\n",
              "      <th>474</th>\n",
              "      <td>Y si haz dormido con alguien más, SI HOY duerm...</td>\n",
              "      <td>0</td>\n",
              "    </tr>\n",
              "    <tr>\n",
              "      <th>679</th>\n",
              "      <td>Perdí todos mis contactos del cel Si me tienes...</td>\n",
              "      <td>0</td>\n",
              "    </tr>\n",
              "    <tr>\n",
              "      <th>461</th>\n",
              "      <td>Maldito jet lag, acabo de despertar a las 2 am</td>\n",
              "      <td>0</td>\n",
              "    </tr>\n",
              "    <tr>\n",
              "      <th>958</th>\n",
              "      <td>@pilarcoutino ah no, a mi indirectas no, quier...</td>\n",
              "      <td>0</td>\n",
              "    </tr>\n",
              "    <tr>\n",
              "      <th>112</th>\n",
              "      <td>Todo el año perros be like: -GUA GUAAFFF ARGG ...</td>\n",
              "      <td>0</td>\n",
              "    </tr>\n",
              "    <tr>\n",
              "      <th>401</th>\n",
              "      <td>@luixuz Yo también No te dí permiso de que te ...</td>\n",
              "      <td>0</td>\n",
              "    </tr>\n",
              "    <tr>\n",
              "      <th>1324</th>\n",
              "      <td>Alguien que se desvele conmigo hoy? No? Nadie?...</td>\n",
              "      <td>0</td>\n",
              "    </tr>\n",
              "    <tr>\n",
              "      <th>145</th>\n",
              "      <td>@MarianaGrarod @dctorre ya puedes ser feliz</td>\n",
              "      <td>1</td>\n",
              "    </tr>\n",
              "    <tr>\n",
              "      <th>1117</th>\n",
              "      <td>No quiero dormir porque suelo contigo</td>\n",
              "      <td>0</td>\n",
              "    </tr>\n",
              "    <tr>\n",
              "      <th>554</th>\n",
              "      <td>En serio tengo muchas ganas de verte Te extrañ...</td>\n",
              "      <td>0</td>\n",
              "    </tr>\n",
              "  </tbody>\n",
              "</table>\n",
              "</div>\n",
              "      <button class=\"colab-df-convert\" onclick=\"convertToInteractive('df-8234295d-eedc-432a-8ff2-65adffee20a4')\"\n",
              "              title=\"Convert this dataframe to an interactive table.\"\n",
              "              style=\"display:none;\">\n",
              "        \n",
              "  <svg xmlns=\"http://www.w3.org/2000/svg\" height=\"24px\"viewBox=\"0 0 24 24\"\n",
              "       width=\"24px\">\n",
              "    <path d=\"M0 0h24v24H0V0z\" fill=\"none\"/>\n",
              "    <path d=\"M18.56 5.44l.94 2.06.94-2.06 2.06-.94-2.06-.94-.94-2.06-.94 2.06-2.06.94zm-11 1L8.5 8.5l.94-2.06 2.06-.94-2.06-.94L8.5 2.5l-.94 2.06-2.06.94zm10 10l.94 2.06.94-2.06 2.06-.94-2.06-.94-.94-2.06-.94 2.06-2.06.94z\"/><path d=\"M17.41 7.96l-1.37-1.37c-.4-.4-.92-.59-1.43-.59-.52 0-1.04.2-1.43.59L10.3 9.45l-7.72 7.72c-.78.78-.78 2.05 0 2.83L4 21.41c.39.39.9.59 1.41.59.51 0 1.02-.2 1.41-.59l7.78-7.78 2.81-2.81c.8-.78.8-2.07 0-2.86zM5.41 20L4 18.59l7.72-7.72 1.47 1.35L5.41 20z\"/>\n",
              "  </svg>\n",
              "      </button>\n",
              "      \n",
              "  <style>\n",
              "    .colab-df-container {\n",
              "      display:flex;\n",
              "      flex-wrap:wrap;\n",
              "      gap: 12px;\n",
              "    }\n",
              "\n",
              "    .colab-df-convert {\n",
              "      background-color: #E8F0FE;\n",
              "      border: none;\n",
              "      border-radius: 50%;\n",
              "      cursor: pointer;\n",
              "      display: none;\n",
              "      fill: #1967D2;\n",
              "      height: 32px;\n",
              "      padding: 0 0 0 0;\n",
              "      width: 32px;\n",
              "    }\n",
              "\n",
              "    .colab-df-convert:hover {\n",
              "      background-color: #E2EBFA;\n",
              "      box-shadow: 0px 1px 2px rgba(60, 64, 67, 0.3), 0px 1px 3px 1px rgba(60, 64, 67, 0.15);\n",
              "      fill: #174EA6;\n",
              "    }\n",
              "\n",
              "    [theme=dark] .colab-df-convert {\n",
              "      background-color: #3B4455;\n",
              "      fill: #D2E3FC;\n",
              "    }\n",
              "\n",
              "    [theme=dark] .colab-df-convert:hover {\n",
              "      background-color: #434B5C;\n",
              "      box-shadow: 0px 1px 3px 1px rgba(0, 0, 0, 0.15);\n",
              "      filter: drop-shadow(0px 1px 2px rgba(0, 0, 0, 0.3));\n",
              "      fill: #FFFFFF;\n",
              "    }\n",
              "  </style>\n",
              "\n",
              "      <script>\n",
              "        const buttonEl =\n",
              "          document.querySelector('#df-8234295d-eedc-432a-8ff2-65adffee20a4 button.colab-df-convert');\n",
              "        buttonEl.style.display =\n",
              "          google.colab.kernel.accessAllowed ? 'block' : 'none';\n",
              "\n",
              "        async function convertToInteractive(key) {\n",
              "          const element = document.querySelector('#df-8234295d-eedc-432a-8ff2-65adffee20a4');\n",
              "          const dataTable =\n",
              "            await google.colab.kernel.invokeFunction('convertToInteractive',\n",
              "                                                     [key], {});\n",
              "          if (!dataTable) return;\n",
              "\n",
              "          const docLinkHtml = 'Like what you see? Visit the ' +\n",
              "            '<a target=\"_blank\" href=https://colab.research.google.com/notebooks/data_table.ipynb>data table notebook</a>'\n",
              "            + ' to learn more about interactive tables.';\n",
              "          element.innerHTML = '';\n",
              "          dataTable['output_type'] = 'display_data';\n",
              "          await google.colab.output.renderOutput(dataTable, element);\n",
              "          const docLink = document.createElement('div');\n",
              "          docLink.innerHTML = docLinkHtml;\n",
              "          element.appendChild(docLink);\n",
              "        }\n",
              "      </script>\n",
              "    </div>\n",
              "  </div>\n",
              "  "
            ],
            "text/plain": [
              "                                              contenido sentimiento\n",
              "474   Y si haz dormido con alguien más, SI HOY duerm...           0\n",
              "679   Perdí todos mis contactos del cel Si me tienes...           0\n",
              "461      Maldito jet lag, acabo de despertar a las 2 am           0\n",
              "958   @pilarcoutino ah no, a mi indirectas no, quier...           0\n",
              "112   Todo el año perros be like: -GUA GUAAFFF ARGG ...           0\n",
              "401   @luixuz Yo también No te dí permiso de que te ...           0\n",
              "1324  Alguien que se desvele conmigo hoy? No? Nadie?...           0\n",
              "145         @MarianaGrarod @dctorre ya puedes ser feliz           1\n",
              "1117              No quiero dormir porque suelo contigo           0\n",
              "554   En serio tengo muchas ganas de verte Te extrañ...           0"
            ]
          },
          "metadata": {},
          "execution_count": 17
        }
      ]
    },
    {
      "cell_type": "code",
      "metadata": {
        "id": "lYqJE1ska9Sl"
      },
      "source": [
        "# df.loc[df.label == 0].sample(5)[['sentence', 'label']]"
      ],
      "execution_count": 18,
      "outputs": []
    },
    {
      "cell_type": "markdown",
      "metadata": {
        "id": "FV0F2l4LvVYW"
      },
      "source": [
        ">  \"The first token of every sequence is always a special classification token (`[CLS]`). The final hidden state\n",
        "corresponding to this token is used as the aggregate sequence representation for classification\n",
        "tasks.\" (from the [BERT paper](https://arxiv.org/pdf/1810.04805.pdf))"
      ]
    },
    {
      "cell_type": "code",
      "metadata": {
        "id": "H2xN7RTCzew8",
        "colab": {
          "base_uri": "https://localhost:8080/"
        },
        "outputId": "1f8130b1-7e24-4a78-a3e7-dfbd0cabcb21"
      },
      "source": [
        "textos = df.contenido.to_list()\n",
        "textos[:5]"
      ],
      "execution_count": 19,
      "outputs": [
        {
          "output_type": "execute_result",
          "data": {
            "text/plain": [
              "[\"— ¿Nivel de inglés? — Alto. — Traduzca juguete. — Toy. — Úselo en una oración. — Toy triste. — Awww, vengache pa' acá. —\",\n",
              " 'Si soy de área 4 y con suerte pase mate IV y mate V ¿por que me ponen al profe qlero que es mega difícil pasar con el, en mi último año?',\n",
              " 'Sabían que su after fav Teatro G. fue construido para mi y un día de estos (hoy) les voy a dar el placer de que me vean ahí metido !!',\n",
              " 'Y hoy por primera vez me salí con el permiso de mi mujer pero no es eso el detalle, si no saber q estarán a mi lado y q llegaré a casa',\n",
              " '¿Para qué hacen coraje con Ambriz?, al final no lo van a correr y saldrá con su típica frase: \"La culpa es mía, no de los jugadores\"']"
            ]
          },
          "metadata": {},
          "execution_count": 19
        }
      ]
    },
    {
      "cell_type": "code",
      "metadata": {
        "id": "T3bMrSqQMw8z",
        "colab": {
          "base_uri": "https://localhost:8080/"
        },
        "outputId": "3c4f2e31-6162-42cf-e124-1af37c73de6a"
      },
      "source": [
        "etiquetas = df.sentimiento.to_list()\n",
        "etiquetas[:5]"
      ],
      "execution_count": 20,
      "outputs": [
        {
          "output_type": "execute_result",
          "data": {
            "text/plain": [
              "[2, 0, 1, 1, 0]"
            ]
          },
          "metadata": {},
          "execution_count": 20
        }
      ]
    },
    {
      "cell_type": "markdown",
      "metadata": {
        "id": "ulgOq4bvx-Kb"
      },
      "source": [
        "### Tokenizando"
      ]
    },
    {
      "cell_type": "markdown",
      "metadata": {
        "id": "kKRr0kRf7fz-"
      },
      "source": [
        "¿Cuál es nuestro texto más largo?"
      ]
    },
    {
      "cell_type": "code",
      "metadata": {
        "id": "DqioRa8JyIZP",
        "colab": {
          "base_uri": "https://localhost:8080/"
        },
        "outputId": "80cff747-85a7-4455-c00c-c90365cb7b60"
      },
      "source": [
        "max_len = 0\n",
        "\n",
        "for text in textos:\n",
        "  input_ids = tokenizer_español.encode(text, add_special_tokens=True)\n",
        "  max_len = max(max_len, len(input_ids))\n",
        "\n",
        "print('Máxima longitud: ', max_len)"
      ],
      "execution_count": 21,
      "outputs": [
        {
          "output_type": "stream",
          "name": "stdout",
          "text": [
            "Máxima longitud:  60\n"
          ]
        }
      ]
    },
    {
      "cell_type": "markdown",
      "metadata": {
        "id": "lekRJgPnV6yX"
      },
      "source": [
        "Es probable que vean en códigos y textos de hace unos meses el método `encode_plus()`, sin embargo actualmente se encuentra *deprecated* (obsoleto). Ahora la forma principal de *tokenize* es usando el metódo ya built-in en Python, `__call__()`:\n",
        "\n",
        "> \"El método `__call__` permite a los programadores de Python escribir clases donde las instancias se comportan como funciones y se pueden llamar como una función. Cuando se llama a la instancia como función; si este método está definido, `x(arg1, arg2, ...)` es una abreviatura de `x.__call__(arg1, arg2, ...)`.\" - Geeks for Geeks\n",
        "\n"
      ]
    },
    {
      "cell_type": "code",
      "metadata": {
        "id": "5gXDxc89VwC7"
      },
      "source": [
        "encoded_texto_0 = tokenizer_español(\n",
        "    textos[0],\n",
        "    add_special_tokens = True,\n",
        "    max_length = 60,\n",
        "    truncation = True,\n",
        "    padding = 'max_length',\n",
        "    return_attention_mask = True,\n",
        "    return_tensors = 'pt',\n",
        ")"
      ],
      "execution_count": 22,
      "outputs": []
    },
    {
      "cell_type": "markdown",
      "metadata": {
        "id": "5PH5_f_1ZTXA"
      },
      "source": [
        "Arriba colocamos que queremos que el largo máximo de nuestros textos sea de 60. Esto significa que los textos de menos de 60 caracteres tendrán padding hasta completar los 60 valores."
      ]
    },
    {
      "cell_type": "markdown",
      "metadata": {
        "id": "xr4BSbox8vBW"
      },
      "source": [
        "Nos retorna una instancia de la clase BatchEncoding (link a documentación [link text](https://huggingface.co/transformers/_modules/transformers/tokenization_utils_base.html)). Esta clase se encuentra en la librería `transformers.tokenization_utils_base`."
      ]
    },
    {
      "cell_type": "code",
      "metadata": {
        "id": "iN2qKblxLWeb",
        "colab": {
          "base_uri": "https://localhost:8080/"
        },
        "outputId": "c94a7a36-938b-4990-ec49-5c423622d14d"
      },
      "source": [
        "type(encoded_texto_0)"
      ],
      "execution_count": 23,
      "outputs": [
        {
          "output_type": "execute_result",
          "data": {
            "text/plain": [
              "transformers.tokenization_utils_base.BatchEncoding"
            ]
          },
          "metadata": {},
          "execution_count": 23
        }
      ]
    },
    {
      "cell_type": "markdown",
      "metadata": {
        "id": "qUYotHpC-ELr"
      },
      "source": [
        "Como colocamos `paddding = 'max_length'` que quiere decir que tendremos un tensor de tamaño 60. En este caso nuestro tensor no tiene esa dimension por lo que estamos forzando un padding que podemos notar con `attention_mask`: solamente tenemos 1s donde esta el texto y 0s donde hay padding."
      ]
    },
    {
      "cell_type": "code",
      "metadata": {
        "id": "YBVg34eDMGv1",
        "colab": {
          "base_uri": "https://localhost:8080/"
        },
        "outputId": "92713052-e063-40d2-e44d-ab105ffbcb21"
      },
      "source": [
        "encoded_texto_0['attention_mask']"
      ],
      "execution_count": 24,
      "outputs": [
        {
          "output_type": "execute_result",
          "data": {
            "text/plain": [
              "tensor([[1, 1, 1, 1, 1, 1, 1, 1, 1, 1, 1, 1, 1, 1, 1, 1, 1, 1, 1, 1, 1, 1, 1, 1,\n",
              "         1, 1, 1, 1, 1, 1, 1, 1, 1, 1, 1, 1, 1, 1, 1, 1, 1, 1, 1, 1, 1, 0, 0, 0,\n",
              "         0, 0, 0, 0, 0, 0, 0, 0, 0, 0, 0, 0]])"
            ]
          },
          "metadata": {},
          "execution_count": 24
        }
      ]
    },
    {
      "cell_type": "code",
      "metadata": {
        "id": "uGUIq-isLmSU",
        "colab": {
          "base_uri": "https://localhost:8080/"
        },
        "outputId": "939dfd19-7042-4233-867f-052b263510de"
      },
      "source": [
        "encoded_texto_0['input_ids'].shape"
      ],
      "execution_count": 25,
      "outputs": [
        {
          "output_type": "execute_result",
          "data": {
            "text/plain": [
              "torch.Size([1, 60])"
            ]
          },
          "metadata": {},
          "execution_count": 25
        }
      ]
    },
    {
      "cell_type": "markdown",
      "metadata": {
        "id": "Mxa_n7-yS4n_"
      },
      "source": [
        "Actual,emte el vector de input_ids está en dos dimensiones. Idealmente lo queremos aplanado, es decir, en una sola dimensión.\n",
        "\n",
        "Podemos aplanar el tensor así..."
      ]
    },
    {
      "cell_type": "code",
      "metadata": {
        "id": "wsfV7trg_Ox1",
        "colab": {
          "base_uri": "https://localhost:8080/"
        },
        "outputId": "e11988e4-fd7b-4c84-c397-0397e8197373"
      },
      "source": [
        "encoded_texto_0['input_ids'][-1].shape"
      ],
      "execution_count": 26,
      "outputs": [
        {
          "output_type": "execute_result",
          "data": {
            "text/plain": [
              "torch.Size([60])"
            ]
          },
          "metadata": {},
          "execution_count": 26
        }
      ]
    },
    {
      "cell_type": "markdown",
      "metadata": {
        "id": "48aAzf6Ua0kE"
      },
      "source": [
        "Así queda nuestro texto:"
      ]
    },
    {
      "cell_type": "code",
      "metadata": {
        "id": "N4si-tHn-6Tr",
        "colab": {
          "base_uri": "https://localhost:8080/",
          "height": 69
        },
        "outputId": "8aac5d3f-50e0-4933-e3c2-baf5d33a492c"
      },
      "source": [
        "tokenizer_español.decode(encoded_texto_0['input_ids'][-1])"
      ],
      "execution_count": 27,
      "outputs": [
        {
          "output_type": "execute_result",
          "data": {
            "application/vnd.google.colaboratory.intrinsic+json": {
              "type": "string"
            },
            "text/plain": [
              "'[CLS] [UNK] ¿ nivel de inglés? [UNK] alto. [UNK] traduzca juguete. [UNK] toy. [UNK] úselo en una oración. [UNK] toy triste. [UNK] awww, vengache pa [UNK] acá. [UNK] [SEP] [PAD] [PAD] [PAD] [PAD] [PAD] [PAD] [PAD] [PAD] [PAD] [PAD] [PAD] [PAD] [PAD] [PAD] [PAD]'"
            ]
          },
          "metadata": {},
          "execution_count": 27
        }
      ]
    },
    {
      "cell_type": "markdown",
      "metadata": {
        "id": "F8GEy4vVa3nX"
      },
      "source": [
        "Así es originalmente:"
      ]
    },
    {
      "cell_type": "code",
      "metadata": {
        "id": "6ztMCMzSTB8O",
        "colab": {
          "base_uri": "https://localhost:8080/",
          "height": 52
        },
        "outputId": "c7da006c-1d27-4d73-b71c-5e891e2ddb6d"
      },
      "source": [
        "textos[0]"
      ],
      "execution_count": 28,
      "outputs": [
        {
          "output_type": "execute_result",
          "data": {
            "application/vnd.google.colaboratory.intrinsic+json": {
              "type": "string"
            },
            "text/plain": [
              "\"— ¿Nivel de inglés? — Alto. — Traduzca juguete. — Toy. — Úselo en una oración. — Toy triste. — Awww, vengache pa' acá. —\""
            ]
          },
          "metadata": {},
          "execution_count": 28
        }
      ]
    },
    {
      "cell_type": "markdown",
      "metadata": {
        "id": "lHFdnvBLbO5a"
      },
      "source": [
        "Después de la prueba con un solo ejemplo, procedemos con todos nuestros textos. \n",
        "\n",
        "Creamos dos listas, una con los `input_ids` y otra con las `attention_masks`."
      ]
    },
    {
      "cell_type": "code",
      "metadata": {
        "id": "BR8X2Ce-JAm4"
      },
      "source": [
        "input_ids = []\n",
        "attention_masks = []\n",
        "\n",
        "for texto in textos:\n",
        "  encoded_texto = tokenizer_español(\n",
        "      texto,\n",
        "      add_special_tokens = True,\n",
        "      max_length = 60,\n",
        "      truncation = True,\n",
        "      padding = 'max_length',\n",
        "      return_attention_mask = True,\n",
        "      return_tensors = 'pt',\n",
        "  )\n",
        "\n",
        "  input_ids.append(encoded_texto['input_ids'])\n",
        "  attention_masks.append(encoded_texto['attention_mask'])"
      ],
      "execution_count": 29,
      "outputs": []
    },
    {
      "cell_type": "markdown",
      "source": [
        "Nos quedamos con dos listas de tensores, cada una con largo de nuestro set de datos."
      ],
      "metadata": {
        "id": "VLsDjrdyWBGt"
      }
    },
    {
      "cell_type": "code",
      "metadata": {
        "colab": {
          "base_uri": "https://localhost:8080/"
        },
        "id": "Bd5cc1Fywqlp",
        "outputId": "f9d50e3f-8a9f-4b65-9560-81855cd4ddc2"
      },
      "source": [
        "len(input_ids), len(attention_masks)"
      ],
      "execution_count": 30,
      "outputs": [
        {
          "output_type": "execute_result",
          "data": {
            "text/plain": [
              "(1358, 1358)"
            ]
          },
          "metadata": {},
          "execution_count": 30
        }
      ]
    },
    {
      "cell_type": "markdown",
      "metadata": {
        "id": "7paMLwqWbqUf"
      },
      "source": [
        "Concatenamos los tensores con `torch.cat()` que nos permite convertir en tensor una lista de tensores."
      ]
    },
    {
      "cell_type": "code",
      "metadata": {
        "id": "1PmHamiVKLC7"
      },
      "source": [
        "input_ids = torch.cat(input_ids, dim=0)\n",
        "attention_masks = torch.cat(attention_masks, dim=0)"
      ],
      "execution_count": 31,
      "outputs": []
    },
    {
      "cell_type": "code",
      "source": [
        "print(f' Nos quedamos ahora con dos tensores de la clase: {type(input_ids)}')"
      ],
      "metadata": {
        "colab": {
          "base_uri": "https://localhost:8080/"
        },
        "id": "gBLuBv9hWHFK",
        "outputId": "1b4c5b7e-b6a1-4def-f5f0-b0e04443c8aa"
      },
      "execution_count": 32,
      "outputs": [
        {
          "output_type": "stream",
          "name": "stdout",
          "text": [
            " Nos quedamos ahora con dos tensores de la clase: <class 'torch.Tensor'>\n"
          ]
        }
      ]
    },
    {
      "cell_type": "markdown",
      "metadata": {
        "id": "9zJ0DEftxflv"
      },
      "source": [
        "La forma de nuestros nuevos tensores tiene en la primera dimensión el número de ejemplos y en la segunda las palabras de cada enunciado. Podemos considerar que cada tweet de nuestro tensor de rango dos representa una oración pero ya tokenizada."
      ]
    },
    {
      "cell_type": "code",
      "metadata": {
        "colab": {
          "base_uri": "https://localhost:8080/"
        },
        "id": "T9DTHVuxxGjY",
        "outputId": "bdb2bf56-4ab0-444b-b011-43f07246612a"
      },
      "source": [
        "print(f'Esta es la forma de nuestro tensor rango dos con los input_ids de nuestros tweets: {input_ids.shape}\\n')\n",
        "print(f'Esta es la forma de nuestro tensor rango dos con los attention_masks de nuestros tweets: {attention_masks.shape}')  "
      ],
      "execution_count": 33,
      "outputs": [
        {
          "output_type": "stream",
          "name": "stdout",
          "text": [
            "Esta es la forma de nuestro tensor rango dos con los input_ids de nuestros tweets: torch.Size([1358, 60])\n",
            "\n",
            "Esta es la forma de nuestro tensor rango dos con los attention_masks de nuestros tweets: torch.Size([1358, 60])\n"
          ]
        }
      ]
    },
    {
      "cell_type": "markdown",
      "source": [
        "Creamos un tensor de rango uno con las etiquetas (el resultado correcto de la clasificación) de cada tweet."
      ],
      "metadata": {
        "id": "yD4UfIw6SbhL"
      }
    },
    {
      "cell_type": "code",
      "source": [
        "etiquetas = torch.tensor(etiquetas)\n",
        "print(f'Esta es la forma de nuestro tensor rango uno de etiquetas: {etiquetas.shape}')"
      ],
      "metadata": {
        "colab": {
          "base_uri": "https://localhost:8080/"
        },
        "id": "_de55kFSSWei",
        "outputId": "5f05f7bd-70af-44e4-b4dd-5b36862bd47c"
      },
      "execution_count": 34,
      "outputs": [
        {
          "output_type": "stream",
          "name": "stdout",
          "text": [
            "Esta es la forma de nuestro tensor rango uno de etiquetas: torch.Size([1358])\n"
          ]
        }
      ]
    },
    {
      "cell_type": "markdown",
      "source": [
        "### Preparando el `TensorDataset`"
      ],
      "metadata": {
        "id": "yDSJ8Aa3TqQI"
      }
    },
    {
      "cell_type": "markdown",
      "metadata": {
        "id": "r29P-5lvNSaG"
      },
      "source": [
        "Separamos en sets de entrenamiento y validación."
      ]
    },
    {
      "cell_type": "code",
      "metadata": {
        "id": "_BSk_4fINk3b"
      },
      "source": [
        "from torch.utils.data import TensorDataset, random_split"
      ],
      "execution_count": 35,
      "outputs": []
    },
    {
      "cell_type": "markdown",
      "metadata": {
        "id": "SJm4-xbCdJgT"
      },
      "source": [
        "Usaremos `torch.utils.data.TensorDataset(*tensors)` que simplemente recibe tensores y los junta en un set de datos.\n",
        "\n",
        "Estamos creando un set de datos con tres valores por observación:\n",
        "\n",
        "\n",
        "1.   Los input_ids;\n",
        "2.   Los attention_masks;\n",
        "3.   Las etiquetas.\n",
        "\n",
        "\n"
      ]
    },
    {
      "cell_type": "code",
      "metadata": {
        "id": "IgNUwN-LNlcX"
      },
      "source": [
        "set_datos = TensorDataset(input_ids, attention_masks, etiquetas)"
      ],
      "execution_count": 36,
      "outputs": []
    },
    {
      "cell_type": "markdown",
      "metadata": {
        "id": "yehVpbCOdoPE"
      },
      "source": [
        "Creamos tamaños para nuestros sets: 80% serán para entrenamiento y 20% para validación."
      ]
    },
    {
      "cell_type": "code",
      "metadata": {
        "id": "T-Okadw7NyZ2"
      },
      "source": [
        "n = len(set_datos)\n",
        "\n",
        "entrenamiento_tamaño = int(0.8 * n)\n",
        "validación_tamaño = n - entrenamiento_tamaño"
      ],
      "execution_count": 37,
      "outputs": []
    },
    {
      "cell_type": "code",
      "metadata": {
        "id": "Jzv3b_6MOMpt",
        "colab": {
          "base_uri": "https://localhost:8080/"
        },
        "outputId": "4b3427ce-aa85-4276-d025-ddd240b3fee5"
      },
      "source": [
        "print(f'El set de entrenamiento quedará con {entrenamiento_tamaño} obesrvaciones mientras que el de validación tendrá {validación_tamaño}.') "
      ],
      "execution_count": 38,
      "outputs": [
        {
          "output_type": "stream",
          "name": "stdout",
          "text": [
            "El set de entrenamiento quedará con 1086 obesrvaciones mientras que el de validación tendrá 272.\n"
          ]
        }
      ]
    },
    {
      "cell_type": "code",
      "metadata": {
        "id": "po53HGIEOfrf"
      },
      "source": [
        "set_entrenamiento, set_validación = random_split(set_datos, [entrenamiento_tamaño, validación_tamaño])"
      ],
      "execution_count": 39,
      "outputs": []
    },
    {
      "cell_type": "markdown",
      "metadata": {
        "id": "AjvHWIlat3E_"
      },
      "source": [
        "Obtenemos un objeto de tipo Subset."
      ]
    },
    {
      "cell_type": "code",
      "metadata": {
        "id": "TLOqaOtHtvD6",
        "colab": {
          "base_uri": "https://localhost:8080/"
        },
        "outputId": "bd500833-f3fa-4aee-fc05-f0cdbeb80ae4"
      },
      "source": [
        "type(set_entrenamiento)"
      ],
      "execution_count": 40,
      "outputs": [
        {
          "output_type": "execute_result",
          "data": {
            "text/plain": [
              "torch.utils.data.dataset.Subset"
            ]
          },
          "metadata": {},
          "execution_count": 40
        }
      ]
    },
    {
      "cell_type": "markdown",
      "metadata": {
        "id": "HgXfddvct8HK"
      },
      "source": [
        "Ahora convertimos en DataLoaders para que nuestros datos sean mezclados aleatoriamente y luego separados en batches."
      ]
    },
    {
      "cell_type": "markdown",
      "metadata": {
        "id": "aJwy5vrWufW7"
      },
      "source": [
        "Los dataloaders son objetos iterables que podemos obtener usando `for`. "
      ]
    },
    {
      "cell_type": "code",
      "metadata": {
        "id": "sP0rrVi4PAA0"
      },
      "source": [
        "from torch.utils.data import DataLoader, RandomSampler"
      ],
      "execution_count": 41,
      "outputs": []
    },
    {
      "cell_type": "markdown",
      "metadata": {
        "id": "2k3Z5TdxPIw6"
      },
      "source": [
        "Los creadores de `BERT` recomiendan entrenar con batches de 16 o 32 ejemplos."
      ]
    },
    {
      "cell_type": "code",
      "metadata": {
        "id": "0Or2i7OiPhST"
      },
      "source": [
        "batch_tamaño = 16"
      ],
      "execution_count": 42,
      "outputs": []
    },
    {
      "cell_type": "code",
      "metadata": {
        "id": "cxmy7VBZO-jR"
      },
      "source": [
        "dataloader_entrenamiento = DataLoader(\n",
        "            set_entrenamiento,  \n",
        "            sampler = RandomSampler(set_entrenamiento),\n",
        "            batch_size = batch_tamaño\n",
        "        )\n",
        "\n",
        "dataloader_validacion = DataLoader(\n",
        "            set_validación,\n",
        "            sampler = RandomSampler(set_validación),\n",
        "            batch_size = batch_tamaño \n",
        "        )"
      ],
      "execution_count": 43,
      "outputs": []
    },
    {
      "cell_type": "code",
      "source": [
        "print(f'El type de nuestro dataloader_entrenamiento es: {type(dataloader_entrenamiento)}.')"
      ],
      "metadata": {
        "colab": {
          "base_uri": "https://localhost:8080/"
        },
        "id": "FhHtv3z0U-5P",
        "outputId": "fc3d73d5-63ff-4301-8265-40d3ada40dc5"
      },
      "execution_count": 44,
      "outputs": [
        {
          "output_type": "stream",
          "name": "stdout",
          "text": [
            "El type de nuestro dataloader_entrenamiento es: <class 'torch.utils.data.dataloader.DataLoader'>.\n"
          ]
        }
      ]
    },
    {
      "cell_type": "markdown",
      "source": [
        "Con esto finalmente tenemos nuestros de entrenamiento y validación listos."
      ],
      "metadata": {
        "id": "q1TK5PdiU5Ui"
      }
    },
    {
      "cell_type": "markdown",
      "metadata": {
        "id": "cPtzrfE4P5dG"
      },
      "source": [
        "## La diversión (?): Entrenando"
      ]
    },
    {
      "cell_type": "markdown",
      "source": [
        "### Preparando el modelo"
      ],
      "metadata": {
        "id": "gPRxu6QYXBfW"
      }
    },
    {
      "cell_type": "markdown",
      "metadata": {
        "id": "mDbbLZnPOgB0"
      },
      "source": [
        "Se debe acomodar BERT para la tarea de clasificación. Para esto, HuggingFace nos da diferentes \"interfaces\" que acomodan las últimas capas de un BERT entrenado para aplicarse a diferentes tareas, como la clasificación."
      ]
    },
    {
      "cell_type": "markdown",
      "metadata": {
        "id": "ID-BLBfmPKMa"
      },
      "source": [
        "En la [documentación](https://huggingface.co/transformers/v2.2.0/model_doc/bert.html) de `transformers` se ven las interfaces para BERT.\n",
        "\n",
        "![2021-04-24_11-57.png](data:image/png;base64,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)\n",
        "\n"
      ]
    },
    {
      "cell_type": "markdown",
      "metadata": {
        "id": "vs1jfUQqPoiU"
      },
      "source": [
        "Usaremos `BertForSequenceClassification`. Esta interfaz toma los embeddings entrenados de nuestro `BETO` descargado del Hub de Hugging Face y agrega una capa linear al final especialmente dedicada a clasificar.\n",
        "\n",
        "Obviamente esta última capa no esta entrenada. Son números aleatorios. Lo que haremos con nuestro set de datos es **fine-tuning**. Es decir, entrenaremos la última capa (la de clasificación) desde cero mientras que las capas pre-entrenadas (BETO) las volveremos a entrenar con nuestro set de datos. Así, nuestro modelo estará más adecuado a nuestro uso particular de clasificar tweets.\n"
      ]
    },
    {
      "cell_type": "code",
      "metadata": {
        "id": "6NeUyl5uPuxx"
      },
      "source": [
        "  from transformers import BertForSequenceClassification, BertConfig"
      ],
      "execution_count": 45,
      "outputs": []
    },
    {
      "cell_type": "markdown",
      "metadata": {
        "id": "Jtyaa029iKNV"
      },
      "source": [
        "Se pone interesante esto. Nuestro modelo `BERT` en español, `BETO`, es un *checkpoint* de una arquitectura similar a `BertForPreTraining`. *Checkpoint*: un punto hasta donde tenemos un modelo entrenado. Es como cuando guardamos nuestra partida en un videojuego.\n",
        "\n",
        "Esto quiere decir que si usaremos a BETO para clasificación entonces sucederan dos cosas: \n",
        "\n",
        "1.   Vamos a tener capas de nuestro checkpoint BETO que no son utilizadas por la arquitectura de clasificación. Estas serán eliminadas automáticamente.\n",
        "\n",
        "2.   Vamos a tener capas de la arquitectura para clasificación que no estarán en nuestro checkpoint BETO. Estas serán inicializadas con pesos aleatorios.\n",
        "\n",
        "Al mencionar que usaremos una arquitectura `BertForSequenceClassification` nos dirá justamente esto en un *warning*.\n",
        "\n",
        "Esto quiere decir que para tener un buen modelo para clasificar tenemos que hacer un *fine-tuning*.\n",
        "\n",
        "Creemos nuestro modelo. Nota que uno de los argumentos que usaremos es `num_labels = 3`. Esto quiere decir que en la última capa, la de clasificación, creará espacio para tres labels. En este caso una sera para Negativo, otra para Positivo y otra para Neutral. Nuestras tres categorías de sentimientos de los tweets.\n",
        "\n",
        "\n"
      ]
    },
    {
      "cell_type": "code",
      "metadata": {
        "id": "vRd6Q9tqQpmZ",
        "colab": {
          "base_uri": "https://localhost:8080/",
          "height": 155,
          "referenced_widgets": [
            "466684d2f69f41b687789ee663801b33",
            "d3c05fc8168e4f9e9eeed393fee9746e",
            "f12e1f73b8874e239d52d0bf7f409e78",
            "f2358428fa064774af53715a60840721",
            "a99b8519105c4cb988af5c35b0d14cbd",
            "d04e82cd5fa14be28a4d457fe50ffc8b",
            "82b4be7e91a94a04b64342d3b67caf75",
            "5d7b904526c440dda599f6551d8eac55",
            "400fa096491942b18a7f7b75557cadd9",
            "061a0f1680e04f0eb245fdcd73e7ef63",
            "57471cb0245a4a5d8f06b77fc1b80a45"
          ]
        },
        "outputId": "3c4cbdb6-8af5-403d-a713-7bb60587dfcf"
      },
      "source": [
        "modelo = BertForSequenceClassification.from_pretrained(\n",
        "    \"dccuchile/bert-base-spanish-wwm-uncased\", \n",
        "    num_labels = 3, \n",
        "    output_attentions = False,\n",
        "    output_hidden_states = False)"
      ],
      "execution_count": 46,
      "outputs": [
        {
          "output_type": "display_data",
          "data": {
            "application/vnd.jupyter.widget-view+json": {
              "model_id": "466684d2f69f41b687789ee663801b33",
              "version_minor": 0,
              "version_major": 2
            },
            "text/plain": [
              "Downloading:   0%|          | 0.00/419M [00:00<?, ?B/s]"
            ]
          },
          "metadata": {}
        },
        {
          "output_type": "stream",
          "name": "stderr",
          "text": [
            "Some weights of the model checkpoint at dccuchile/bert-base-spanish-wwm-uncased were not used when initializing BertForSequenceClassification: ['cls.predictions.bias', 'cls.predictions.transform.dense.weight', 'cls.predictions.transform.LayerNorm.weight', 'cls.predictions.transform.dense.bias', 'cls.predictions.decoder.weight', 'cls.predictions.transform.LayerNorm.bias', 'cls.predictions.decoder.bias']\n",
            "- This IS expected if you are initializing BertForSequenceClassification from the checkpoint of a model trained on another task or with another architecture (e.g. initializing a BertForSequenceClassification model from a BertForPreTraining model).\n",
            "- This IS NOT expected if you are initializing BertForSequenceClassification from the checkpoint of a model that you expect to be exactly identical (initializing a BertForSequenceClassification model from a BertForSequenceClassification model).\n",
            "Some weights of BertForSequenceClassification were not initialized from the model checkpoint at dccuchile/bert-base-spanish-wwm-uncased and are newly initialized: ['classifier.bias', 'classifier.weight', 'bert.pooler.dense.weight', 'bert.pooler.dense.bias']\n",
            "You should probably TRAIN this model on a down-stream task to be able to use it for predictions and inference.\n"
          ]
        }
      ]
    },
    {
      "cell_type": "code",
      "metadata": {
        "id": "3E3ar0Z1Q-HG",
        "colab": {
          "base_uri": "https://localhost:8080/"
        },
        "outputId": "0bc29f81-d9d9-4df1-dde1-9b9ca5b551bd"
      },
      "source": [
        "print(f'Vemos que el type de nuestro modelo ya indica que lo usaremos para clasificar: {type(modelo)}.')"
      ],
      "execution_count": 47,
      "outputs": [
        {
          "output_type": "stream",
          "name": "stdout",
          "text": [
            "Vemos que el type de nuestro modelo ya indica que lo usaremos para clasificar: <class 'transformers.models.bert.modeling_bert.BertForSequenceClassification'>.\n"
          ]
        }
      ]
    },
    {
      "cell_type": "markdown",
      "metadata": {
        "id": "ZZRWQ-sCfHL6"
      },
      "source": [
        "Para utilizar con GPU y observar la estructura de nuestro modelo BETO para clasificar oraciones:"
      ]
    },
    {
      "cell_type": "code",
      "metadata": {
        "id": "X592HJUffEiV",
        "colab": {
          "base_uri": "https://localhost:8080/"
        },
        "outputId": "dc7776b3-2140-4e59-b8fa-51563160bcff"
      },
      "source": [
        "modelo.cuda()"
      ],
      "execution_count": 48,
      "outputs": [
        {
          "output_type": "execute_result",
          "data": {
            "text/plain": [
              "BertForSequenceClassification(\n",
              "  (bert): BertModel(\n",
              "    (embeddings): BertEmbeddings(\n",
              "      (word_embeddings): Embedding(31002, 768, padding_idx=1)\n",
              "      (position_embeddings): Embedding(512, 768)\n",
              "      (token_type_embeddings): Embedding(2, 768)\n",
              "      (LayerNorm): LayerNorm((768,), eps=1e-12, elementwise_affine=True)\n",
              "      (dropout): Dropout(p=0.1, inplace=False)\n",
              "    )\n",
              "    (encoder): BertEncoder(\n",
              "      (layer): ModuleList(\n",
              "        (0): BertLayer(\n",
              "          (attention): BertAttention(\n",
              "            (self): BertSelfAttention(\n",
              "              (query): Linear(in_features=768, out_features=768, bias=True)\n",
              "              (key): Linear(in_features=768, out_features=768, bias=True)\n",
              "              (value): Linear(in_features=768, out_features=768, bias=True)\n",
              "              (dropout): Dropout(p=0.1, inplace=False)\n",
              "            )\n",
              "            (output): BertSelfOutput(\n",
              "              (dense): Linear(in_features=768, out_features=768, bias=True)\n",
              "              (LayerNorm): LayerNorm((768,), eps=1e-12, elementwise_affine=True)\n",
              "              (dropout): Dropout(p=0.1, inplace=False)\n",
              "            )\n",
              "          )\n",
              "          (intermediate): BertIntermediate(\n",
              "            (dense): Linear(in_features=768, out_features=3072, bias=True)\n",
              "          )\n",
              "          (output): BertOutput(\n",
              "            (dense): Linear(in_features=3072, out_features=768, bias=True)\n",
              "            (LayerNorm): LayerNorm((768,), eps=1e-12, elementwise_affine=True)\n",
              "            (dropout): Dropout(p=0.1, inplace=False)\n",
              "          )\n",
              "        )\n",
              "        (1): BertLayer(\n",
              "          (attention): BertAttention(\n",
              "            (self): BertSelfAttention(\n",
              "              (query): Linear(in_features=768, out_features=768, bias=True)\n",
              "              (key): Linear(in_features=768, out_features=768, bias=True)\n",
              "              (value): Linear(in_features=768, out_features=768, bias=True)\n",
              "              (dropout): Dropout(p=0.1, inplace=False)\n",
              "            )\n",
              "            (output): BertSelfOutput(\n",
              "              (dense): Linear(in_features=768, out_features=768, bias=True)\n",
              "              (LayerNorm): LayerNorm((768,), eps=1e-12, elementwise_affine=True)\n",
              "              (dropout): Dropout(p=0.1, inplace=False)\n",
              "            )\n",
              "          )\n",
              "          (intermediate): BertIntermediate(\n",
              "            (dense): Linear(in_features=768, out_features=3072, bias=True)\n",
              "          )\n",
              "          (output): BertOutput(\n",
              "            (dense): Linear(in_features=3072, out_features=768, bias=True)\n",
              "            (LayerNorm): LayerNorm((768,), eps=1e-12, elementwise_affine=True)\n",
              "            (dropout): Dropout(p=0.1, inplace=False)\n",
              "          )\n",
              "        )\n",
              "        (2): BertLayer(\n",
              "          (attention): BertAttention(\n",
              "            (self): BertSelfAttention(\n",
              "              (query): Linear(in_features=768, out_features=768, bias=True)\n",
              "              (key): Linear(in_features=768, out_features=768, bias=True)\n",
              "              (value): Linear(in_features=768, out_features=768, bias=True)\n",
              "              (dropout): Dropout(p=0.1, inplace=False)\n",
              "            )\n",
              "            (output): BertSelfOutput(\n",
              "              (dense): Linear(in_features=768, out_features=768, bias=True)\n",
              "              (LayerNorm): LayerNorm((768,), eps=1e-12, elementwise_affine=True)\n",
              "              (dropout): Dropout(p=0.1, inplace=False)\n",
              "            )\n",
              "          )\n",
              "          (intermediate): BertIntermediate(\n",
              "            (dense): Linear(in_features=768, out_features=3072, bias=True)\n",
              "          )\n",
              "          (output): BertOutput(\n",
              "            (dense): Linear(in_features=3072, out_features=768, bias=True)\n",
              "            (LayerNorm): LayerNorm((768,), eps=1e-12, elementwise_affine=True)\n",
              "            (dropout): Dropout(p=0.1, inplace=False)\n",
              "          )\n",
              "        )\n",
              "        (3): BertLayer(\n",
              "          (attention): BertAttention(\n",
              "            (self): BertSelfAttention(\n",
              "              (query): Linear(in_features=768, out_features=768, bias=True)\n",
              "              (key): Linear(in_features=768, out_features=768, bias=True)\n",
              "              (value): Linear(in_features=768, out_features=768, bias=True)\n",
              "              (dropout): Dropout(p=0.1, inplace=False)\n",
              "            )\n",
              "            (output): BertSelfOutput(\n",
              "              (dense): Linear(in_features=768, out_features=768, bias=True)\n",
              "              (LayerNorm): LayerNorm((768,), eps=1e-12, elementwise_affine=True)\n",
              "              (dropout): Dropout(p=0.1, inplace=False)\n",
              "            )\n",
              "          )\n",
              "          (intermediate): BertIntermediate(\n",
              "            (dense): Linear(in_features=768, out_features=3072, bias=True)\n",
              "          )\n",
              "          (output): BertOutput(\n",
              "            (dense): Linear(in_features=3072, out_features=768, bias=True)\n",
              "            (LayerNorm): LayerNorm((768,), eps=1e-12, elementwise_affine=True)\n",
              "            (dropout): Dropout(p=0.1, inplace=False)\n",
              "          )\n",
              "        )\n",
              "        (4): BertLayer(\n",
              "          (attention): BertAttention(\n",
              "            (self): BertSelfAttention(\n",
              "              (query): Linear(in_features=768, out_features=768, bias=True)\n",
              "              (key): Linear(in_features=768, out_features=768, bias=True)\n",
              "              (value): Linear(in_features=768, out_features=768, bias=True)\n",
              "              (dropout): Dropout(p=0.1, inplace=False)\n",
              "            )\n",
              "            (output): BertSelfOutput(\n",
              "              (dense): Linear(in_features=768, out_features=768, bias=True)\n",
              "              (LayerNorm): LayerNorm((768,), eps=1e-12, elementwise_affine=True)\n",
              "              (dropout): Dropout(p=0.1, inplace=False)\n",
              "            )\n",
              "          )\n",
              "          (intermediate): BertIntermediate(\n",
              "            (dense): Linear(in_features=768, out_features=3072, bias=True)\n",
              "          )\n",
              "          (output): BertOutput(\n",
              "            (dense): Linear(in_features=3072, out_features=768, bias=True)\n",
              "            (LayerNorm): LayerNorm((768,), eps=1e-12, elementwise_affine=True)\n",
              "            (dropout): Dropout(p=0.1, inplace=False)\n",
              "          )\n",
              "        )\n",
              "        (5): BertLayer(\n",
              "          (attention): BertAttention(\n",
              "            (self): BertSelfAttention(\n",
              "              (query): Linear(in_features=768, out_features=768, bias=True)\n",
              "              (key): Linear(in_features=768, out_features=768, bias=True)\n",
              "              (value): Linear(in_features=768, out_features=768, bias=True)\n",
              "              (dropout): Dropout(p=0.1, inplace=False)\n",
              "            )\n",
              "            (output): BertSelfOutput(\n",
              "              (dense): Linear(in_features=768, out_features=768, bias=True)\n",
              "              (LayerNorm): LayerNorm((768,), eps=1e-12, elementwise_affine=True)\n",
              "              (dropout): Dropout(p=0.1, inplace=False)\n",
              "            )\n",
              "          )\n",
              "          (intermediate): BertIntermediate(\n",
              "            (dense): Linear(in_features=768, out_features=3072, bias=True)\n",
              "          )\n",
              "          (output): BertOutput(\n",
              "            (dense): Linear(in_features=3072, out_features=768, bias=True)\n",
              "            (LayerNorm): LayerNorm((768,), eps=1e-12, elementwise_affine=True)\n",
              "            (dropout): Dropout(p=0.1, inplace=False)\n",
              "          )\n",
              "        )\n",
              "        (6): BertLayer(\n",
              "          (attention): BertAttention(\n",
              "            (self): BertSelfAttention(\n",
              "              (query): Linear(in_features=768, out_features=768, bias=True)\n",
              "              (key): Linear(in_features=768, out_features=768, bias=True)\n",
              "              (value): Linear(in_features=768, out_features=768, bias=True)\n",
              "              (dropout): Dropout(p=0.1, inplace=False)\n",
              "            )\n",
              "            (output): BertSelfOutput(\n",
              "              (dense): Linear(in_features=768, out_features=768, bias=True)\n",
              "              (LayerNorm): LayerNorm((768,), eps=1e-12, elementwise_affine=True)\n",
              "              (dropout): Dropout(p=0.1, inplace=False)\n",
              "            )\n",
              "          )\n",
              "          (intermediate): BertIntermediate(\n",
              "            (dense): Linear(in_features=768, out_features=3072, bias=True)\n",
              "          )\n",
              "          (output): BertOutput(\n",
              "            (dense): Linear(in_features=3072, out_features=768, bias=True)\n",
              "            (LayerNorm): LayerNorm((768,), eps=1e-12, elementwise_affine=True)\n",
              "            (dropout): Dropout(p=0.1, inplace=False)\n",
              "          )\n",
              "        )\n",
              "        (7): BertLayer(\n",
              "          (attention): BertAttention(\n",
              "            (self): BertSelfAttention(\n",
              "              (query): Linear(in_features=768, out_features=768, bias=True)\n",
              "              (key): Linear(in_features=768, out_features=768, bias=True)\n",
              "              (value): Linear(in_features=768, out_features=768, bias=True)\n",
              "              (dropout): Dropout(p=0.1, inplace=False)\n",
              "            )\n",
              "            (output): BertSelfOutput(\n",
              "              (dense): Linear(in_features=768, out_features=768, bias=True)\n",
              "              (LayerNorm): LayerNorm((768,), eps=1e-12, elementwise_affine=True)\n",
              "              (dropout): Dropout(p=0.1, inplace=False)\n",
              "            )\n",
              "          )\n",
              "          (intermediate): BertIntermediate(\n",
              "            (dense): Linear(in_features=768, out_features=3072, bias=True)\n",
              "          )\n",
              "          (output): BertOutput(\n",
              "            (dense): Linear(in_features=3072, out_features=768, bias=True)\n",
              "            (LayerNorm): LayerNorm((768,), eps=1e-12, elementwise_affine=True)\n",
              "            (dropout): Dropout(p=0.1, inplace=False)\n",
              "          )\n",
              "        )\n",
              "        (8): BertLayer(\n",
              "          (attention): BertAttention(\n",
              "            (self): BertSelfAttention(\n",
              "              (query): Linear(in_features=768, out_features=768, bias=True)\n",
              "              (key): Linear(in_features=768, out_features=768, bias=True)\n",
              "              (value): Linear(in_features=768, out_features=768, bias=True)\n",
              "              (dropout): Dropout(p=0.1, inplace=False)\n",
              "            )\n",
              "            (output): BertSelfOutput(\n",
              "              (dense): Linear(in_features=768, out_features=768, bias=True)\n",
              "              (LayerNorm): LayerNorm((768,), eps=1e-12, elementwise_affine=True)\n",
              "              (dropout): Dropout(p=0.1, inplace=False)\n",
              "            )\n",
              "          )\n",
              "          (intermediate): BertIntermediate(\n",
              "            (dense): Linear(in_features=768, out_features=3072, bias=True)\n",
              "          )\n",
              "          (output): BertOutput(\n",
              "            (dense): Linear(in_features=3072, out_features=768, bias=True)\n",
              "            (LayerNorm): LayerNorm((768,), eps=1e-12, elementwise_affine=True)\n",
              "            (dropout): Dropout(p=0.1, inplace=False)\n",
              "          )\n",
              "        )\n",
              "        (9): BertLayer(\n",
              "          (attention): BertAttention(\n",
              "            (self): BertSelfAttention(\n",
              "              (query): Linear(in_features=768, out_features=768, bias=True)\n",
              "              (key): Linear(in_features=768, out_features=768, bias=True)\n",
              "              (value): Linear(in_features=768, out_features=768, bias=True)\n",
              "              (dropout): Dropout(p=0.1, inplace=False)\n",
              "            )\n",
              "            (output): BertSelfOutput(\n",
              "              (dense): Linear(in_features=768, out_features=768, bias=True)\n",
              "              (LayerNorm): LayerNorm((768,), eps=1e-12, elementwise_affine=True)\n",
              "              (dropout): Dropout(p=0.1, inplace=False)\n",
              "            )\n",
              "          )\n",
              "          (intermediate): BertIntermediate(\n",
              "            (dense): Linear(in_features=768, out_features=3072, bias=True)\n",
              "          )\n",
              "          (output): BertOutput(\n",
              "            (dense): Linear(in_features=3072, out_features=768, bias=True)\n",
              "            (LayerNorm): LayerNorm((768,), eps=1e-12, elementwise_affine=True)\n",
              "            (dropout): Dropout(p=0.1, inplace=False)\n",
              "          )\n",
              "        )\n",
              "        (10): BertLayer(\n",
              "          (attention): BertAttention(\n",
              "            (self): BertSelfAttention(\n",
              "              (query): Linear(in_features=768, out_features=768, bias=True)\n",
              "              (key): Linear(in_features=768, out_features=768, bias=True)\n",
              "              (value): Linear(in_features=768, out_features=768, bias=True)\n",
              "              (dropout): Dropout(p=0.1, inplace=False)\n",
              "            )\n",
              "            (output): BertSelfOutput(\n",
              "              (dense): Linear(in_features=768, out_features=768, bias=True)\n",
              "              (LayerNorm): LayerNorm((768,), eps=1e-12, elementwise_affine=True)\n",
              "              (dropout): Dropout(p=0.1, inplace=False)\n",
              "            )\n",
              "          )\n",
              "          (intermediate): BertIntermediate(\n",
              "            (dense): Linear(in_features=768, out_features=3072, bias=True)\n",
              "          )\n",
              "          (output): BertOutput(\n",
              "            (dense): Linear(in_features=3072, out_features=768, bias=True)\n",
              "            (LayerNorm): LayerNorm((768,), eps=1e-12, elementwise_affine=True)\n",
              "            (dropout): Dropout(p=0.1, inplace=False)\n",
              "          )\n",
              "        )\n",
              "        (11): BertLayer(\n",
              "          (attention): BertAttention(\n",
              "            (self): BertSelfAttention(\n",
              "              (query): Linear(in_features=768, out_features=768, bias=True)\n",
              "              (key): Linear(in_features=768, out_features=768, bias=True)\n",
              "              (value): Linear(in_features=768, out_features=768, bias=True)\n",
              "              (dropout): Dropout(p=0.1, inplace=False)\n",
              "            )\n",
              "            (output): BertSelfOutput(\n",
              "              (dense): Linear(in_features=768, out_features=768, bias=True)\n",
              "              (LayerNorm): LayerNorm((768,), eps=1e-12, elementwise_affine=True)\n",
              "              (dropout): Dropout(p=0.1, inplace=False)\n",
              "            )\n",
              "          )\n",
              "          (intermediate): BertIntermediate(\n",
              "            (dense): Linear(in_features=768, out_features=3072, bias=True)\n",
              "          )\n",
              "          (output): BertOutput(\n",
              "            (dense): Linear(in_features=3072, out_features=768, bias=True)\n",
              "            (LayerNorm): LayerNorm((768,), eps=1e-12, elementwise_affine=True)\n",
              "            (dropout): Dropout(p=0.1, inplace=False)\n",
              "          )\n",
              "        )\n",
              "      )\n",
              "    )\n",
              "    (pooler): BertPooler(\n",
              "      (dense): Linear(in_features=768, out_features=768, bias=True)\n",
              "      (activation): Tanh()\n",
              "    )\n",
              "  )\n",
              "  (dropout): Dropout(p=0.1, inplace=False)\n",
              "  (classifier): Linear(in_features=768, out_features=3, bias=True)\n",
              ")"
            ]
          },
          "metadata": {},
          "execution_count": 48
        }
      ]
    },
    {
      "cell_type": "markdown",
      "metadata": {
        "id": "b5ink4YnhwRy"
      },
      "source": [
        "### Optimizer & Learning Rate Scheduler"
      ]
    },
    {
      "cell_type": "markdown",
      "metadata": {
        "id": "c6Sw62Vlh8Of"
      },
      "source": [
        "Seleccionamos: Batch size = 16; learning rate (Adam) = 2e-5; número de épocas = 3. Son valores recomendados por los autores del [paper de BERT](https://arxiv.org/pdf/1810.04805.pdf)."
      ]
    },
    {
      "cell_type": "code",
      "metadata": {
        "id": "EiTzySalhIzj",
        "colab": {
          "base_uri": "https://localhost:8080/"
        },
        "outputId": "beba1073-c287-433a-bd37-cfa06f674314"
      },
      "source": [
        "from transformers import AdamW, get_linear_schedule_with_warmup\n",
        "\n",
        "optimizer = AdamW(modelo.parameters(), \n",
        "                  lr = 2e-5\n",
        "                  )"
      ],
      "execution_count": 49,
      "outputs": [
        {
          "output_type": "stream",
          "name": "stderr",
          "text": [
            "/usr/local/lib/python3.7/dist-packages/transformers/optimization.py:309: FutureWarning: This implementation of AdamW is deprecated and will be removed in a future version. Use thePyTorch implementation torch.optim.AdamW instead, or set `no_deprecation_warning=True` to disable this warning\n",
            "  FutureWarning,\n"
          ]
        }
      ]
    },
    {
      "cell_type": "markdown",
      "metadata": {
        "id": "3KEWSg1pCE_L"
      },
      "source": [
        "Definimos `total_steps` como las veces que optimizamos nuestros parámetros. En este caso vamos a optimizar con cada ejemplo de nuestro set de datos. Este valor lo multiplicamos por el número de épocas y tenemos el total de \"steps\"."
      ]
    },
    {
      "cell_type": "code",
      "metadata": {
        "id": "UWvML0-Mi5Nd"
      },
      "source": [
        "epocas = 3\n",
        "total_steps = len(dataloader_entrenamiento) * epocas\n",
        "\n",
        "scheduler = get_linear_schedule_with_warmup(optimizer,\n",
        "                                            num_warmup_steps = 0,\n",
        "                                            num_training_steps = total_steps)"
      ],
      "execution_count": 50,
      "outputs": []
    },
    {
      "cell_type": "markdown",
      "metadata": {
        "id": "GLAAAIZHjz7e"
      },
      "source": [
        "Con un el error de validación podemos identificar el overfitting."
      ]
    },
    {
      "cell_type": "markdown",
      "metadata": {
        "id": "_F-Im-MZkQ1Z"
      },
      "source": [
        "Estos son los pasos que seguiremos para entrenar y validar.\n",
        "\n",
        "**Entrenamiento:**\n",
        "- Desempaca los inputs de nuestros tweets y etiquetas.\n",
        "- Cargamos los datos en nuestra GPU.\n",
        "- Limpiamos los gradientes calculados en la pasada anterior (si es la primera pasada entonces este paso no es necesario).\n",
        "    - En pytorch, los gradientes se acumulan de forma predeterminada (útil para arquitecturas como la RNN) a menos que los elimine explícitamente como en este caso.\n",
        "- Pase hacia adelante (pasar nuestros datos a través de la red) para obtener los valores de pérdida.\n",
        "- Pase hacia atrás (propagación hacia atrás) para saber hacía dónde moveremos nuestros parámetros: obtener los gradientes nuevos.\n",
        "- Actualizar los parámetros con `optimizer.step()` según los gradientes obtenidos en el paso hacía atras.\n",
        "- Monitorear el progreso\n",
        "\n",
        "**Evaluación:**\n",
        "- Desempaca los inputs de nuestros tweets y etiquetas.\n",
        "- Cargamos los datos en nuestra GPU.\n",
        "- Pase hacia adelante (pasar nuestros datos a través de la red) para calcular la pérdida. Esto con nuestros datos de validación.\n",
        "- Monitoreamos el progreso' \n",
        "\n",
        "Fuente: Youtube - Bert."
      ]
    },
    {
      "cell_type": "code",
      "metadata": {
        "id": "zCsNUE7jk6FE"
      },
      "source": [
        "import random\n",
        "import numpy as np\n",
        "\n",
        "# Este código de entrenamiento se basa en el script `run_glue.py` aquí:\n",
        "# https://github.com/huggingface/transformers/blob/5bfcd0485ece086ebcbed2d008813037968a9e58/examples/run_glue.py#L128\n",
        "\n",
        "# Establezca el valor seed inicial por todas partes para que sea reproducible.\n",
        "seed_val = 42\n",
        "\n",
        "random.seed(seed_val)\n",
        "np.random.seed(seed_val)\n",
        "torch.manual_seed(seed_val)\n",
        "torch.cuda.manual_seed_all(seed_val)"
      ],
      "execution_count": 52,
      "outputs": []
    },
    {
      "cell_type": "code",
      "metadata": {
        "id": "5Tuze-_il9o4"
      },
      "source": [
        "entrenamiento_stats = []\n",
        "perdida_entrenamiento_total = 0\n",
        "\n",
        "modelo.train();"
      ],
      "execution_count": 54,
      "outputs": []
    },
    {
      "cell_type": "markdown",
      "metadata": {
        "id": "UyqPgcTsz6Gu"
      },
      "source": [
        "Primero entendamos lo que nos retorna nuestro `modelo` (ver [documentación](https://huggingface.co/transformers/model_doc/bert.html) para un `BertForSequenceClassification`). Probamos con el primer ejemplo de nuestro set de datos. Para esto tomamos el `set_entrenamiento` (objeto de tipo `Subset`) y:\n",
        "\n",
        "\n",
        "1.   Retiramos el primero ejemplo con `set_entrenamiento[0]`;\n",
        "2.   Los ejemplos tienen tres partes, nuestros `input_ids`, los `attention_mask` y las `etiquetas`. Nosotros insertaremos estas tres partes en nuestro `modelo` por lo que los obtenemos con `set_entrenamiento[0][2]`, por ejemplo, para la `attention_mask`, y así respectivamente.\n",
        "3. En la documentación vemos que en `input_ids` y `attention_maks` necesitamos ingresar `torch.LongTensor` de forma (`batch_size`, `sequence_length`). Por lo que tenemos que agregar una dimensión adicional a nuestro tensor con `set_entrenamiento[0][0][None, :]` (ver [tutorial sobre manipulación de tensores](https://hackernoon.com/manipulacion-de-tensores-en-pytorch-hlp32ip)).\n",
        "4. Finalmente, como determinamos que `modelo` corra en un GPU entonces tenemos que hacer que nuestros tensores corran también en GPU; usamos `to(device)` donde esta había sido definida antes como `device = torch.device(\"cuda\")`.\n",
        "\n"
      ]
    },
    {
      "cell_type": "markdown",
      "metadata": {
        "id": "Xp8r-lWY2wpX"
      },
      "source": [
        "Lo que obtenemos de `modelo` depende de del `BertConfig` y los argumentos que ingresemos. Por ahora, vemos que `modelo` nos regresa una tupla de dos valores.\n",
        "\n",
        "\n",
        "1.   La pérdida de forma (1,).\n",
        "2.   Los logits, los valores antes de la aplicación de una función de activación, de forma (batch_size, config.num_labels).\n",
        "\n",
        "Con el metódo `item()` podemos obtener el valor particular de los tensores.\n",
        "\n"
      ]
    },
    {
      "cell_type": "code",
      "metadata": {
        "id": "vg9KiavBw2Ph"
      },
      "source": [
        "outputs = modelo(input_ids = set_entrenamiento[0][0][None, :].to(device),\n",
        "                         attention_mask = set_entrenamiento[0][1][None, :].to(device),\n",
        "                         labels = set_entrenamiento[0][2][None,].to(device)\n",
        "                         )"
      ],
      "execution_count": 56,
      "outputs": []
    },
    {
      "cell_type": "code",
      "metadata": {
        "id": "JY4RKE7GFg-z"
      },
      "source": [
        "perdida = outputs.loss\n",
        "logits = outputs.logits"
      ],
      "execution_count": 57,
      "outputs": []
    },
    {
      "cell_type": "code",
      "metadata": {
        "id": "3uQXRqG54UTe",
        "colab": {
          "base_uri": "https://localhost:8080/"
        },
        "outputId": "e9c23179-552f-4932-915c-fc32e4a8beb6"
      },
      "source": [
        "perdida.item()"
      ],
      "execution_count": 58,
      "outputs": [
        {
          "output_type": "execute_result",
          "data": {
            "text/plain": [
              "1.032916784286499"
            ]
          },
          "metadata": {},
          "execution_count": 58
        }
      ]
    },
    {
      "cell_type": "code",
      "metadata": {
        "id": "1QuFoip4HQnC"
      },
      "source": [
        "# for batch in dataloader_entrenamiento:\n",
        "#   print(batch)"
      ],
      "execution_count": null,
      "outputs": []
    },
    {
      "cell_type": "markdown",
      "metadata": {
        "id": "bJIcJmM55dqH"
      },
      "source": [
        "Ahora hacemos todo junto. Así queda nuestro proceso de entrenamiento..."
      ]
    },
    {
      "cell_type": "code",
      "metadata": {
        "id": "DRjGsl8_mOIu"
      },
      "source": [
        "# Tomamos cada batch dentro de nuestro dataloader_entrenamiento\n",
        "# y lo partimos entre ids, maks y etiquetas.\n",
        "for batch in dataloader_entrenamiento:\n",
        "  b_input_ids = batch[0].to(device)\n",
        "  b_input_masks = batch[1].to(device)\n",
        "  b_input_etiquetas = batch[2].to(device)\n",
        "\n",
        "  # Limpiamos los gradientes del último step de optimización\n",
        "  modelo.zero_grad()\n",
        "\n",
        "  # Ingresmos ids, masks y etiquetas a nuestro modelo para obtener los\n",
        "  # logits y las pérdidas de cada step de optimización (guardado en output)\n",
        "  outputs = modelo(input_ids = b_input_ids,\n",
        "                           attention_mask = b_input_masks,\n",
        "                           labels = b_input_etiquetas)\n",
        "  \n",
        "  # Sumamos la última pérdida a las pasadas. Estamos haciendo una\n",
        "  # sumatoria para obtener la suma total de las pérdidas.\n",
        "  perdida_entrenamiento_total += outputs.loss.item()\n",
        "  \n",
        "  # Obtenemos el gradiente de nuestros weights con respecto a la \n",
        "  # pérdida obtenida.\n",
        "  outputs.loss.backward()\n",
        "\n",
        "  # Pedimos que la norma de los gradientes sea máximo 1. No te preocupes\n",
        "  # por esto, es para hacer nuestro modelo más preciso\n",
        "  torch.nn.utils.clip_grad_norm_(modelo.parameters(), 1.0)\n",
        "\n",
        "  # Optimizamos utilizando los gradientes\n",
        "  optimizer.step()\n",
        "  scheduler.step()"
      ],
      "execution_count": 60,
      "outputs": []
    },
    {
      "cell_type": "markdown",
      "metadata": {
        "id": "T4SQx2ZVWm_R"
      },
      "source": [
        "La pérdida promedio la obtenemos dividiendo la sumatoria de las pérdidas individuales entre el total de nuestros ejemplos."
      ]
    },
    {
      "cell_type": "code",
      "metadata": {
        "id": "uuj6s2ocHxBy",
        "colab": {
          "base_uri": "https://localhost:8080/"
        },
        "outputId": "37917bd1-20f8-4ec6-a46f-8378170c0efa"
      },
      "source": [
        "perdida_entrenamiento_promedio = perdida_entrenamiento_total / len(dataloader_entrenamiento)\n",
        "\n",
        "print(\"  Pérdida promedio en entrenamiento: {}\".format(perdida_entrenamiento_promedio))\n"
      ],
      "execution_count": 61,
      "outputs": [
        {
          "output_type": "stream",
          "name": "stdout",
          "text": [
            "  Pérdida promedio en entrenamiento: 0.7983706939746352\n"
          ]
        }
      ]
    },
    {
      "cell_type": "markdown",
      "metadata": {
        "id": "HNzQk5J7RUfx"
      },
      "source": [
        "Con lo obtenido evaluamos el perfomance de nuestro `modelo`; lo colocamos en modelo `eval` que hace que el dropout se comporte de una forma diferente a si estuvieramos entrenando."
      ]
    },
    {
      "cell_type": "code",
      "metadata": {
        "id": "ns8B7reURTZm"
      },
      "source": [
        "modelo.eval();"
      ],
      "execution_count": 62,
      "outputs": []
    },
    {
      "cell_type": "code",
      "metadata": {
        "id": "A_2VqAxKRxet"
      },
      "source": [
        "accuracy_validacion_total = 0\n",
        "perdida_validacion_total = 0"
      ],
      "execution_count": 63,
      "outputs": []
    },
    {
      "cell_type": "markdown",
      "metadata": {
        "id": "VzyIy-TGS_UL"
      },
      "source": [
        "En evaluación no es necesario registrar el camino tomado durante el forward propagation para después obtener los gradientes; colocamos `torch.no_grad()`. No vamos a usar gradientes porque no vamos a optimizar.\n",
        "\n",
        "También utilizamos `logits.detach()` para separar los `logits` de la operación en el grafo y quedarnos con sus valores netos: \"`tensor.detach()` crea un tensor que comparte almacenamiento con un tensor que no requiere grad [...] Debe usar `detach()` cuando intente eliminar un tensor de un gráfico de cálculo, y `clone()` como una forma de copiar el tensor mientras mantiene la copia como parte del grafo de cálculo del que proviene.\" ([link a respuesta en foro](https://discuss.pytorch.org/t/clone-and-detach-in-v0-4-0/16861/2))\n",
        "\n",
        "Los `logits`, ya sin encontrarse incorporados al grafo de la red neuronal, son pasados a cpu con el metódo `cpu()` y luego es convertido en un arreglo de `numpy()`."
      ]
    },
    {
      "cell_type": "markdown",
      "metadata": {
        "id": "6iyBwTr5Yyxs"
      },
      "source": [
        "Las predicciones (logits) vamos a compararlas con los labels. Ambas variables estarán en formato numpy por lo que generamos una función en numpy que nos ayuda a obtener nuestra métrica de accuracy: el porcentaje de predicciones que tenemos correctas."
      ]
    },
    {
      "cell_type": "code",
      "metadata": {
        "id": "JsEFIU31YzQF"
      },
      "source": [
        "import numpy as np\n",
        "\n",
        "def accuracy(preds, labels):\n",
        "    predicciones = np.argmax(preds, axis=1).flatten()\n",
        "    etiquetas = labels.flatten()\n",
        "    return np.sum(predicciones == etiquetas) / len(etiquetas)"
      ],
      "execution_count": 64,
      "outputs": []
    },
    {
      "cell_type": "code",
      "metadata": {
        "id": "4O_qtRSvSRjz"
      },
      "source": [
        "# Igual que en el entrenamiento obtenemos para cada batch de nuestro\n",
        "# set de validación los ids, las masks y las etiquetas.\n",
        "for batch in dataloader_validacion:\n",
        "  \n",
        "  b_input_ids = batch[0].to(device)\n",
        "  b_input_masks = batch[1].to(device)\n",
        "  b_input_etiquetas = batch[2].to(device)\n",
        "\n",
        "  # No requerimos los gradientes por lo que obtenemos los outputs\n",
        "  # con torch.no_grad()\n",
        "  with torch.no_grad():\n",
        "    outputs = modelo(input_ids = b_input_ids,\n",
        "                             attention_mask = b_input_masks,\n",
        "                             labels = b_input_etiquetas)\n",
        "\n",
        "  # Obtenemos la pérdida total  \n",
        "  perdida_validacion_total += outputs.loss.item()\n",
        "\n",
        "  # Sacamos los logits del grafo y los pasamos a cpu y a numpy\n",
        "  logits = outputs.logits.detach().cpu().numpy()\n",
        "  \n",
        "  # Lo mismo con los labels\n",
        "  label_ids = b_input_etiquetas.to('cpu').numpy()\n",
        "  \n",
        "  # Hacemos una sumatoria de la accuracy de cada batch\n",
        "  accuracy_validacion_total += accuracy(logits, label_ids)"
      ],
      "execution_count": 65,
      "outputs": []
    },
    {
      "cell_type": "code",
      "metadata": {
        "id": "Im5rn7wvYRpt",
        "colab": {
          "base_uri": "https://localhost:8080/"
        },
        "outputId": "790beea6-850a-40a4-a818-5ad15563193b"
      },
      "source": [
        "accuracy_validacion_promedio = accuracy_validacion_total / len(dataloader_validacion)\n",
        "print(\"  Accuracy: {}\".format(accuracy_validacion_promedio))\n",
        "\n",
        "perdida_validacion_promedio = perdida_validacion_total / len(dataloader_validacion)\n",
        "print(\"  Pérdida de validación: {}\".format(perdida_validacion_promedio))"
      ],
      "execution_count": 66,
      "outputs": [
        {
          "output_type": "stream",
          "name": "stdout",
          "text": [
            "  Accuracy: 0.7205882352941176\n",
            "  Pérdida de validación: 0.7288397497990552\n"
          ]
        }
      ]
    },
    {
      "cell_type": "markdown",
      "metadata": {
        "id": "-aR-2RE4ZPVm"
      },
      "source": [
        "Obtenemos las estadísticas del entrenamiento de esta epoch."
      ]
    },
    {
      "cell_type": "code",
      "metadata": {
        "id": "NrkOiqTMZOqb"
      },
      "source": [
        "entrenamiento_stats.append(\n",
        "    {\n",
        "        'epoch': 1,\n",
        "        'Training Loss': perdida_entrenamiento_promedio,\n",
        "        'Valid. Loss': perdida_validacion_promedio,\n",
        "        'Valid. Accur.': accuracy_validacion_promedio,\n",
        "     }\n",
        ")"
      ],
      "execution_count": 67,
      "outputs": []
    },
    {
      "cell_type": "markdown",
      "metadata": {
        "id": "I4XboO82FhYM"
      },
      "source": [
        "Ahora coloquemos todo nuestro entrenamiento dentro de un `for` en el que se definen las siguientes epochs. Originalmente así habríamos hecho el entrenamiento pero antes es bueno partirlo en sus componentes para entenderlo mejor.\n",
        "\n",
        "Nota que cada época una vez entrenada la vamos a pasar por valdiación. Todo en el mismo loop."
      ]
    },
    {
      "cell_type": "code",
      "metadata": {
        "id": "J8UBFfHiDLpz",
        "colab": {
          "base_uri": "https://localhost:8080/"
        },
        "outputId": "9a7be2c9-e445-4a3b-e053-1ed0bf7778cd"
      },
      "source": [
        "epochs = 2\n",
        "\n",
        "for epoch in range(0, epochs):\n",
        "\n",
        "  #######################################################\n",
        "  #################### ENTRENAMIENTO ####################\n",
        "  #######################################################\n",
        "\n",
        "  # Colocamos algunos comentarios que nos sirven de guía\n",
        "  print(\"\")\n",
        "  print(\"======= Época {:} / {:} ======\".format(epoch + 1, epochs))\n",
        "  print(\"Entrenando...\")\n",
        "\n",
        "  # Ponemos nuestro modelo en modo train\n",
        "  modelo.train()\n",
        "\n",
        "  # Repetimos el entrenamiento de arriba\n",
        "  for step, batch in enumerate(dataloader_entrenamiento):\n",
        "\n",
        "    # Cada optimización de cinco batches nos va a avisar\n",
        "    if step % 5 == 0 and not step == 0:\n",
        "      print('  Batch {:>5,}  de  {:>5,}.'.format(step, len(dataloader_entrenamiento)))\n",
        "\n",
        "    \n",
        "    b_input_ids = batch[0].to(device)\n",
        "    b_input_masks = batch[1].to(device)\n",
        "    b_input_etiquetas = batch[2].to(device)\n",
        "\n",
        "    modelo.zero_grad()\n",
        "\n",
        "    outputs = modelo(input_ids = b_input_ids,\n",
        "                            attention_mask = b_input_masks,\n",
        "                            labels = b_input_etiquetas)\n",
        "    \n",
        "    perdida_entrenamiento_total += outputs.loss.item()\n",
        "    outputs.loss.backward()\n",
        "    torch.nn.utils.clip_grad_norm_(modelo.parameters(), 1.0)\n",
        "    optimizer.step()\n",
        "    scheduler.step()\n",
        "\n",
        "  perdida_entrenamiento_promedio = perdida_entrenamiento_total / len(dataloader_entrenamiento)\n",
        "\n",
        "  # Avisamos cual fue la pérdida promedio del entrenamiento\n",
        "  print(\"  Pérdida promedio en entrenamiento: {}\".format(perdida_entrenamiento_promedio))\n",
        "\n",
        "\n",
        "\n",
        "  #######################################################\n",
        "  #################### VALIDACIÓN #######################\n",
        "  #######################################################\n",
        "  print(\"\")\n",
        "  print(\"Validando...\")\n",
        "\n",
        "  # Seguimos los pasos de lo que ya hicimos arriba; nada nuevo\n",
        "  accuracy_validacion_total = 0\n",
        "  perdida_validacion_total = 0\n",
        "\n",
        "  for batch in dataloader_validacion:\n",
        "  \n",
        "    b_input_ids = batch[0].to(device)\n",
        "    b_input_masks = batch[1].to(device)\n",
        "    b_input_etiquetas = batch[2].to(device)\n",
        "\n",
        "    with torch.no_grad():\n",
        "      outputs = modelo(input_ids = b_input_ids,\n",
        "                              attention_mask = b_input_masks,\n",
        "                              labels = b_input_etiquetas)\n",
        "      \n",
        "    perdida_validacion_total += outputs.loss.item()\n",
        "\n",
        "    logits = outputs.logits.detach().cpu().numpy()\n",
        "    label_ids = b_input_etiquetas.to('cpu').numpy()\n",
        "\n",
        "    accuracy_validacion_total += accuracy(logits, label_ids)\n",
        "  \n",
        "  accuracy_validacion_promedio = accuracy_validacion_total / len(dataloader_validacion)\n",
        "  print(\"  Accuracy: {0:.2f}\".format(accuracy_validacion_promedio))\n",
        "\n",
        "  perdida_validacion_promedio = perdida_validacion_total / len(dataloader_validacion)\n",
        "\n",
        "\n",
        "  print(\"  Validation Loss: {0:.2f}\".format(perdida_validacion_promedio))\n",
        "\n",
        "  # Solo tenemos como nuevo que vamos a guardar nuestros resultados\n",
        "  # de cada época dentre de nuestra lista entrenamiento_stats. Es bueno \n",
        "  # para referencia\n",
        "  entrenamiento_stats.append(\n",
        "      {\n",
        "          # Normalmente sería epoch +1 pero arriba ya hicimos un loop de\n",
        "          # entrenamiento\n",
        "          'epoch': epoch + 2,\n",
        "          'Training Loss': perdida_entrenamiento_promedio,\n",
        "          'Valid. Loss': perdida_validacion_promedio,\n",
        "          'Valid. Accur.': accuracy_validacion_promedio,\n",
        "      }\n",
        "  )\n"
      ],
      "execution_count": 68,
      "outputs": [
        {
          "output_type": "stream",
          "name": "stdout",
          "text": [
            "\n",
            "======= Época 1 / 2 ======\n",
            "Entrenando...\n",
            "  Batch     5  de     68.\n",
            "  Batch    10  de     68.\n",
            "  Batch    15  de     68.\n",
            "  Batch    20  de     68.\n",
            "  Batch    25  de     68.\n",
            "  Batch    30  de     68.\n",
            "  Batch    35  de     68.\n",
            "  Batch    40  de     68.\n",
            "  Batch    45  de     68.\n",
            "  Batch    50  de     68.\n",
            "  Batch    55  de     68.\n",
            "  Batch    60  de     68.\n",
            "  Batch    65  de     68.\n",
            "  Pérdida promedio en entrenamiento: 1.335978234077201\n",
            "\n",
            "Validando...\n",
            "  Accuracy: 0.72\n",
            "  Validation Loss: 0.75\n",
            "\n",
            "======= Época 2 / 2 ======\n",
            "Entrenando...\n",
            "  Batch     5  de     68.\n",
            "  Batch    10  de     68.\n",
            "  Batch    15  de     68.\n",
            "  Batch    20  de     68.\n",
            "  Batch    25  de     68.\n",
            "  Batch    30  de     68.\n",
            "  Batch    35  de     68.\n",
            "  Batch    40  de     68.\n",
            "  Batch    45  de     68.\n",
            "  Batch    50  de     68.\n",
            "  Batch    55  de     68.\n",
            "  Batch    60  de     68.\n",
            "  Batch    65  de     68.\n",
            "  Pérdida promedio en entrenamiento: 1.722729148233638\n",
            "\n",
            "Validando...\n",
            "  Accuracy: 0.73\n",
            "  Validation Loss: 0.74\n"
          ]
        }
      ]
    },
    {
      "cell_type": "markdown",
      "metadata": {
        "id": "_FJbmQs9ft9o"
      },
      "source": [
        "Usaremos nuestra lista entrenamiento_stats para crear un DataFrame de pandas. Así 1) veremos más claramente nuestros resultados y 2) podemos graficar."
      ]
    },
    {
      "cell_type": "code",
      "metadata": {
        "id": "TPVmEhv1ck5l",
        "colab": {
          "base_uri": "https://localhost:8080/",
          "height": 172
        },
        "outputId": "c143a184-6b91-4485-b798-bd85f6d86353"
      },
      "source": [
        "import pandas as pd\n",
        "\n",
        "# Queremos que los DataFrames de pandas tengan solo dos décimales\n",
        "pd.set_option('precision', 2)\n",
        "\n",
        "# Creamos el DaraFrame\n",
        "df_stats = pd.DataFrame(data=entrenamiento_stats)\n",
        "\n",
        "# La época funcionará como nuestro índice\n",
        "df_stats = df_stats.set_index('epoch')\n",
        "\n",
        "# Display the table.\n",
        "df_stats"
      ],
      "execution_count": 69,
      "outputs": [
        {
          "output_type": "execute_result",
          "data": {
            "text/html": [
              "\n",
              "  <div id=\"df-8f2e308c-d813-47da-a5bd-3c31cb158695\">\n",
              "    <div class=\"colab-df-container\">\n",
              "      <div>\n",
              "<style scoped>\n",
              "    .dataframe tbody tr th:only-of-type {\n",
              "        vertical-align: middle;\n",
              "    }\n",
              "\n",
              "    .dataframe tbody tr th {\n",
              "        vertical-align: top;\n",
              "    }\n",
              "\n",
              "    .dataframe thead th {\n",
              "        text-align: right;\n",
              "    }\n",
              "</style>\n",
              "<table border=\"1\" class=\"dataframe\">\n",
              "  <thead>\n",
              "    <tr style=\"text-align: right;\">\n",
              "      <th></th>\n",
              "      <th>Training Loss</th>\n",
              "      <th>Valid. Loss</th>\n",
              "      <th>Valid. Accur.</th>\n",
              "    </tr>\n",
              "    <tr>\n",
              "      <th>epoch</th>\n",
              "      <th></th>\n",
              "      <th></th>\n",
              "      <th></th>\n",
              "    </tr>\n",
              "  </thead>\n",
              "  <tbody>\n",
              "    <tr>\n",
              "      <th>1</th>\n",
              "      <td>0.80</td>\n",
              "      <td>0.73</td>\n",
              "      <td>0.72</td>\n",
              "    </tr>\n",
              "    <tr>\n",
              "      <th>2</th>\n",
              "      <td>1.34</td>\n",
              "      <td>0.75</td>\n",
              "      <td>0.72</td>\n",
              "    </tr>\n",
              "    <tr>\n",
              "      <th>3</th>\n",
              "      <td>1.72</td>\n",
              "      <td>0.74</td>\n",
              "      <td>0.73</td>\n",
              "    </tr>\n",
              "  </tbody>\n",
              "</table>\n",
              "</div>\n",
              "      <button class=\"colab-df-convert\" onclick=\"convertToInteractive('df-8f2e308c-d813-47da-a5bd-3c31cb158695')\"\n",
              "              title=\"Convert this dataframe to an interactive table.\"\n",
              "              style=\"display:none;\">\n",
              "        \n",
              "  <svg xmlns=\"http://www.w3.org/2000/svg\" height=\"24px\"viewBox=\"0 0 24 24\"\n",
              "       width=\"24px\">\n",
              "    <path d=\"M0 0h24v24H0V0z\" fill=\"none\"/>\n",
              "    <path d=\"M18.56 5.44l.94 2.06.94-2.06 2.06-.94-2.06-.94-.94-2.06-.94 2.06-2.06.94zm-11 1L8.5 8.5l.94-2.06 2.06-.94-2.06-.94L8.5 2.5l-.94 2.06-2.06.94zm10 10l.94 2.06.94-2.06 2.06-.94-2.06-.94-.94-2.06-.94 2.06-2.06.94z\"/><path d=\"M17.41 7.96l-1.37-1.37c-.4-.4-.92-.59-1.43-.59-.52 0-1.04.2-1.43.59L10.3 9.45l-7.72 7.72c-.78.78-.78 2.05 0 2.83L4 21.41c.39.39.9.59 1.41.59.51 0 1.02-.2 1.41-.59l7.78-7.78 2.81-2.81c.8-.78.8-2.07 0-2.86zM5.41 20L4 18.59l7.72-7.72 1.47 1.35L5.41 20z\"/>\n",
              "  </svg>\n",
              "      </button>\n",
              "      \n",
              "  <style>\n",
              "    .colab-df-container {\n",
              "      display:flex;\n",
              "      flex-wrap:wrap;\n",
              "      gap: 12px;\n",
              "    }\n",
              "\n",
              "    .colab-df-convert {\n",
              "      background-color: #E8F0FE;\n",
              "      border: none;\n",
              "      border-radius: 50%;\n",
              "      cursor: pointer;\n",
              "      display: none;\n",
              "      fill: #1967D2;\n",
              "      height: 32px;\n",
              "      padding: 0 0 0 0;\n",
              "      width: 32px;\n",
              "    }\n",
              "\n",
              "    .colab-df-convert:hover {\n",
              "      background-color: #E2EBFA;\n",
              "      box-shadow: 0px 1px 2px rgba(60, 64, 67, 0.3), 0px 1px 3px 1px rgba(60, 64, 67, 0.15);\n",
              "      fill: #174EA6;\n",
              "    }\n",
              "\n",
              "    [theme=dark] .colab-df-convert {\n",
              "      background-color: #3B4455;\n",
              "      fill: #D2E3FC;\n",
              "    }\n",
              "\n",
              "    [theme=dark] .colab-df-convert:hover {\n",
              "      background-color: #434B5C;\n",
              "      box-shadow: 0px 1px 3px 1px rgba(0, 0, 0, 0.15);\n",
              "      filter: drop-shadow(0px 1px 2px rgba(0, 0, 0, 0.3));\n",
              "      fill: #FFFFFF;\n",
              "    }\n",
              "  </style>\n",
              "\n",
              "      <script>\n",
              "        const buttonEl =\n",
              "          document.querySelector('#df-8f2e308c-d813-47da-a5bd-3c31cb158695 button.colab-df-convert');\n",
              "        buttonEl.style.display =\n",
              "          google.colab.kernel.accessAllowed ? 'block' : 'none';\n",
              "\n",
              "        async function convertToInteractive(key) {\n",
              "          const element = document.querySelector('#df-8f2e308c-d813-47da-a5bd-3c31cb158695');\n",
              "          const dataTable =\n",
              "            await google.colab.kernel.invokeFunction('convertToInteractive',\n",
              "                                                     [key], {});\n",
              "          if (!dataTable) return;\n",
              "\n",
              "          const docLinkHtml = 'Like what you see? Visit the ' +\n",
              "            '<a target=\"_blank\" href=https://colab.research.google.com/notebooks/data_table.ipynb>data table notebook</a>'\n",
              "            + ' to learn more about interactive tables.';\n",
              "          element.innerHTML = '';\n",
              "          dataTable['output_type'] = 'display_data';\n",
              "          await google.colab.output.renderOutput(dataTable, element);\n",
              "          const docLink = document.createElement('div');\n",
              "          docLink.innerHTML = docLinkHtml;\n",
              "          element.appendChild(docLink);\n",
              "        }\n",
              "      </script>\n",
              "    </div>\n",
              "  </div>\n",
              "  "
            ],
            "text/plain": [
              "       Training Loss  Valid. Loss  Valid. Accur.\n",
              "epoch                                           \n",
              "1               0.80         0.73           0.72\n",
              "2               1.34         0.75           0.72\n",
              "3               1.72         0.74           0.73"
            ]
          },
          "metadata": {},
          "execution_count": 69
        }
      ]
    },
    {
      "cell_type": "markdown",
      "metadata": {
        "id": "GhPz7cexGmPa"
      },
      "source": [
        "Guardamos con las mejores prácticas de HuggingFace."
      ]
    },
    {
      "cell_type": "code",
      "source": [
        "from huggingface_hub import notebook_login\n",
        "\n",
        "notebook_login()"
      ],
      "metadata": {
        "id": "lqdHCPXFa4tG",
        "outputId": "885ab018-ce72-4777-f645-a8ac7758a8ba",
        "colab": {
          "base_uri": "https://localhost:8080/",
          "height": 413,
          "referenced_widgets": [
            "a6eaec77f25b4bfb8212521de1dfa059",
            "afdcb5ba779f483cb561c7672430c23a",
            "33d504fe0b4f4225924b0de53ab60167",
            "e80f3efe954e4c09a3b9c76acbdb9b65",
            "c86f1d7120694a48acd6675dca99818e",
            "3f3a92dd40904984b09640cb374259d7",
            "d15234b5c54543869913f6d11488eb4e",
            "f4671bbe5e1546d5ba4e5b032da61aa1",
            "af7a86ed71754d2f80edc72cce86721a",
            "172b032f606c4f619394378fbf152937",
            "027ad624cdab46d1aa75bc42c41045fe",
            "314d1534111a4cbd850180988020cf46",
            "d416dcb3aa4e4f3786613b15584780d9",
            "9b9b02dbcb204cfa925043952c6d6fe2",
            "e79dcf030e944d119749b04af8a103b8",
            "ae94762058494c02b5f500deb248b466",
            "615362794192423cb38302be72ec0230"
          ]
        }
      },
      "execution_count": 75,
      "outputs": [
        {
          "output_type": "stream",
          "name": "stdout",
          "text": [
            "Login successful\n",
            "Your token has been saved to /root/.huggingface/token\n",
            "\u001b[1m\u001b[31mAuthenticated through git-credential store but this isn't the helper defined on your machine.\n",
            "You might have to re-authenticate when pushing to the Hugging Face Hub. Run the following command in your terminal in case you want to set this credential helper as the default\n",
            "\n",
            "git config --global credential.helper store\u001b[0m\n"
          ]
        }
      ]
    },
    {
      "cell_type": "code",
      "source": [
        "%%capture\n",
        "!sudo apt-get install git-lfs"
      ],
      "metadata": {
        "id": "R_oqPYKScf6j"
      },
      "execution_count": null,
      "outputs": []
    },
    {
      "cell_type": "code",
      "source": [
        "hub_model_id = \"BETO_Clasificar_Tweets_Mexicano\"\n",
        "modelo.push_to_hub(hub_model_id)"
      ],
      "metadata": {
        "id": "ZyrY59e6bzNc",
        "outputId": "d84ffb84-bf5b-4725-eb58-1aca1ef107f4",
        "colab": {
          "base_uri": "https://localhost:8080/",
          "height": 207,
          "referenced_widgets": [
            "bddfac9657804a3797464ed4a9fad24d",
            "567e1ff8a0ed459a9f9989d3136b3781",
            "370896f5756b4ab5bbda49dd8d51039d",
            "06c0688987614993985e7d1fb7fc1fd5",
            "c414fd693a4c460a814416b979835e44",
            "b01ddbbf25114bba96e5a6350e1c7392",
            "5911d099faed41828605ed2b366933ed",
            "b83f2bc0f0924c0ca239e75c3d88c1bd",
            "527ffdbcc1bd479dafb3e2f8c774617a",
            "e93df4b3c29848299e365f78b7003e06",
            "804aed27c6894f44aa47a5efcd78f90a"
          ]
        }
      },
      "execution_count": 82,
      "outputs": [
        {
          "output_type": "stream",
          "name": "stderr",
          "text": [
            "/usr/local/lib/python3.7/dist-packages/huggingface_hub/hf_api.py:1004: FutureWarning: `create_repo` now takes `token` as an optional positional argument. Be sure to adapt your code!\n",
            "  FutureWarning,\n",
            "Cloning https://huggingface.co/espejelomar/BETO_Clasificar_Tweets_Mexicano into local empty directory.\n"
          ]
        },
        {
          "output_type": "display_data",
          "data": {
            "application/vnd.jupyter.widget-view+json": {
              "model_id": "bddfac9657804a3797464ed4a9fad24d",
              "version_minor": 0,
              "version_major": 2
            },
            "text/plain": [
              "Upload file pytorch_model.bin:   0%|          | 3.37k/419M [00:00<?, ?B/s]"
            ]
          },
          "metadata": {}
        },
        {
          "output_type": "stream",
          "name": "stderr",
          "text": [
            "To https://huggingface.co/espejelomar/BETO_Clasificar_Tweets_Mexicano\n",
            "   4c2c938..902f0f3  main -> main\n",
            "\n"
          ]
        },
        {
          "output_type": "execute_result",
          "data": {
            "application/vnd.google.colaboratory.intrinsic+json": {
              "type": "string"
            },
            "text/plain": [
              "'https://huggingface.co/espejelomar/BETO_Clasificar_Tweets_Mexicano/commit/902f0f360f142a0e44810138f36f97dff50fbd07'"
            ]
          },
          "metadata": {},
          "execution_count": 82
        }
      ]
    },
    {
      "cell_type": "code",
      "source": [
        "tokenizer_español.push_to_hub(hub_model_id)"
      ],
      "metadata": {
        "id": "Z-8KmF7GcOLD",
        "outputId": "1332b4ff-28db-4c3b-8ec5-fd21f105535f",
        "colab": {
          "base_uri": "https://localhost:8080/",
          "height": 103
        }
      },
      "execution_count": 83,
      "outputs": [
        {
          "output_type": "stream",
          "name": "stderr",
          "text": [
            "To https://huggingface.co/espejelomar/BETO_Clasificar_Tweets_Mexicano\n",
            "   902f0f3..76b10cd  main -> main\n",
            "\n"
          ]
        },
        {
          "output_type": "execute_result",
          "data": {
            "application/vnd.google.colaboratory.intrinsic+json": {
              "type": "string"
            },
            "text/plain": [
              "'https://huggingface.co/espejelomar/BETO_Clasificar_Tweets_Mexicano/commit/76b10cdd268c03b4882f4ce6a65b5b2bbb77c1c8'"
            ]
          },
          "metadata": {},
          "execution_count": 83
        }
      ]
    }
  ]
}