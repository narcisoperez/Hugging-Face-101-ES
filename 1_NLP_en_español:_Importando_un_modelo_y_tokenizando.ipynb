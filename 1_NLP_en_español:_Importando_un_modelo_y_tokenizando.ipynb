{
  "nbformat": 4,
  "nbformat_minor": 0,
  "metadata": {
    "colab": {
      "name": "BETO_01_Importación_y_tokenizing.ipynb",
      "provenance": [],
      "collapsed_sections": [],
      "authorship_tag": "ABX9TyPiahwCRL5pOePnM4Yhfxrw",
      "include_colab_link": true
    },
    "kernelspec": {
      "name": "python3",
      "display_name": "Python 3"
    },
    "accelerator": "GPU",
    "widgets": {
      "application/vnd.jupyter.widget-state+json": {
        "2cad5596e0564aa9a3b904b7fa509f86": {
          "model_module": "@jupyter-widgets/controls",
          "model_name": "HBoxModel",
          "model_module_version": "1.5.0",
          "state": {
            "_view_name": "HBoxView",
            "_dom_classes": [],
            "_model_name": "HBoxModel",
            "_view_module": "@jupyter-widgets/controls",
            "_model_module_version": "1.5.0",
            "_view_count": null,
            "_view_module_version": "1.5.0",
            "box_style": "",
            "layout": "IPY_MODEL_b03632d2b45a433895f8fbac356c13b1",
            "_model_module": "@jupyter-widgets/controls",
            "children": [
              "IPY_MODEL_d97f1d5b9bb14437b4e12042dea6a611",
              "IPY_MODEL_30c0e08d86d641898f1bc6b4e34540f1",
              "IPY_MODEL_093bea9b14944f75a8f9009050767f23"
            ]
          }
        },
        "b03632d2b45a433895f8fbac356c13b1": {
          "model_module": "@jupyter-widgets/base",
          "model_name": "LayoutModel",
          "model_module_version": "1.2.0",
          "state": {
            "_view_name": "LayoutView",
            "grid_template_rows": null,
            "right": null,
            "justify_content": null,
            "_view_module": "@jupyter-widgets/base",
            "overflow": null,
            "_model_module_version": "1.2.0",
            "_view_count": null,
            "flex_flow": null,
            "width": null,
            "min_width": null,
            "border": null,
            "align_items": null,
            "bottom": null,
            "_model_module": "@jupyter-widgets/base",
            "top": null,
            "grid_column": null,
            "overflow_y": null,
            "overflow_x": null,
            "grid_auto_flow": null,
            "grid_area": null,
            "grid_template_columns": null,
            "flex": null,
            "_model_name": "LayoutModel",
            "justify_items": null,
            "grid_row": null,
            "max_height": null,
            "align_content": null,
            "visibility": null,
            "align_self": null,
            "height": null,
            "min_height": null,
            "padding": null,
            "grid_auto_rows": null,
            "grid_gap": null,
            "max_width": null,
            "order": null,
            "_view_module_version": "1.2.0",
            "grid_template_areas": null,
            "object_position": null,
            "object_fit": null,
            "grid_auto_columns": null,
            "margin": null,
            "display": null,
            "left": null
          }
        },
        "d97f1d5b9bb14437b4e12042dea6a611": {
          "model_module": "@jupyter-widgets/controls",
          "model_name": "HTMLModel",
          "model_module_version": "1.5.0",
          "state": {
            "_view_name": "HTMLView",
            "style": "IPY_MODEL_ce3c854a09224301a29e9052282a2d85",
            "_dom_classes": [],
            "description": "",
            "_model_name": "HTMLModel",
            "placeholder": "​",
            "_view_module": "@jupyter-widgets/controls",
            "_model_module_version": "1.5.0",
            "value": "Downloading: 100%",
            "_view_count": null,
            "_view_module_version": "1.5.0",
            "description_tooltip": null,
            "_model_module": "@jupyter-widgets/controls",
            "layout": "IPY_MODEL_1a6555cae7ef45e9aa8d11ef34ea17ea"
          }
        },
        "30c0e08d86d641898f1bc6b4e34540f1": {
          "model_module": "@jupyter-widgets/controls",
          "model_name": "FloatProgressModel",
          "model_module_version": "1.5.0",
          "state": {
            "_view_name": "ProgressView",
            "style": "IPY_MODEL_9de2cfd3bee04f5a9e70420303510eaa",
            "_dom_classes": [],
            "description": "",
            "_model_name": "FloatProgressModel",
            "bar_style": "success",
            "max": 49,
            "_view_module": "@jupyter-widgets/controls",
            "_model_module_version": "1.5.0",
            "value": 49,
            "_view_count": null,
            "_view_module_version": "1.5.0",
            "orientation": "horizontal",
            "min": 0,
            "description_tooltip": null,
            "_model_module": "@jupyter-widgets/controls",
            "layout": "IPY_MODEL_8a7455bc521543fc942b0ae7553c2ac8"
          }
        },
        "093bea9b14944f75a8f9009050767f23": {
          "model_module": "@jupyter-widgets/controls",
          "model_name": "HTMLModel",
          "model_module_version": "1.5.0",
          "state": {
            "_view_name": "HTMLView",
            "style": "IPY_MODEL_944632a6a03f4986a01d4fed7d8567cc",
            "_dom_classes": [],
            "description": "",
            "_model_name": "HTMLModel",
            "placeholder": "​",
            "_view_module": "@jupyter-widgets/controls",
            "_model_module_version": "1.5.0",
            "value": " 49.0/49.0 [00:00&lt;00:00, 1.15kB/s]",
            "_view_count": null,
            "_view_module_version": "1.5.0",
            "description_tooltip": null,
            "_model_module": "@jupyter-widgets/controls",
            "layout": "IPY_MODEL_dc60cc41a4a340ac96d169213e6a4171"
          }
        },
        "ce3c854a09224301a29e9052282a2d85": {
          "model_module": "@jupyter-widgets/controls",
          "model_name": "DescriptionStyleModel",
          "model_module_version": "1.5.0",
          "state": {
            "_view_name": "StyleView",
            "_model_name": "DescriptionStyleModel",
            "description_width": "",
            "_view_module": "@jupyter-widgets/base",
            "_model_module_version": "1.5.0",
            "_view_count": null,
            "_view_module_version": "1.2.0",
            "_model_module": "@jupyter-widgets/controls"
          }
        },
        "1a6555cae7ef45e9aa8d11ef34ea17ea": {
          "model_module": "@jupyter-widgets/base",
          "model_name": "LayoutModel",
          "model_module_version": "1.2.0",
          "state": {
            "_view_name": "LayoutView",
            "grid_template_rows": null,
            "right": null,
            "justify_content": null,
            "_view_module": "@jupyter-widgets/base",
            "overflow": null,
            "_model_module_version": "1.2.0",
            "_view_count": null,
            "flex_flow": null,
            "width": null,
            "min_width": null,
            "border": null,
            "align_items": null,
            "bottom": null,
            "_model_module": "@jupyter-widgets/base",
            "top": null,
            "grid_column": null,
            "overflow_y": null,
            "overflow_x": null,
            "grid_auto_flow": null,
            "grid_area": null,
            "grid_template_columns": null,
            "flex": null,
            "_model_name": "LayoutModel",
            "justify_items": null,
            "grid_row": null,
            "max_height": null,
            "align_content": null,
            "visibility": null,
            "align_self": null,
            "height": null,
            "min_height": null,
            "padding": null,
            "grid_auto_rows": null,
            "grid_gap": null,
            "max_width": null,
            "order": null,
            "_view_module_version": "1.2.0",
            "grid_template_areas": null,
            "object_position": null,
            "object_fit": null,
            "grid_auto_columns": null,
            "margin": null,
            "display": null,
            "left": null
          }
        },
        "9de2cfd3bee04f5a9e70420303510eaa": {
          "model_module": "@jupyter-widgets/controls",
          "model_name": "ProgressStyleModel",
          "model_module_version": "1.5.0",
          "state": {
            "_view_name": "StyleView",
            "_model_name": "ProgressStyleModel",
            "description_width": "",
            "_view_module": "@jupyter-widgets/base",
            "_model_module_version": "1.5.0",
            "_view_count": null,
            "_view_module_version": "1.2.0",
            "bar_color": null,
            "_model_module": "@jupyter-widgets/controls"
          }
        },
        "8a7455bc521543fc942b0ae7553c2ac8": {
          "model_module": "@jupyter-widgets/base",
          "model_name": "LayoutModel",
          "model_module_version": "1.2.0",
          "state": {
            "_view_name": "LayoutView",
            "grid_template_rows": null,
            "right": null,
            "justify_content": null,
            "_view_module": "@jupyter-widgets/base",
            "overflow": null,
            "_model_module_version": "1.2.0",
            "_view_count": null,
            "flex_flow": null,
            "width": null,
            "min_width": null,
            "border": null,
            "align_items": null,
            "bottom": null,
            "_model_module": "@jupyter-widgets/base",
            "top": null,
            "grid_column": null,
            "overflow_y": null,
            "overflow_x": null,
            "grid_auto_flow": null,
            "grid_area": null,
            "grid_template_columns": null,
            "flex": null,
            "_model_name": "LayoutModel",
            "justify_items": null,
            "grid_row": null,
            "max_height": null,
            "align_content": null,
            "visibility": null,
            "align_self": null,
            "height": null,
            "min_height": null,
            "padding": null,
            "grid_auto_rows": null,
            "grid_gap": null,
            "max_width": null,
            "order": null,
            "_view_module_version": "1.2.0",
            "grid_template_areas": null,
            "object_position": null,
            "object_fit": null,
            "grid_auto_columns": null,
            "margin": null,
            "display": null,
            "left": null
          }
        },
        "944632a6a03f4986a01d4fed7d8567cc": {
          "model_module": "@jupyter-widgets/controls",
          "model_name": "DescriptionStyleModel",
          "model_module_version": "1.5.0",
          "state": {
            "_view_name": "StyleView",
            "_model_name": "DescriptionStyleModel",
            "description_width": "",
            "_view_module": "@jupyter-widgets/base",
            "_model_module_version": "1.5.0",
            "_view_count": null,
            "_view_module_version": "1.2.0",
            "_model_module": "@jupyter-widgets/controls"
          }
        },
        "dc60cc41a4a340ac96d169213e6a4171": {
          "model_module": "@jupyter-widgets/base",
          "model_name": "LayoutModel",
          "model_module_version": "1.2.0",
          "state": {
            "_view_name": "LayoutView",
            "grid_template_rows": null,
            "right": null,
            "justify_content": null,
            "_view_module": "@jupyter-widgets/base",
            "overflow": null,
            "_model_module_version": "1.2.0",
            "_view_count": null,
            "flex_flow": null,
            "width": null,
            "min_width": null,
            "border": null,
            "align_items": null,
            "bottom": null,
            "_model_module": "@jupyter-widgets/base",
            "top": null,
            "grid_column": null,
            "overflow_y": null,
            "overflow_x": null,
            "grid_auto_flow": null,
            "grid_area": null,
            "grid_template_columns": null,
            "flex": null,
            "_model_name": "LayoutModel",
            "justify_items": null,
            "grid_row": null,
            "max_height": null,
            "align_content": null,
            "visibility": null,
            "align_self": null,
            "height": null,
            "min_height": null,
            "padding": null,
            "grid_auto_rows": null,
            "grid_gap": null,
            "max_width": null,
            "order": null,
            "_view_module_version": "1.2.0",
            "grid_template_areas": null,
            "object_position": null,
            "object_fit": null,
            "grid_auto_columns": null,
            "margin": null,
            "display": null,
            "left": null
          }
        },
        "1eaaec71260344989d1b9e3a17238e97": {
          "model_module": "@jupyter-widgets/controls",
          "model_name": "HBoxModel",
          "model_module_version": "1.5.0",
          "state": {
            "_view_name": "HBoxView",
            "_dom_classes": [],
            "_model_name": "HBoxModel",
            "_view_module": "@jupyter-widgets/controls",
            "_model_module_version": "1.5.0",
            "_view_count": null,
            "_view_module_version": "1.5.0",
            "box_style": "",
            "layout": "IPY_MODEL_995414ca839949dd8be5ee9e9632a120",
            "_model_module": "@jupyter-widgets/controls",
            "children": [
              "IPY_MODEL_9263c88986d342d69d6ab0d4f7b2d139",
              "IPY_MODEL_1f3e916ed36c4d93ba510dee862d4f89",
              "IPY_MODEL_bd4fe767e2e34de9970e4d0391f86fa5"
            ]
          }
        },
        "995414ca839949dd8be5ee9e9632a120": {
          "model_module": "@jupyter-widgets/base",
          "model_name": "LayoutModel",
          "model_module_version": "1.2.0",
          "state": {
            "_view_name": "LayoutView",
            "grid_template_rows": null,
            "right": null,
            "justify_content": null,
            "_view_module": "@jupyter-widgets/base",
            "overflow": null,
            "_model_module_version": "1.2.0",
            "_view_count": null,
            "flex_flow": null,
            "width": null,
            "min_width": null,
            "border": null,
            "align_items": null,
            "bottom": null,
            "_model_module": "@jupyter-widgets/base",
            "top": null,
            "grid_column": null,
            "overflow_y": null,
            "overflow_x": null,
            "grid_auto_flow": null,
            "grid_area": null,
            "grid_template_columns": null,
            "flex": null,
            "_model_name": "LayoutModel",
            "justify_items": null,
            "grid_row": null,
            "max_height": null,
            "align_content": null,
            "visibility": null,
            "align_self": null,
            "height": null,
            "min_height": null,
            "padding": null,
            "grid_auto_rows": null,
            "grid_gap": null,
            "max_width": null,
            "order": null,
            "_view_module_version": "1.2.0",
            "grid_template_areas": null,
            "object_position": null,
            "object_fit": null,
            "grid_auto_columns": null,
            "margin": null,
            "display": null,
            "left": null
          }
        },
        "9263c88986d342d69d6ab0d4f7b2d139": {
          "model_module": "@jupyter-widgets/controls",
          "model_name": "HTMLModel",
          "model_module_version": "1.5.0",
          "state": {
            "_view_name": "HTMLView",
            "style": "IPY_MODEL_291d012ef60b47ca976852f123a3955d",
            "_dom_classes": [],
            "description": "",
            "_model_name": "HTMLModel",
            "placeholder": "​",
            "_view_module": "@jupyter-widgets/controls",
            "_model_module_version": "1.5.0",
            "value": "Downloading: 100%",
            "_view_count": null,
            "_view_module_version": "1.5.0",
            "description_tooltip": null,
            "_model_module": "@jupyter-widgets/controls",
            "layout": "IPY_MODEL_9a1e26894210405f83c7a2b97ecd39a7"
          }
        },
        "1f3e916ed36c4d93ba510dee862d4f89": {
          "model_module": "@jupyter-widgets/controls",
          "model_name": "FloatProgressModel",
          "model_module_version": "1.5.0",
          "state": {
            "_view_name": "ProgressView",
            "style": "IPY_MODEL_42b91fad7f874e159c64d4a911291adf",
            "_dom_classes": [],
            "description": "",
            "_model_name": "FloatProgressModel",
            "bar_style": "success",
            "max": 173939,
            "_view_module": "@jupyter-widgets/controls",
            "_model_module_version": "1.5.0",
            "value": 173939,
            "_view_count": null,
            "_view_module_version": "1.5.0",
            "orientation": "horizontal",
            "min": 0,
            "description_tooltip": null,
            "_model_module": "@jupyter-widgets/controls",
            "layout": "IPY_MODEL_fd7d6eb0d8074e45bd89e3021fc1b3c1"
          }
        },
        "bd4fe767e2e34de9970e4d0391f86fa5": {
          "model_module": "@jupyter-widgets/controls",
          "model_name": "HTMLModel",
          "model_module_version": "1.5.0",
          "state": {
            "_view_name": "HTMLView",
            "style": "IPY_MODEL_8ce7fb4d121141ae87e0818d0267db70",
            "_dom_classes": [],
            "description": "",
            "_model_name": "HTMLModel",
            "placeholder": "​",
            "_view_module": "@jupyter-widgets/controls",
            "_model_module_version": "1.5.0",
            "value": " 170k/170k [00:00&lt;00:00, 734kB/s]",
            "_view_count": null,
            "_view_module_version": "1.5.0",
            "description_tooltip": null,
            "_model_module": "@jupyter-widgets/controls",
            "layout": "IPY_MODEL_97afc0425066448bb160899c9fec22f9"
          }
        },
        "291d012ef60b47ca976852f123a3955d": {
          "model_module": "@jupyter-widgets/controls",
          "model_name": "DescriptionStyleModel",
          "model_module_version": "1.5.0",
          "state": {
            "_view_name": "StyleView",
            "_model_name": "DescriptionStyleModel",
            "description_width": "",
            "_view_module": "@jupyter-widgets/base",
            "_model_module_version": "1.5.0",
            "_view_count": null,
            "_view_module_version": "1.2.0",
            "_model_module": "@jupyter-widgets/controls"
          }
        },
        "9a1e26894210405f83c7a2b97ecd39a7": {
          "model_module": "@jupyter-widgets/base",
          "model_name": "LayoutModel",
          "model_module_version": "1.2.0",
          "state": {
            "_view_name": "LayoutView",
            "grid_template_rows": null,
            "right": null,
            "justify_content": null,
            "_view_module": "@jupyter-widgets/base",
            "overflow": null,
            "_model_module_version": "1.2.0",
            "_view_count": null,
            "flex_flow": null,
            "width": null,
            "min_width": null,
            "border": null,
            "align_items": null,
            "bottom": null,
            "_model_module": "@jupyter-widgets/base",
            "top": null,
            "grid_column": null,
            "overflow_y": null,
            "overflow_x": null,
            "grid_auto_flow": null,
            "grid_area": null,
            "grid_template_columns": null,
            "flex": null,
            "_model_name": "LayoutModel",
            "justify_items": null,
            "grid_row": null,
            "max_height": null,
            "align_content": null,
            "visibility": null,
            "align_self": null,
            "height": null,
            "min_height": null,
            "padding": null,
            "grid_auto_rows": null,
            "grid_gap": null,
            "max_width": null,
            "order": null,
            "_view_module_version": "1.2.0",
            "grid_template_areas": null,
            "object_position": null,
            "object_fit": null,
            "grid_auto_columns": null,
            "margin": null,
            "display": null,
            "left": null
          }
        },
        "42b91fad7f874e159c64d4a911291adf": {
          "model_module": "@jupyter-widgets/controls",
          "model_name": "ProgressStyleModel",
          "model_module_version": "1.5.0",
          "state": {
            "_view_name": "StyleView",
            "_model_name": "ProgressStyleModel",
            "description_width": "",
            "_view_module": "@jupyter-widgets/base",
            "_model_module_version": "1.5.0",
            "_view_count": null,
            "_view_module_version": "1.2.0",
            "bar_color": null,
            "_model_module": "@jupyter-widgets/controls"
          }
        },
        "fd7d6eb0d8074e45bd89e3021fc1b3c1": {
          "model_module": "@jupyter-widgets/base",
          "model_name": "LayoutModel",
          "model_module_version": "1.2.0",
          "state": {
            "_view_name": "LayoutView",
            "grid_template_rows": null,
            "right": null,
            "justify_content": null,
            "_view_module": "@jupyter-widgets/base",
            "overflow": null,
            "_model_module_version": "1.2.0",
            "_view_count": null,
            "flex_flow": null,
            "width": null,
            "min_width": null,
            "border": null,
            "align_items": null,
            "bottom": null,
            "_model_module": "@jupyter-widgets/base",
            "top": null,
            "grid_column": null,
            "overflow_y": null,
            "overflow_x": null,
            "grid_auto_flow": null,
            "grid_area": null,
            "grid_template_columns": null,
            "flex": null,
            "_model_name": "LayoutModel",
            "justify_items": null,
            "grid_row": null,
            "max_height": null,
            "align_content": null,
            "visibility": null,
            "align_self": null,
            "height": null,
            "min_height": null,
            "padding": null,
            "grid_auto_rows": null,
            "grid_gap": null,
            "max_width": null,
            "order": null,
            "_view_module_version": "1.2.0",
            "grid_template_areas": null,
            "object_position": null,
            "object_fit": null,
            "grid_auto_columns": null,
            "margin": null,
            "display": null,
            "left": null
          }
        },
        "8ce7fb4d121141ae87e0818d0267db70": {
          "model_module": "@jupyter-widgets/controls",
          "model_name": "DescriptionStyleModel",
          "model_module_version": "1.5.0",
          "state": {
            "_view_name": "StyleView",
            "_model_name": "DescriptionStyleModel",
            "description_width": "",
            "_view_module": "@jupyter-widgets/base",
            "_model_module_version": "1.5.0",
            "_view_count": null,
            "_view_module_version": "1.2.0",
            "_model_module": "@jupyter-widgets/controls"
          }
        },
        "97afc0425066448bb160899c9fec22f9": {
          "model_module": "@jupyter-widgets/base",
          "model_name": "LayoutModel",
          "model_module_version": "1.2.0",
          "state": {
            "_view_name": "LayoutView",
            "grid_template_rows": null,
            "right": null,
            "justify_content": null,
            "_view_module": "@jupyter-widgets/base",
            "overflow": null,
            "_model_module_version": "1.2.0",
            "_view_count": null,
            "flex_flow": null,
            "width": null,
            "min_width": null,
            "border": null,
            "align_items": null,
            "bottom": null,
            "_model_module": "@jupyter-widgets/base",
            "top": null,
            "grid_column": null,
            "overflow_y": null,
            "overflow_x": null,
            "grid_auto_flow": null,
            "grid_area": null,
            "grid_template_columns": null,
            "flex": null,
            "_model_name": "LayoutModel",
            "justify_items": null,
            "grid_row": null,
            "max_height": null,
            "align_content": null,
            "visibility": null,
            "align_self": null,
            "height": null,
            "min_height": null,
            "padding": null,
            "grid_auto_rows": null,
            "grid_gap": null,
            "max_width": null,
            "order": null,
            "_view_module_version": "1.2.0",
            "grid_template_areas": null,
            "object_position": null,
            "object_fit": null,
            "grid_auto_columns": null,
            "margin": null,
            "display": null,
            "left": null
          }
        },
        "35c81717b8ab4eb8a60f74bb89f9b1b7": {
          "model_module": "@jupyter-widgets/controls",
          "model_name": "HBoxModel",
          "model_module_version": "1.5.0",
          "state": {
            "_view_name": "HBoxView",
            "_dom_classes": [],
            "_model_name": "HBoxModel",
            "_view_module": "@jupyter-widgets/controls",
            "_model_module_version": "1.5.0",
            "_view_count": null,
            "_view_module_version": "1.5.0",
            "box_style": "",
            "layout": "IPY_MODEL_6e8543777060456898b072129e61c502",
            "_model_module": "@jupyter-widgets/controls",
            "children": [
              "IPY_MODEL_33ec4c11db0b4e518fdac5dbfe0b1288",
              "IPY_MODEL_6f9c0a18747b4fdea96fb0a5e8e50cd3",
              "IPY_MODEL_58099e04bd4648dfbf9683b9aeb6ccd1"
            ]
          }
        },
        "6e8543777060456898b072129e61c502": {
          "model_module": "@jupyter-widgets/base",
          "model_name": "LayoutModel",
          "model_module_version": "1.2.0",
          "state": {
            "_view_name": "LayoutView",
            "grid_template_rows": null,
            "right": null,
            "justify_content": null,
            "_view_module": "@jupyter-widgets/base",
            "overflow": null,
            "_model_module_version": "1.2.0",
            "_view_count": null,
            "flex_flow": null,
            "width": null,
            "min_width": null,
            "border": null,
            "align_items": null,
            "bottom": null,
            "_model_module": "@jupyter-widgets/base",
            "top": null,
            "grid_column": null,
            "overflow_y": null,
            "overflow_x": null,
            "grid_auto_flow": null,
            "grid_area": null,
            "grid_template_columns": null,
            "flex": null,
            "_model_name": "LayoutModel",
            "justify_items": null,
            "grid_row": null,
            "max_height": null,
            "align_content": null,
            "visibility": null,
            "align_self": null,
            "height": null,
            "min_height": null,
            "padding": null,
            "grid_auto_rows": null,
            "grid_gap": null,
            "max_width": null,
            "order": null,
            "_view_module_version": "1.2.0",
            "grid_template_areas": null,
            "object_position": null,
            "object_fit": null,
            "grid_auto_columns": null,
            "margin": null,
            "display": null,
            "left": null
          }
        },
        "33ec4c11db0b4e518fdac5dbfe0b1288": {
          "model_module": "@jupyter-widgets/controls",
          "model_name": "HTMLModel",
          "model_module_version": "1.5.0",
          "state": {
            "_view_name": "HTMLView",
            "style": "IPY_MODEL_1f76e9aa1522496fa8b1b43d5dee7cfe",
            "_dom_classes": [],
            "description": "",
            "_model_name": "HTMLModel",
            "placeholder": "​",
            "_view_module": "@jupyter-widgets/controls",
            "_model_module_version": "1.5.0",
            "value": "Downloading: 100%",
            "_view_count": null,
            "_view_module_version": "1.5.0",
            "description_tooltip": null,
            "_model_module": "@jupyter-widgets/controls",
            "layout": "IPY_MODEL_c1889085b5904c4b832bf3678f1c3485"
          }
        },
        "6f9c0a18747b4fdea96fb0a5e8e50cd3": {
          "model_module": "@jupyter-widgets/controls",
          "model_name": "FloatProgressModel",
          "model_module_version": "1.5.0",
          "state": {
            "_view_name": "ProgressView",
            "style": "IPY_MODEL_1db9391c853d42b5bc437602aceec89d",
            "_dom_classes": [],
            "description": "",
            "_model_name": "FloatProgressModel",
            "bar_style": "success",
            "max": 557,
            "_view_module": "@jupyter-widgets/controls",
            "_model_module_version": "1.5.0",
            "value": 557,
            "_view_count": null,
            "_view_module_version": "1.5.0",
            "orientation": "horizontal",
            "min": 0,
            "description_tooltip": null,
            "_model_module": "@jupyter-widgets/controls",
            "layout": "IPY_MODEL_658424a0485844f2bfead94ed92a97eb"
          }
        },
        "58099e04bd4648dfbf9683b9aeb6ccd1": {
          "model_module": "@jupyter-widgets/controls",
          "model_name": "HTMLModel",
          "model_module_version": "1.5.0",
          "state": {
            "_view_name": "HTMLView",
            "style": "IPY_MODEL_aa00831b890147f7ab4cf3b761edf9ad",
            "_dom_classes": [],
            "description": "",
            "_model_name": "HTMLModel",
            "placeholder": "​",
            "_view_module": "@jupyter-widgets/controls",
            "_model_module_version": "1.5.0",
            "value": " 557/557 [00:00&lt;00:00, 4.30kB/s]",
            "_view_count": null,
            "_view_module_version": "1.5.0",
            "description_tooltip": null,
            "_model_module": "@jupyter-widgets/controls",
            "layout": "IPY_MODEL_06de5d51762d44a1a3b44881371dd1d5"
          }
        },
        "1f76e9aa1522496fa8b1b43d5dee7cfe": {
          "model_module": "@jupyter-widgets/controls",
          "model_name": "DescriptionStyleModel",
          "model_module_version": "1.5.0",
          "state": {
            "_view_name": "StyleView",
            "_model_name": "DescriptionStyleModel",
            "description_width": "",
            "_view_module": "@jupyter-widgets/base",
            "_model_module_version": "1.5.0",
            "_view_count": null,
            "_view_module_version": "1.2.0",
            "_model_module": "@jupyter-widgets/controls"
          }
        },
        "c1889085b5904c4b832bf3678f1c3485": {
          "model_module": "@jupyter-widgets/base",
          "model_name": "LayoutModel",
          "model_module_version": "1.2.0",
          "state": {
            "_view_name": "LayoutView",
            "grid_template_rows": null,
            "right": null,
            "justify_content": null,
            "_view_module": "@jupyter-widgets/base",
            "overflow": null,
            "_model_module_version": "1.2.0",
            "_view_count": null,
            "flex_flow": null,
            "width": null,
            "min_width": null,
            "border": null,
            "align_items": null,
            "bottom": null,
            "_model_module": "@jupyter-widgets/base",
            "top": null,
            "grid_column": null,
            "overflow_y": null,
            "overflow_x": null,
            "grid_auto_flow": null,
            "grid_area": null,
            "grid_template_columns": null,
            "flex": null,
            "_model_name": "LayoutModel",
            "justify_items": null,
            "grid_row": null,
            "max_height": null,
            "align_content": null,
            "visibility": null,
            "align_self": null,
            "height": null,
            "min_height": null,
            "padding": null,
            "grid_auto_rows": null,
            "grid_gap": null,
            "max_width": null,
            "order": null,
            "_view_module_version": "1.2.0",
            "grid_template_areas": null,
            "object_position": null,
            "object_fit": null,
            "grid_auto_columns": null,
            "margin": null,
            "display": null,
            "left": null
          }
        },
        "1db9391c853d42b5bc437602aceec89d": {
          "model_module": "@jupyter-widgets/controls",
          "model_name": "ProgressStyleModel",
          "model_module_version": "1.5.0",
          "state": {
            "_view_name": "StyleView",
            "_model_name": "ProgressStyleModel",
            "description_width": "",
            "_view_module": "@jupyter-widgets/base",
            "_model_module_version": "1.5.0",
            "_view_count": null,
            "_view_module_version": "1.2.0",
            "bar_color": null,
            "_model_module": "@jupyter-widgets/controls"
          }
        },
        "658424a0485844f2bfead94ed92a97eb": {
          "model_module": "@jupyter-widgets/base",
          "model_name": "LayoutModel",
          "model_module_version": "1.2.0",
          "state": {
            "_view_name": "LayoutView",
            "grid_template_rows": null,
            "right": null,
            "justify_content": null,
            "_view_module": "@jupyter-widgets/base",
            "overflow": null,
            "_model_module_version": "1.2.0",
            "_view_count": null,
            "flex_flow": null,
            "width": null,
            "min_width": null,
            "border": null,
            "align_items": null,
            "bottom": null,
            "_model_module": "@jupyter-widgets/base",
            "top": null,
            "grid_column": null,
            "overflow_y": null,
            "overflow_x": null,
            "grid_auto_flow": null,
            "grid_area": null,
            "grid_template_columns": null,
            "flex": null,
            "_model_name": "LayoutModel",
            "justify_items": null,
            "grid_row": null,
            "max_height": null,
            "align_content": null,
            "visibility": null,
            "align_self": null,
            "height": null,
            "min_height": null,
            "padding": null,
            "grid_auto_rows": null,
            "grid_gap": null,
            "max_width": null,
            "order": null,
            "_view_module_version": "1.2.0",
            "grid_template_areas": null,
            "object_position": null,
            "object_fit": null,
            "grid_auto_columns": null,
            "margin": null,
            "display": null,
            "left": null
          }
        },
        "aa00831b890147f7ab4cf3b761edf9ad": {
          "model_module": "@jupyter-widgets/controls",
          "model_name": "DescriptionStyleModel",
          "model_module_version": "1.5.0",
          "state": {
            "_view_name": "StyleView",
            "_model_name": "DescriptionStyleModel",
            "description_width": "",
            "_view_module": "@jupyter-widgets/base",
            "_model_module_version": "1.5.0",
            "_view_count": null,
            "_view_module_version": "1.2.0",
            "_model_module": "@jupyter-widgets/controls"
          }
        },
        "06de5d51762d44a1a3b44881371dd1d5": {
          "model_module": "@jupyter-widgets/base",
          "model_name": "LayoutModel",
          "model_module_version": "1.2.0",
          "state": {
            "_view_name": "LayoutView",
            "grid_template_rows": null,
            "right": null,
            "justify_content": null,
            "_view_module": "@jupyter-widgets/base",
            "overflow": null,
            "_model_module_version": "1.2.0",
            "_view_count": null,
            "flex_flow": null,
            "width": null,
            "min_width": null,
            "border": null,
            "align_items": null,
            "bottom": null,
            "_model_module": "@jupyter-widgets/base",
            "top": null,
            "grid_column": null,
            "overflow_y": null,
            "overflow_x": null,
            "grid_auto_flow": null,
            "grid_area": null,
            "grid_template_columns": null,
            "flex": null,
            "_model_name": "LayoutModel",
            "justify_items": null,
            "grid_row": null,
            "max_height": null,
            "align_content": null,
            "visibility": null,
            "align_self": null,
            "height": null,
            "min_height": null,
            "padding": null,
            "grid_auto_rows": null,
            "grid_gap": null,
            "max_width": null,
            "order": null,
            "_view_module_version": "1.2.0",
            "grid_template_areas": null,
            "object_position": null,
            "object_fit": null,
            "grid_auto_columns": null,
            "margin": null,
            "display": null,
            "left": null
          }
        }
      }
    }
  },
  "cells": [
    {
      "cell_type": "markdown",
      "metadata": {
        "id": "view-in-github",
        "colab_type": "text"
      },
      "source": [
        "<a href=\"https://colab.research.google.com/github/omarespejel/Hugging-Face-101-ES/blob/main/1_NLP_en_espa%C3%B1ol%3A_Importando_un_modelo_y_tokenizando.ipynb\" target=\"_parent\"><img src=\"https://colab.research.google.com/assets/colab-badge.svg\" alt=\"Open In Colab\"/></a>"
      ]
    },
    {
      "cell_type": "markdown",
      "metadata": {
        "id": "uTzN6DAmobi6"
      },
      "source": [
        "# 1. NLP en español: Importando un modelo y tokenizando\n",
        "por Omar U. Espejel (Twitter: [@espejelomar](https://twitter.com/espejelomar))"
      ]
    },
    {
      "cell_type": "markdown",
      "metadata": {
        "id": "eGc-979e6jzu"
      },
      "source": [
        "\n",
        "- Puedes escribirme vía Twitter en [@espejelomar](https://twitter.com/espejelomar?lang=en) 🐣. \n",
        "\n",
        "- Únete al [Discord de Hugging Face](https://t.co/1n75wi976V?amp=1).\n",
        "  \n",
        "- Checa el [diccionario inglés-español](https://www.notion.so/Ingl-s-para-la-programaci-n-bab11d9db5014f16b840bf8d22c23ac2) para programación."
      ]
    },
    {
      "cell_type": "markdown",
      "metadata": {
        "id": "mvf2lH6ZsOZB"
      },
      "source": [
        "El material aquí presente está inspirado por el modelo BETO originalmente en el [repositorio del Departamento de Ciencias de la Computación de la Universidad de Chile](https://github.com/dccuchile).\n"
      ]
    },
    {
      "cell_type": "markdown",
      "metadata": {
        "id": "___PFxSo1o55"
      },
      "source": [
        "## Instalación de BETO"
      ]
    },
    {
      "cell_type": "markdown",
      "metadata": {
        "id": "BRBRF6Ao0IRn"
      },
      "source": [
        "Primero instalamos BETO desde HuggingFace Hub. El repositorio con mayor cantidad de modelos open source."
      ]
    },
    {
      "cell_type": "code",
      "source": [
        "%%capture\n",
        "!pip install transformers"
      ],
      "metadata": {
        "id": "Rp3MHoJdDNMG"
      },
      "execution_count": 3,
      "outputs": []
    },
    {
      "cell_type": "code",
      "metadata": {
        "id": "xQX4zfzfdsDf"
      },
      "source": [
        "import torch\n",
        "from transformers import BertForMaskedLM, BertTokenizer"
      ],
      "execution_count": 4,
      "outputs": []
    },
    {
      "cell_type": "markdown",
      "metadata": {
        "id": "G_ailqHm1wGf"
      },
      "source": [
        "Observamos que en efecto los datos correspondientes a BETO se encuentran en la carpeta pytorch."
      ]
    },
    {
      "cell_type": "code",
      "source": [
        "!ls pytorch/"
      ],
      "metadata": {
        "colab": {
          "base_uri": "https://localhost:8080/"
        },
        "id": "z5X3bh0g_nFR",
        "outputId": "34e3b179-e104-4b7e-b562-c03a32b3aaef"
      },
      "execution_count": 5,
      "outputs": [
        {
          "output_type": "stream",
          "name": "stdout",
          "text": [
            "ls: cannot access 'pytorch/': No such file or directory\n"
          ]
        }
      ]
    },
    {
      "cell_type": "markdown",
      "metadata": {
        "id": "YWWTF23U24np"
      },
      "source": [
        "Si fueramos a utilizar el modelo BERT original, ya en la instalación de `transformers` que hicimos arriba, usaríamos el siguiente comando:"
      ]
    },
    {
      "cell_type": "code",
      "metadata": {
        "id": "vnZ3Qqbzf6rK"
      },
      "source": [
        "# tokenizer_ingles = BertTokenizer.from_pretrained('bert-base-cased')"
      ],
      "execution_count": 6,
      "outputs": []
    },
    {
      "cell_type": "markdown",
      "metadata": {
        "id": "qPnW0QY-3Fvc"
      },
      "source": [
        "Para utilizar BETO tenemos que importar los datos que deliberadamente guardamos en la carpeta pyorch de nuestro ambiente. El tokenizador lo dejamos con `do_lower_case` para que sí podamos aceptar palabras con mayúsculas."
      ]
    },
    {
      "cell_type": "code",
      "metadata": {
        "id": "lmwI3UYCdugq",
        "colab": {
          "base_uri": "https://localhost:8080/",
          "height": 185,
          "referenced_widgets": [
            "2cad5596e0564aa9a3b904b7fa509f86",
            "b03632d2b45a433895f8fbac356c13b1",
            "d97f1d5b9bb14437b4e12042dea6a611",
            "30c0e08d86d641898f1bc6b4e34540f1",
            "093bea9b14944f75a8f9009050767f23",
            "ce3c854a09224301a29e9052282a2d85",
            "1a6555cae7ef45e9aa8d11ef34ea17ea",
            "9de2cfd3bee04f5a9e70420303510eaa",
            "8a7455bc521543fc942b0ae7553c2ac8",
            "944632a6a03f4986a01d4fed7d8567cc",
            "dc60cc41a4a340ac96d169213e6a4171",
            "1eaaec71260344989d1b9e3a17238e97",
            "995414ca839949dd8be5ee9e9632a120",
            "9263c88986d342d69d6ab0d4f7b2d139",
            "1f3e916ed36c4d93ba510dee862d4f89",
            "bd4fe767e2e34de9970e4d0391f86fa5",
            "291d012ef60b47ca976852f123a3955d",
            "9a1e26894210405f83c7a2b97ecd39a7",
            "42b91fad7f874e159c64d4a911291adf",
            "fd7d6eb0d8074e45bd89e3021fc1b3c1",
            "8ce7fb4d121141ae87e0818d0267db70",
            "97afc0425066448bb160899c9fec22f9",
            "35c81717b8ab4eb8a60f74bb89f9b1b7",
            "6e8543777060456898b072129e61c502",
            "33ec4c11db0b4e518fdac5dbfe0b1288",
            "6f9c0a18747b4fdea96fb0a5e8e50cd3",
            "58099e04bd4648dfbf9683b9aeb6ccd1",
            "1f76e9aa1522496fa8b1b43d5dee7cfe",
            "c1889085b5904c4b832bf3678f1c3485",
            "1db9391c853d42b5bc437602aceec89d",
            "658424a0485844f2bfead94ed92a97eb",
            "aa00831b890147f7ab4cf3b761edf9ad",
            "06de5d51762d44a1a3b44881371dd1d5"
          ]
        },
        "outputId": "01564bb0-0300-46d3-e684-f7017909a8cf"
      },
      "source": [
        "tokenizer_español = BertTokenizer.from_pretrained(\"dccuchile/bert-base-spanish-wwm-cased\", do_lower_case=False)"
      ],
      "execution_count": 7,
      "outputs": [
        {
          "output_type": "display_data",
          "data": {
            "application/vnd.jupyter.widget-view+json": {
              "model_id": "2cad5596e0564aa9a3b904b7fa509f86",
              "version_minor": 0,
              "version_major": 2
            },
            "text/plain": [
              "Downloading:   0%|          | 0.00/49.0 [00:00<?, ?B/s]"
            ]
          },
          "metadata": {}
        },
        {
          "output_type": "display_data",
          "data": {
            "application/vnd.jupyter.widget-view+json": {
              "model_id": "1eaaec71260344989d1b9e3a17238e97",
              "version_minor": 0,
              "version_major": 2
            },
            "text/plain": [
              "Downloading:   0%|          | 0.00/170k [00:00<?, ?B/s]"
            ]
          },
          "metadata": {}
        },
        {
          "output_type": "display_data",
          "data": {
            "application/vnd.jupyter.widget-view+json": {
              "model_id": "35c81717b8ab4eb8a60f74bb89f9b1b7",
              "version_minor": 0,
              "version_major": 2
            },
            "text/plain": [
              "Downloading:   0%|          | 0.00/557 [00:00<?, ?B/s]"
            ]
          },
          "metadata": {}
        },
        {
          "output_type": "stream",
          "name": "stderr",
          "text": [
            "The tokenizer class you load from this checkpoint is not the same type as the class this function is called from. It may result in unexpected tokenization. \n",
            "The tokenizer class you load from this checkpoint is 'DistilBertTokenizer'. \n",
            "The class this function is called from is 'BertTokenizer'.\n"
          ]
        }
      ]
    },
    {
      "cell_type": "code",
      "metadata": {
        "colab": {
          "base_uri": "https://localhost:8080/"
        },
        "id": "TaJ-V4bDiP0n",
        "outputId": "14b74aef-642b-4c6a-9a55-3f9e8f6fbd8e"
      },
      "source": [
        "tokenizer_español"
      ],
      "execution_count": 8,
      "outputs": [
        {
          "output_type": "execute_result",
          "data": {
            "text/plain": [
              "PreTrainedTokenizer(name_or_path='Geotrend/distilbert-base-es-cased', vocab_size=26359, model_max_len=512, is_fast=False, padding_side='right', truncation_side='right', special_tokens={'unk_token': '[UNK]', 'sep_token': '[SEP]', 'pad_token': '[PAD]', 'cls_token': '[CLS]', 'mask_token': '[MASK]'})"
            ]
          },
          "metadata": {},
          "execution_count": 8
        }
      ]
    },
    {
      "cell_type": "code",
      "metadata": {
        "id": "VcAwwyWqhwuA"
      },
      "source": [
        "BertTokenizer??"
      ],
      "execution_count": 9,
      "outputs": []
    },
    {
      "cell_type": "markdown",
      "metadata": {
        "id": "So8fpq5t4vJS"
      },
      "source": [
        "Si observamos el vocabulario con el que BETO está pre-entrenado observamos:"
      ]
    },
    {
      "cell_type": "markdown",
      "metadata": {
        "id": "JuOM5E-TiAEj"
      },
      "source": [
        "\n",
        "\n",
        "*  Primeras 977 palabras están reservadas en la forma [unusedK] y [MASK], [PAD], [EOS], [UNK], [CLS], [SEP]. Las celdas unused son para que agreguemos vocabulario que puede ser específico para nuestra aplicación.\n",
        "* A partir del 978 vemos tokens para caracteres individuales, como números y letras.\n",
        "*   Poco a poco comienzan surgir tokens que individualmente pueden ser palabras. Están ordenadas por frecuencia.\n",
        "*   Hay palabras que pensaríamos no tan comunes en este contexto como \"verga\" e \"hincha\". ¿Cómo expresas la palabra verga en inglés? Por eso necesitamos nuestro propio vocabulario en español.\n",
        "*   Todo el tiempo también vemos las subpalabras que comienzan con #\n",
        "\n",
        "\n",
        "\n",
        "\n",
        "\n",
        "\n"
      ]
    },
    {
      "cell_type": "markdown",
      "metadata": {
        "id": "cVZb0qH6aq9-"
      },
      "source": [
        "## *Tokenizing* con BETO"
      ]
    },
    {
      "cell_type": "markdown",
      "metadata": {
        "id": "cipHYBkCc0Wh"
      },
      "source": [
        "Tokenizer en acción"
      ]
    },
    {
      "cell_type": "code",
      "metadata": {
        "id": "1L_vz1H8bJ_O"
      },
      "source": [
        "enunciado = \"BETO es clave para el desarrollo del NLP en América Latina.\""
      ],
      "execution_count": 10,
      "outputs": []
    },
    {
      "cell_type": "code",
      "metadata": {
        "id": "42VCsEFyb9BX",
        "colab": {
          "base_uri": "https://localhost:8080/"
        },
        "outputId": "6ba487ae-1a17-4e3e-d145-8fddcc268aac"
      },
      "source": [
        "print('Original: ', enunciado)\n",
        "print(\"Tokenizado: \", tokenizer_español.tokenize(enunciado))\n",
        "print('IDs: ', tokenizer_español.convert_tokens_to_ids(tokenizer_español.tokenize(enunciado)))"
      ],
      "execution_count": 11,
      "outputs": [
        {
          "output_type": "stream",
          "name": "stdout",
          "text": [
            "Original:  BETO es clave para el desarrollo del NLP en América Latina.\n",
            "Tokenizado:  ['BE', '##TO', 'es', 'clave', 'para', 'el', 'desarrollo', 'del', 'NL', '##P', 'en', 'América', 'Latina', '.']\n",
            "IDs:  [13047, 16755, 294, 15271, 315, 225, 5263, 227, 21292, 887, 211, 2733, 8293, 27]\n"
          ]
        }
      ]
    },
    {
      "cell_type": "markdown",
      "metadata": {
        "id": "yoWc2Px8dBPK"
      },
      "source": [
        "Es más rápido si usamos `tokenizer_español.encode()` para convertir el texto primero en tokens y luego en IDs.\n",
        "\n",
        "También se puede puede incluir el texto directamente en `tokenizer_español()` y nos retornará un diccionario en donde la *key* `input_ids` incluye los IDs que `tokenizer_español.encode()` también nos retornaría.\n",
        "\n",
        "\n",
        "\n",
        "\n",
        "\n"
      ]
    },
    {
      "cell_type": "code",
      "metadata": {
        "colab": {
          "base_uri": "https://localhost:8080/"
        },
        "id": "3Ln4KLhhjBKW",
        "outputId": "5c23c2f2-4e58-4e02-fbd0-1b3490e5f3c4"
      },
      "source": [
        "tokenizer_español(enunciado)['input_ids']"
      ],
      "execution_count": 12,
      "outputs": [
        {
          "output_type": "execute_result",
          "data": {
            "text/plain": [
              "[11,\n",
              " 13047,\n",
              " 16755,\n",
              " 294,\n",
              " 15271,\n",
              " 315,\n",
              " 225,\n",
              " 5263,\n",
              " 227,\n",
              " 21292,\n",
              " 887,\n",
              " 211,\n",
              " 2733,\n",
              " 8293,\n",
              " 27,\n",
              " 12]"
            ]
          },
          "metadata": {},
          "execution_count": 12
        }
      ]
    },
    {
      "cell_type": "code",
      "metadata": {
        "colab": {
          "base_uri": "https://localhost:8080/"
        },
        "id": "JdNRj8XtGDTw",
        "outputId": "933f5645-f00d-49b9-adcd-84893a64da7a"
      },
      "source": [
        "print(f'Este es el resultado de usar tokenizer_español.encode: {tokenizer_español.encode(enunciado)}\\n')\n",
        "print(f'Este es el resultado de usar solo tokenizer_español: {tokenizer_español(enunciado)[\"input_ids\"]}\\n')\n",
        "print('Es exactamente lo mismo!!')"
      ],
      "execution_count": 26,
      "outputs": [
        {
          "output_type": "stream",
          "name": "stdout",
          "text": [
            "Este es el resultado de usar tokenizer_español.encode: [11, 13047, 16755, 294, 15271, 315, 225, 5263, 227, 21292, 887, 211, 2733, 8293, 27, 12]\n",
            "\n",
            "Este es el resultado de usar solo tokenizer_español: [11, 13047, 16755, 294, 15271, 315, 225, 5263, 227, 21292, 887, 211, 2733, 8293, 27, 12]\n",
            "\n",
            "Es exactamente lo mismo!!\n"
          ]
        }
      ]
    },
    {
      "cell_type": "markdown",
      "metadata": {
        "id": "E8qVOu52NBx4"
      },
      "source": [
        "Si tenemos dos textos se tendrá que crear un padding para convertir al mismo tamaño los tensores,"
      ]
    },
    {
      "cell_type": "code",
      "metadata": {
        "id": "v6Cin-vvNTsA",
        "colab": {
          "base_uri": "https://localhost:8080/"
        },
        "outputId": "7fbe5a8b-c580-40c4-d7f9-73ebf65c947e"
      },
      "source": [
        "texto_corto = \"Este texto es corto\"\n",
        "texto_largo = \"Este texto es largo y un poco aburrido\"\n",
        "\n",
        "corto_encoded = tokenizer_español(texto_corto)[\"input_ids\"]\n",
        "largo_encoded = tokenizer_español(texto_largo)[\"input_ids\"]\n",
        "\n",
        "len(corto_encoded), len(largo_encoded)"
      ],
      "execution_count": 27,
      "outputs": [
        {
          "output_type": "execute_result",
          "data": {
            "text/plain": [
              "(6, 11)"
            ]
          },
          "metadata": {},
          "execution_count": 27
        }
      ]
    },
    {
      "cell_type": "code",
      "metadata": {
        "id": "JmO-KiAJNx6v"
      },
      "source": [
        "secuencia_con_padding = tokenizer_español([texto_corto, texto_largo], padding = True)"
      ],
      "execution_count": 28,
      "outputs": []
    },
    {
      "cell_type": "markdown",
      "metadata": {
        "id": "ymtxUf2A5rFS"
      },
      "source": [
        "El padding lo notamos en en la `key` de `secuencia_con_padding` llamada `attention_mask`. Profundizemos en esto."
      ]
    },
    {
      "cell_type": "code",
      "metadata": {
        "id": "-KHPGYB35jiX",
        "colab": {
          "base_uri": "https://localhost:8080/"
        },
        "outputId": "bdf30e1e-75ee-4daa-bec4-82fcb6bd63d6"
      },
      "source": [
        "secuencia_con_padding"
      ],
      "execution_count": 16,
      "outputs": [
        {
          "output_type": "execute_result",
          "data": {
            "text/plain": [
              "{'input_ids': [[11, 1648, 7552, 294, 13429, 12, 0, 0, 0, 0, 0], [11, 1648, 7552, 294, 3646, 101, 220, 2578, 25465, 18834, 12]], 'token_type_ids': [[0, 0, 0, 0, 0, 0, 0, 0, 0, 0, 0], [0, 0, 0, 0, 0, 0, 0, 0, 0, 0, 0]], 'attention_mask': [[1, 1, 1, 1, 1, 1, 0, 0, 0, 0, 0], [1, 1, 1, 1, 1, 1, 1, 1, 1, 1, 1]]}"
            ]
          },
          "metadata": {},
          "execution_count": 16
        }
      ]
    },
    {
      "cell_type": "markdown",
      "metadata": {
        "id": "qcPgmj-ZORYh"
      },
      "source": [
        "Como tal, tokenizer nos devuelve un diccionario con tres keys: `'input_ids', 'token_type_ids', 'attention_mask'`. En este momento solo queremos mostrar `input_ids`. Interesantemente, con BETO el padding se realiza con el token especial `[PAD]` (el 1) en vez de con un cero, pues esta posición está reservada para el token especial `[MASK]`."
      ]
    },
    {
      "cell_type": "code",
      "metadata": {
        "id": "GCwA04sION2K",
        "colab": {
          "base_uri": "https://localhost:8080/"
        },
        "outputId": "e9ffd9c2-faef-458a-9ad2-839fec902f1f"
      },
      "source": [
        "secuencia_con_padding.keys()"
      ],
      "execution_count": 29,
      "outputs": [
        {
          "output_type": "execute_result",
          "data": {
            "text/plain": [
              "dict_keys(['input_ids', 'token_type_ids', 'attention_mask'])"
            ]
          },
          "metadata": {},
          "execution_count": 29
        }
      ]
    },
    {
      "cell_type": "code",
      "metadata": {
        "id": "jhpRv_h6NAHS",
        "colab": {
          "base_uri": "https://localhost:8080/"
        },
        "outputId": "37fa60c4-0bab-4a5b-9277-c9d70352d9c0"
      },
      "source": [
        "secuencia_con_padding['input_ids']"
      ],
      "execution_count": 18,
      "outputs": [
        {
          "output_type": "execute_result",
          "data": {
            "text/plain": [
              "[[11, 1648, 7552, 294, 13429, 12, 0, 0, 0, 0, 0],\n",
              " [11, 1648, 7552, 294, 3646, 101, 220, 2578, 25465, 18834, 12]]"
            ]
          },
          "metadata": {},
          "execution_count": 18
        }
      ]
    },
    {
      "cell_type": "markdown",
      "metadata": {
        "id": "-wB5NWtiUl6I"
      },
      "source": [
        "Podemos usar un el método `decode` de nuestro tokenizer para observar lo que cada id significa."
      ]
    },
    {
      "cell_type": "code",
      "metadata": {
        "id": "eHMVt6qBUzxQ",
        "colab": {
          "base_uri": "https://localhost:8080/"
        },
        "outputId": "4e338a2e-9334-4a91-aff6-c12c7ad7fdc1"
      },
      "source": [
        "tokenizer_español.decode(secuencia_con_padding['input_ids'][0]), tokenizer_español.decode(secuencia_con_padding['input_ids'][1])"
      ],
      "execution_count": 19,
      "outputs": [
        {
          "output_type": "execute_result",
          "data": {
            "text/plain": [
              "('[CLS] Este texto es corto [SEP] [PAD] [PAD] [PAD] [PAD] [PAD]',\n",
              " '[CLS] Este texto es largo y un poco aburrido [SEP]')"
            ]
          },
          "metadata": {},
          "execution_count": 19
        }
      ]
    },
    {
      "cell_type": "markdown",
      "metadata": {
        "id": "C1HQ4qKAO-lm"
      },
      "source": [
        "Con `attention_mask` podemos ver la parte de los enunciados que tuvieron padding. A pesar de que el padding se realizó con el token 1 en vez del 0, notamos que la `attention_mask` detecta sin nigún problema donde se realizó el padding."
      ]
    },
    {
      "cell_type": "code",
      "metadata": {
        "id": "6O7Y7w-PPrIV",
        "colab": {
          "base_uri": "https://localhost:8080/"
        },
        "outputId": "14fc3fd1-06ea-42e8-b1b3-83559cfc24b7"
      },
      "source": [
        "secuencia_con_padding['attention_mask']"
      ],
      "execution_count": 20,
      "outputs": [
        {
          "output_type": "execute_result",
          "data": {
            "text/plain": [
              "[[1, 1, 1, 1, 1, 1, 0, 0, 0, 0, 0], [1, 1, 1, 1, 1, 1, 1, 1, 1, 1, 1]]"
            ]
          },
          "metadata": {},
          "execution_count": 20
        }
      ]
    },
    {
      "cell_type": "markdown",
      "metadata": {
        "id": "AO1ADXhuQ6JK"
      },
      "source": [
        "La última key producto de aplicar tokenizer es `token_type_ids`. Esta nos ayudará para tareas como clasificación de secuencias o para responder preguntas. Lo que hacemos es unir nuestros textos en una sola secuencia con ayuda de los tokens especiales 5 `[CLS]` y 6 `[SEP]`. "
      ]
    },
    {
      "cell_type": "markdown",
      "metadata": {
        "id": "86Qx-nhE4u-R"
      },
      "source": [
        "El modelo junta ambas secuencias en un único tensor. Por ejemplo, en el caso de resolver una pregunta, la pregunta quedaría con 0s y la respuesta con 1s en nuestra `token_type_ids`."
      ]
    },
    {
      "cell_type": "code",
      "metadata": {
        "id": "AYPN9Pw0RtVH"
      },
      "source": [
        "secuencia = tokenizer_español(\"Esta clase es sobre cómo utilizar BETO\", \"¿Sobre qué es esta clase?\")"
      ],
      "execution_count": 21,
      "outputs": []
    },
    {
      "cell_type": "code",
      "metadata": {
        "id": "BJ0UNYDT5BNM",
        "colab": {
          "base_uri": "https://localhost:8080/"
        },
        "outputId": "2889ae7f-2649-4b00-e819-54d61580968e"
      },
      "source": [
        "secuencia[\"token_type_ids\"], tokenizer_español.decode(secuencia['input_ids'])"
      ],
      "execution_count": 22,
      "outputs": [
        {
          "output_type": "execute_result",
          "data": {
            "text/plain": [
              "([0, 0, 0, 0, 0, 0, 0, 0, 0, 0, 1, 1, 1, 1, 1, 1, 1, 1],\n",
              " '[CLS] Esta clase es sobre cómo utilizar BETO [SEP] ¿ Sobre qué es esta clase? [SEP]')"
            ]
          },
          "metadata": {},
          "execution_count": 22
        }
      ]
    },
    {
      "cell_type": "markdown",
      "metadata": {
        "id": "nzFCup_gWekE"
      },
      "source": [
        "Notamos que nos une ambos enunciados en uno solo, no hay necesidad de usar padding."
      ]
    },
    {
      "cell_type": "markdown",
      "metadata": {
        "id": "mFpfzBIP8CBz"
      },
      "source": [
        "## Lo que sigue..."
      ]
    },
    {
      "cell_type": "markdown",
      "metadata": {
        "id": "BdIm9GFw7vxY"
      },
      "source": [
        "En el siguiente *notebook* importaremos un dataset original y lo preparemos con BETO para clasificación."
      ]
    }
  ]
}